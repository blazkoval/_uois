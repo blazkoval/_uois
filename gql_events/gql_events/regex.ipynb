{
 "cells": [
  {
   "cell_type": "code",
   "execution_count": 62,
   "id": "946cd25f-b51c-47e2-8dce-384cc73e5d83",
   "metadata": {},
   "outputs": [],
   "source": [
    "baseUrl = \"https://apl.unob.cz/StudijniProgramy/Studium/4/Kyberneticka-bezpecnost\""
   ]
  },
  {
   "cell_type": "markdown",
   "id": "200f568c-3921-4120-8561-558acb2a92ff",
   "metadata": {},
   "source": [
    "https://docs.aiohttp.org/en/stable/client_quickstart.html"
   ]
  },
  {
   "cell_type": "code",
   "execution_count": 63,
   "id": "c471e009-fb48-4bac-834c-987ee4d91607",
   "metadata": {},
   "outputs": [],
   "source": [
    "import aiohttp"
   ]
  },
  {
   "cell_type": "code",
   "execution_count": 64,
   "id": "162eb5f1-2aa8-4fe7-947b-3729c3a22eac",
   "metadata": {},
   "outputs": [
    {
     "name": "stdout",
     "output_type": "stream",
     "text": [
      "200\n"
     ]
    }
   ],
   "source": [
    "async with aiohttp.ClientSession() as session:\n",
    "    async with session.get(baseUrl) as resp:\n",
    "        print(resp.status)\n",
    "        htmlData = await resp.text()"
   ]
  },
  {
   "cell_type": "code",
   "execution_count": 65,
   "id": "d6ddd3ad-c5a6-432a-9431-2b546b30fe9e",
   "metadata": {},
   "outputs": [
    {
     "name": "stdout",
     "output_type": "stream",
     "text": [
      "2543 4042\n"
     ]
    }
   ],
   "source": [
    "positionStart = htmlData.find('<table')\n",
    "positionEnd = htmlData.find('</table')\n",
    "print(positionStart, positionEnd)"
   ]
  },
  {
   "cell_type": "code",
   "execution_count": 66,
   "id": "9b3eeace-aec2-4541-bcfd-ea065a076e90",
   "metadata": {},
   "outputs": [
    {
     "name": "stdout",
     "output_type": "stream",
     "text": [
      "            =\"table table-sm studijniProgramTable\">\n",
      "            </tr>d>istersk&#xFD;rogramu\n",
      "            </tr>d>zen&#x10D;n&#xED;\n",
      "            </tr>d>10D;e&#x161;tina\n",
      "            </tr>d>etstudia\n",
      "            </tr>d>ulta vojensk&#xFD;ch technologi&#xED;\n",
      "            </tr>d>Uchazeči podávají přihlášku ke studiu ve studijním programu elektronickou formou na předepsaném formuláři. Požadavky na přijímací řízení jsou schvalovány akademickým senátem Fakulty vojenských technologií na příslušný akademický rok.</p><p>Přijímací zkouška standardně zahrnuje test studijních předpokladů.</p>\n"
     ]
    }
   ],
   "source": [
    "tableData = htmlData[positionStart:positionEnd]\n",
    "rows = tableData.split('<tr')\n",
    "for row in rows:\n",
    "    print(row.replace('\\n', ''))"
   ]
  },
  {
   "cell_type": "code",
   "execution_count": 67,
   "id": "47bca2e7-a42e-4e7f-8050-01fa2f33abda",
   "metadata": {},
   "outputs": [
    {
     "data": {
      "text/plain": [
       "'\\\\/StudijniProgramy\\\\/PredmetDetail\\\\/([0-9]+)\\\\/Algoritmizace-a-programovani'"
      ]
     },
     "execution_count": 67,
     "metadata": {},
     "output_type": "execute_result"
    }
   ],
   "source": [
    "import re\n",
    "\n",
    "\"\\/StudijniProgramy\\/PredmetDetail\\/([0-9]+)\\/Algoritmizace-a-programovani\""
   ]
  },
  {
   "cell_type": "code",
   "execution_count": 68,
   "id": "8868fbb1-8810-4874-ad11-a0a06ee64c2f",
   "metadata": {},
   "outputs": [
    {
     "data": {
      "text/plain": [
       "'<table class=\"table table-sm studijniProgramTable\">\\r\\n            <tr>\\r\\n              <td>\\r\\n                Typ studijního programu\\r\\n              </td>\\r\\n              <td>\\r\\n                magistersk&#xFD;\\r\\n              </td>\\r\\n            </tr>\\r\\n            <tr>\\r\\n              <td>\\r\\n                Forma studia\\r\\n              </td>\\r\\n              <td>\\r\\n                prezen&#x10D;n&#xED;\\r\\n              </td>\\r\\n            </tr>\\r\\n            <tr>\\r\\n              <td>\\r\\n                Jazyk studia\\r\\n              </td>\\r\\n              <td>\\r\\n                &#x10D;e&#x161;tina\\r\\n              </td>\\r\\n            </tr>\\r\\n            <tr>\\r\\n              <td>\\r\\n                Doba studia\\r\\n              </td>\\r\\n              <td>\\r\\n                5 let\\r\\n              </td>\\r\\n            </tr>\\r\\n            <tr>\\r\\n              <td>\\r\\n                Garantuje\\r\\n              </td>\\r\\n              <td>\\r\\n                Fakulta vojensk&#xFD;ch technologi&#xED;\\r\\n              </td>\\r\\n            </tr>\\r\\n            <tr>\\r\\n              <td>\\r\\n                Podmínky přijetí ke studiu\\r\\n              </td>\\r\\n              <td>\\r\\n                <p>Uchazeči podávají přihlášku ke studiu ve studijním programu elektronickou formou na předepsaném formuláři. Požadavky na přijímací řízení jsou schvalovány akademickým senátem Fakulty vojenských technologií na příslušný akademický rok.</p><p>Přijímací zkouška standardně zahrnuje test studijních předpokladů.</p>\\r\\n              </td>\\r\\n            </tr>\\r\\n          '"
      ]
     },
     "execution_count": 68,
     "metadata": {},
     "output_type": "execute_result"
    }
   ],
   "source": [
    "htmlData[positionStart:positionEnd]"
   ]
  },
  {
   "cell_type": "markdown",
   "id": "4a9679a4-653d-4866-a4b5-582b8ffcb60d",
   "metadata": {},
   "source": [
    "# Lekce II"
   ]
  },
  {
   "cell_type": "code",
   "execution_count": 69,
   "id": "1ed7d086-61c9-4ee5-adb2-8d798a376f33",
   "metadata": {},
   "outputs": [
    {
     "name": "stdout",
     "output_type": "stream",
     "text": [
      "<function func at 0x7fac8a7b6440> volání s parametrem 2\n",
      "<function func at 0x7fac8a7b6440> volání s parametrem 4\n",
      "<function funcB at 0x7faca02f4310> volání s parametrem Josef\n"
     ]
    },
    {
     "data": {
      "text/plain": [
       "'Ahoj Josef'"
      ]
     },
     "execution_count": 69,
     "metadata": {},
     "output_type": "execute_result"
    }
   ],
   "source": [
    "def func(a):\n",
    "    return a + 1\n",
    "\n",
    "def funcB(a):\n",
    "    return \"Ahoj \" + a\n",
    "\n",
    "def logit(func):\n",
    "    def newFunc(a):\n",
    "        print(func, 'volání s parametrem', a)\n",
    "        return func(a)\n",
    "    return newFunc\n",
    "\n",
    "b = logit(func)\n",
    "b(2)\n",
    "logit(func)(4)\n",
    "logit(funcB)(\"Josef\")"
   ]
  },
  {
   "cell_type": "code",
   "execution_count": 70,
   "id": "1f27ad6f-515a-4cc4-acc8-983e65badead",
   "metadata": {},
   "outputs": [
    {
     "name": "stdout",
     "output_type": "stream",
     "text": [
      "<function func at 0x7fac8a7b5c60> volání s parametrem 4\n",
      "<function funcB at 0x7fac8a7b5870> volání s parametrem Josef\n"
     ]
    }
   ],
   "source": [
    "@logit\n",
    "def func(a):\n",
    "    return a + 1\n",
    "\n",
    "@logit\n",
    "def funcB(a):\n",
    "    return \"Ahoj \" + a\n",
    "\n",
    "func(4)\n",
    "funcB(\"Josef\");"
   ]
  },
  {
   "cell_type": "markdown",
   "id": "5f3966df-5c85-4b05-bad4-4c5f55210c8f",
   "metadata": {},
   "source": [
    "Pracujeme s daty stahovanými z internetu. Především ve fázi experimentování je velmi žádoucí stejná data nestahovat opakovaně. V případě synchronní funkce bychom mohli využít dekorátor @cache. Pro asynchronní funkci si vytvoříme podobnou funkci sami."
   ]
  },
  {
   "cell_type": "code",
   "execution_count": 71,
   "id": "84fd3d79-c3eb-4033-9163-ff6350d108ec",
   "metadata": {},
   "outputs": [],
   "source": [
    "def singleCall(asyncFunc):\n",
    "    awaitedResults = {} \n",
    "    async def resultFunc(singleParam):\n",
    "        result = awaitedResults.get(singleParam, None)\n",
    "        if result is None:\n",
    "            result = await asyncFunc(singleParam)\n",
    "            awaitedResults[singleParam] = result\n",
    "        return result\n",
    "    return resultFunc"
   ]
  },
  {
   "cell_type": "markdown",
   "id": "d5f0c5f4-f749-4c95-bf80-e8592132fbae",
   "metadata": {},
   "source": [
    "Stahování http data \"obalíme\" do funkce."
   ]
  },
  {
   "cell_type": "code",
   "execution_count": 72,
   "id": "f9f89337-9306-481b-8926-d6e9849698f5",
   "metadata": {},
   "outputs": [],
   "source": [
    "import aiohttp\n",
    "\n",
    "baseUrl = \"https://apl.unob.cz/StudijniProgramy/Studium/4/Kyberneticka-bezpecnost\"\n",
    "\n",
    "@singleCall\n",
    "async def getData(baseUrl): \n",
    "    async with aiohttp.ClientSession() as session:\n",
    "        async with session.get(baseUrl) as resp:\n",
    "            htmlData = await resp.text()\n",
    "    return htmlData"
   ]
  },
  {
   "cell_type": "markdown",
   "id": "cce9645c-50b4-4c8d-92f3-6af876762a03",
   "metadata": {},
   "source": [
    "V získané stránce najdeme všechny výskyty vzoru. Všimněte si struktury na výstupu (tuple)."
   ]
  },
  {
   "cell_type": "code",
   "execution_count": 73,
   "id": "ca2eabc2-0cd1-46c9-be2f-55694c26f363",
   "metadata": {},
   "outputs": [
    {
     "name": "stdout",
     "output_type": "stream",
     "text": [
      "('/StudijniProgramy/PredmetDetail/3/Algoritmizace-a-programovani', '3', 'Algoritmizace-a-programovani')\n",
      "('/StudijniProgramy/PredmetDetail/448/Anglicky-jazyk', '448', 'Anglicky-jazyk')\n",
      "('/StudijniProgramy/PredmetDetail/327/Leadership', '327', 'Leadership')\n",
      "('/StudijniProgramy/PredmetDetail/602/Matematika-I', '602', 'Matematika-I')\n",
      "('/StudijniProgramy/PredmetDetail/664/Metodologie', '664', 'Metodologie')\n",
      "('/StudijniProgramy/PredmetDetail/416/Telesna-vychova', '416', 'Telesna-vychova')\n",
      "('/StudijniProgramy/PredmetDetail/673/Zaklady-prava', '673', 'Zaklady-prava')\n",
      "('/StudijniProgramy/PredmetDetail/449/Anglicky-jazyk', '449', 'Anglicky-jazyk')\n",
      "('/StudijniProgramy/PredmetDetail/597/Bezpecnost-a-obrana-statu', '597', 'Bezpecnost-a-obrana-statu')\n",
      "('/StudijniProgramy/PredmetDetail/660/Cislicova-technika', '660', 'Cislicova-technika')\n",
      "('/StudijniProgramy/PredmetDetail/4/Informatika', '4', 'Informatika')\n",
      "('/StudijniProgramy/PredmetDetail/328/Leadership', '328', 'Leadership')\n",
      "('/StudijniProgramy/PredmetDetail/603/Matematika-II', '603', 'Matematika-II')\n",
      "('/StudijniProgramy/PredmetDetail/417/Telesna-vychova', '417', 'Telesna-vychova')\n",
      "('/StudijniProgramy/PredmetDetail/674/Zaklady-prava', '674', 'Zaklady-prava')\n",
      "('/StudijniProgramy/PredmetDetail/450/Anglicky-jazyk', '450', 'Anglicky-jazyk')\n",
      "('/StudijniProgramy/PredmetDetail/658/Architektury-vypocetnich-systemu', '658', 'Architektury-vypocetnich-systemu')\n",
      "('/StudijniProgramy/PredmetDetail/5/Informatika', '5', 'Informatika')\n",
      "('/StudijniProgramy/PredmetDetail/329/Leadership', '329', 'Leadership')\n",
      "('/StudijniProgramy/PredmetDetail/604/Matematika-III', '604', 'Matematika-III')\n",
      "('/StudijniProgramy/PredmetDetail/418/Telesna-vychova', '418', 'Telesna-vychova')\n",
      "('/StudijniProgramy/PredmetDetail/675/Zaklady-prava', '675', 'Zaklady-prava')\n",
      "('/StudijniProgramy/PredmetDetail/451/Anglicky-jazyk', '451', 'Anglicky-jazyk')\n",
      "('/StudijniProgramy/PredmetDetail/6/Informatika', '6', 'Informatika')\n",
      "('/StudijniProgramy/PredmetDetail/662/Krizove-rizeni', '662', 'Krizove-rizeni')\n",
      "('/StudijniProgramy/PredmetDetail/605/Matematika-IV', '605', 'Matematika-IV')\n",
      "('/StudijniProgramy/PredmetDetail/107/Projektovy-management', '107', 'Projektovy-management')\n",
      "('/StudijniProgramy/PredmetDetail/419/Telesna-vychova', '419', 'Telesna-vychova')\n",
      "('/StudijniProgramy/PredmetDetail/670/Teorie-grafu', '670', 'Teorie-grafu')\n",
      "('/StudijniProgramy/PredmetDetail/645/Analyza-informacnich-zdroju', '645', 'Analyza-informacnich-zdroju')\n",
      "('/StudijniProgramy/PredmetDetail/452/Anglicky-jazyk', '452', 'Anglicky-jazyk')\n",
      "('/StudijniProgramy/PredmetDetail/7/Informatika', '7', 'Informatika')\n",
      "('/StudijniProgramy/PredmetDetail/598/Kyberneticka-bezpecnost', '598', 'Kyberneticka-bezpecnost')\n",
      "('/StudijniProgramy/PredmetDetail/666/Pocitacove-site-a-jejich-bezpecnost', '666', 'Pocitacove-site-a-jejich-bezpecnost')\n",
      "('/StudijniProgramy/PredmetDetail/108/Projektovy-management', '108', 'Projektovy-management')\n",
      "('/StudijniProgramy/PredmetDetail/420/Telesna-vychova', '420', 'Telesna-vychova')\n",
      "('/StudijniProgramy/PredmetDetail/646/Analyza-informacnich-zdroju', '646', 'Analyza-informacnich-zdroju')\n",
      "('/StudijniProgramy/PredmetDetail/453/Anglicky-jazyk', '453', 'Anglicky-jazyk')\n",
      "('/StudijniProgramy/PredmetDetail/8/Informatika', '8', 'Informatika')\n",
      "('/StudijniProgramy/PredmetDetail/599/Kyberneticka-bezpecnost', '599', 'Kyberneticka-bezpecnost')\n",
      "('/StudijniProgramy/PredmetDetail/667/Pocitacove-site-a-jejich-bezpecnost', '667', 'Pocitacove-site-a-jejich-bezpecnost')\n",
      "('/StudijniProgramy/PredmetDetail/421/Telesna-vychova', '421', 'Telesna-vychova')\n",
      "('/StudijniProgramy/PredmetDetail/671/Teorie-informace', '671', 'Teorie-informace')\n",
      "('/StudijniProgramy/PredmetDetail/647/Analyza-informacnich-zdroju', '647', 'Analyza-informacnich-zdroju')\n",
      "('/StudijniProgramy/PredmetDetail/454/Anglicky-jazyk', '454', 'Anglicky-jazyk')\n",
      "('/StudijniProgramy/PredmetDetail/651/Aplikovane-bezpecnostni-technologie', '651', 'Aplikovane-bezpecnostni-technologie')\n",
      "('/StudijniProgramy/PredmetDetail/663/Kryptograficke-algoritmy-a-protokoly', '663', 'Kryptograficke-algoritmy-a-protokoly')\n",
      "('/StudijniProgramy/PredmetDetail/600/Kyberneticka-bezpecnost', '600', 'Kyberneticka-bezpecnost')\n",
      "('/StudijniProgramy/PredmetDetail/668/Pocitacove-site-a-jejich-bezpecnost', '668', 'Pocitacove-site-a-jejich-bezpecnost')\n",
      "('/StudijniProgramy/PredmetDetail/422/Telesna-vychova', '422', 'Telesna-vychova')\n",
      "('/StudijniProgramy/PredmetDetail/65885/Francouzsky-jazyk', '65885', 'Francouzsky-jazyk')\n",
      "('/StudijniProgramy/PredmetDetail/65889/Nemecky-jazyk', '65889', 'Nemecky-jazyk')\n",
      "('/StudijniProgramy/PredmetDetail/606/Rusky-jazyk', '606', 'Rusky-jazyk')\n",
      "('/StudijniProgramy/PredmetDetail/648/Analyza-informacnich-zdroju', '648', 'Analyza-informacnich-zdroju')\n",
      "('/StudijniProgramy/PredmetDetail/644/Analyzy-a-kriticke-mysleni', '644', 'Analyzy-a-kriticke-mysleni')\n",
      "('/StudijniProgramy/PredmetDetail/455/Anglicky-jazyk', '455', 'Anglicky-jazyk')\n",
      "('/StudijniProgramy/PredmetDetail/652/Aplikovane-bezpecnostni-technologie', '652', 'Aplikovane-bezpecnostni-technologie')\n",
      "('/StudijniProgramy/PredmetDetail/601/Kyberneticka-bezpecnost', '601', 'Kyberneticka-bezpecnost')\n",
      "('/StudijniProgramy/PredmetDetail/669/Pocitacove-site-a-jejich-bezpecnost', '669', 'Pocitacove-site-a-jejich-bezpecnost')\n",
      "('/StudijniProgramy/PredmetDetail/423/Telesna-vychova', '423', 'Telesna-vychova')\n",
      "('/StudijniProgramy/PredmetDetail/65886/Francouzsky-jazyk', '65886', 'Francouzsky-jazyk')\n",
      "('/StudijniProgramy/PredmetDetail/65890/Nemecky-jazyk', '65890', 'Nemecky-jazyk')\n",
      "('/StudijniProgramy/PredmetDetail/607/Rusky-jazyk', '607', 'Rusky-jazyk')\n",
      "('/StudijniProgramy/PredmetDetail/649/Analyza-informacnich-zdroju', '649', 'Analyza-informacnich-zdroju')\n",
      "('/StudijniProgramy/PredmetDetail/456/Anglicky-jazyk', '456', 'Anglicky-jazyk')\n",
      "('/StudijniProgramy/PredmetDetail/653/Aplikovane-bezpecnostni-technologie', '653', 'Aplikovane-bezpecnostni-technologie')\n",
      "('/StudijniProgramy/PredmetDetail/661/Forenzni-analyza', '661', 'Forenzni-analyza')\n",
      "('/StudijniProgramy/PredmetDetail/665/Penetracni-testovani', '665', 'Penetracni-testovani')\n",
      "('/StudijniProgramy/PredmetDetail/424/Telesna-vychova', '424', 'Telesna-vychova')\n",
      "('/StudijniProgramy/PredmetDetail/672/Vyvoj-a-nasazeni-malware', '672', 'Vyvoj-a-nasazeni-malware')\n",
      "('/StudijniProgramy/PredmetDetail/65887/Francouzsky-jazyk', '65887', 'Francouzsky-jazyk')\n",
      "('/StudijniProgramy/PredmetDetail/65891/Nemecky-jazyk', '65891', 'Nemecky-jazyk')\n",
      "('/StudijniProgramy/PredmetDetail/608/Rusky-jazyk', '608', 'Rusky-jazyk')\n",
      "('/StudijniProgramy/PredmetDetail/650/Analyza-informacnich-zdroju', '650', 'Analyza-informacnich-zdroju')\n",
      "('/StudijniProgramy/PredmetDetail/457/Anglicky-jazyk', '457', 'Anglicky-jazyk')\n",
      "('/StudijniProgramy/PredmetDetail/659/Botnetove-site', '659', 'Botnetove-site')\n",
      "('/StudijniProgramy/PredmetDetail/425/Telesna-vychova', '425', 'Telesna-vychova')\n",
      "('/StudijniProgramy/PredmetDetail/676/Zpracovani-diplomove-prace-a-priprava-na-SZZ', '676', 'Zpracovani-diplomove-prace-a-priprava-na-SZZ')\n",
      "('/StudijniProgramy/PredmetDetail/65888/Francouzsky-jazyk', '65888', 'Francouzsky-jazyk')\n",
      "('/StudijniProgramy/PredmetDetail/65892/Nemecky-jazyk', '65892', 'Nemecky-jazyk')\n",
      "('/StudijniProgramy/PredmetDetail/609/Rusky-jazyk', '609', 'Rusky-jazyk')\n"
     ]
    }
   ],
   "source": [
    "import re\n",
    "\n",
    "textData = await getData(baseUrl)\n",
    "\n",
    "processor = re.compile('(\\/StudijniProgramy\\/PredmetDetail\\/([0-9]+)\\/([^\\\"]+))')\n",
    "items = processor.findall(textData)\n",
    "for item in items:\n",
    "    print(item)"
   ]
  },
  {
   "cell_type": "markdown",
   "id": "8138c0de-28cb-4974-8632-aea7f1fabab2",
   "metadata": {},
   "source": [
    "Pro lepší použití vytvoříme funkci. \n",
    "\n",
    "Lze použít dekorátor @cache? Opatrně s tvrzením!"
   ]
  },
  {
   "cell_type": "code",
   "execution_count": null,
   "id": "53f3fc49-efa0-42b1-9b09-c8f1648baf1f",
   "metadata": {},
   "outputs": [],
   "source": []
  },
  {
   "cell_type": "markdown",
   "id": "2608bcc4-dea9-4775-b72e-2abd68c896cc",
   "metadata": {},
   "source": [
    "## Extrakce dat"
   ]
  },
  {
   "cell_type": "code",
   "execution_count": 74,
   "id": "abd68ef7-e928-41ab-a393-f5c95b99554d",
   "metadata": {},
   "outputs": [],
   "source": [
    "def extractData(data, pattern):\n",
    "    processor = re.compile(pattern)\n",
    "    items = processor.findall(data)\n",
    "    for item in items:\n",
    "        yield item"
   ]
  },
  {
   "cell_type": "markdown",
   "id": "fd7541ba-929d-4ef2-864c-43a26def4407",
   "metadata": {},
   "source": [
    "Jednotlivé prvky tuple pojmenujeme."
   ]
  },
  {
   "cell_type": "code",
   "execution_count": 75,
   "id": "60a63238-430a-45e1-a3bc-fee1add13478",
   "metadata": {},
   "outputs": [
    {
     "name": "stdout",
     "output_type": "stream",
     "text": [
      "{'url': '/StudijniProgramy/PredmetDetail/3/Algoritmizace-a-programovani', 'id': '3', 'name': 'Algoritmizace-a-programovani'}\n",
      "{'url': '/StudijniProgramy/PredmetDetail/448/Anglicky-jazyk', 'id': '448', 'name': 'Anglicky-jazyk'}\n",
      "{'url': '/StudijniProgramy/PredmetDetail/327/Leadership', 'id': '327', 'name': 'Leadership'}\n",
      "{'url': '/StudijniProgramy/PredmetDetail/602/Matematika-I', 'id': '602', 'name': 'Matematika-I'}\n",
      "{'url': '/StudijniProgramy/PredmetDetail/664/Metodologie', 'id': '664', 'name': 'Metodologie'}\n",
      "{'url': '/StudijniProgramy/PredmetDetail/416/Telesna-vychova', 'id': '416', 'name': 'Telesna-vychova'}\n",
      "{'url': '/StudijniProgramy/PredmetDetail/673/Zaklady-prava', 'id': '673', 'name': 'Zaklady-prava'}\n",
      "{'url': '/StudijniProgramy/PredmetDetail/449/Anglicky-jazyk', 'id': '449', 'name': 'Anglicky-jazyk'}\n",
      "{'url': '/StudijniProgramy/PredmetDetail/597/Bezpecnost-a-obrana-statu', 'id': '597', 'name': 'Bezpecnost-a-obrana-statu'}\n",
      "{'url': '/StudijniProgramy/PredmetDetail/660/Cislicova-technika', 'id': '660', 'name': 'Cislicova-technika'}\n",
      "{'url': '/StudijniProgramy/PredmetDetail/4/Informatika', 'id': '4', 'name': 'Informatika'}\n",
      "{'url': '/StudijniProgramy/PredmetDetail/328/Leadership', 'id': '328', 'name': 'Leadership'}\n",
      "{'url': '/StudijniProgramy/PredmetDetail/603/Matematika-II', 'id': '603', 'name': 'Matematika-II'}\n",
      "{'url': '/StudijniProgramy/PredmetDetail/417/Telesna-vychova', 'id': '417', 'name': 'Telesna-vychova'}\n",
      "{'url': '/StudijniProgramy/PredmetDetail/674/Zaklady-prava', 'id': '674', 'name': 'Zaklady-prava'}\n",
      "{'url': '/StudijniProgramy/PredmetDetail/450/Anglicky-jazyk', 'id': '450', 'name': 'Anglicky-jazyk'}\n",
      "{'url': '/StudijniProgramy/PredmetDetail/658/Architektury-vypocetnich-systemu', 'id': '658', 'name': 'Architektury-vypocetnich-systemu'}\n",
      "{'url': '/StudijniProgramy/PredmetDetail/5/Informatika', 'id': '5', 'name': 'Informatika'}\n",
      "{'url': '/StudijniProgramy/PredmetDetail/329/Leadership', 'id': '329', 'name': 'Leadership'}\n",
      "{'url': '/StudijniProgramy/PredmetDetail/604/Matematika-III', 'id': '604', 'name': 'Matematika-III'}\n",
      "{'url': '/StudijniProgramy/PredmetDetail/418/Telesna-vychova', 'id': '418', 'name': 'Telesna-vychova'}\n",
      "{'url': '/StudijniProgramy/PredmetDetail/675/Zaklady-prava', 'id': '675', 'name': 'Zaklady-prava'}\n",
      "{'url': '/StudijniProgramy/PredmetDetail/451/Anglicky-jazyk', 'id': '451', 'name': 'Anglicky-jazyk'}\n",
      "{'url': '/StudijniProgramy/PredmetDetail/6/Informatika', 'id': '6', 'name': 'Informatika'}\n",
      "{'url': '/StudijniProgramy/PredmetDetail/662/Krizove-rizeni', 'id': '662', 'name': 'Krizove-rizeni'}\n",
      "{'url': '/StudijniProgramy/PredmetDetail/605/Matematika-IV', 'id': '605', 'name': 'Matematika-IV'}\n",
      "{'url': '/StudijniProgramy/PredmetDetail/107/Projektovy-management', 'id': '107', 'name': 'Projektovy-management'}\n",
      "{'url': '/StudijniProgramy/PredmetDetail/419/Telesna-vychova', 'id': '419', 'name': 'Telesna-vychova'}\n",
      "{'url': '/StudijniProgramy/PredmetDetail/670/Teorie-grafu', 'id': '670', 'name': 'Teorie-grafu'}\n",
      "{'url': '/StudijniProgramy/PredmetDetail/645/Analyza-informacnich-zdroju', 'id': '645', 'name': 'Analyza-informacnich-zdroju'}\n",
      "{'url': '/StudijniProgramy/PredmetDetail/452/Anglicky-jazyk', 'id': '452', 'name': 'Anglicky-jazyk'}\n",
      "{'url': '/StudijniProgramy/PredmetDetail/7/Informatika', 'id': '7', 'name': 'Informatika'}\n",
      "{'url': '/StudijniProgramy/PredmetDetail/598/Kyberneticka-bezpecnost', 'id': '598', 'name': 'Kyberneticka-bezpecnost'}\n",
      "{'url': '/StudijniProgramy/PredmetDetail/666/Pocitacove-site-a-jejich-bezpecnost', 'id': '666', 'name': 'Pocitacove-site-a-jejich-bezpecnost'}\n",
      "{'url': '/StudijniProgramy/PredmetDetail/108/Projektovy-management', 'id': '108', 'name': 'Projektovy-management'}\n",
      "{'url': '/StudijniProgramy/PredmetDetail/420/Telesna-vychova', 'id': '420', 'name': 'Telesna-vychova'}\n",
      "{'url': '/StudijniProgramy/PredmetDetail/646/Analyza-informacnich-zdroju', 'id': '646', 'name': 'Analyza-informacnich-zdroju'}\n",
      "{'url': '/StudijniProgramy/PredmetDetail/453/Anglicky-jazyk', 'id': '453', 'name': 'Anglicky-jazyk'}\n",
      "{'url': '/StudijniProgramy/PredmetDetail/8/Informatika', 'id': '8', 'name': 'Informatika'}\n",
      "{'url': '/StudijniProgramy/PredmetDetail/599/Kyberneticka-bezpecnost', 'id': '599', 'name': 'Kyberneticka-bezpecnost'}\n",
      "{'url': '/StudijniProgramy/PredmetDetail/667/Pocitacove-site-a-jejich-bezpecnost', 'id': '667', 'name': 'Pocitacove-site-a-jejich-bezpecnost'}\n",
      "{'url': '/StudijniProgramy/PredmetDetail/421/Telesna-vychova', 'id': '421', 'name': 'Telesna-vychova'}\n",
      "{'url': '/StudijniProgramy/PredmetDetail/671/Teorie-informace', 'id': '671', 'name': 'Teorie-informace'}\n",
      "{'url': '/StudijniProgramy/PredmetDetail/647/Analyza-informacnich-zdroju', 'id': '647', 'name': 'Analyza-informacnich-zdroju'}\n",
      "{'url': '/StudijniProgramy/PredmetDetail/454/Anglicky-jazyk', 'id': '454', 'name': 'Anglicky-jazyk'}\n",
      "{'url': '/StudijniProgramy/PredmetDetail/651/Aplikovane-bezpecnostni-technologie', 'id': '651', 'name': 'Aplikovane-bezpecnostni-technologie'}\n",
      "{'url': '/StudijniProgramy/PredmetDetail/663/Kryptograficke-algoritmy-a-protokoly', 'id': '663', 'name': 'Kryptograficke-algoritmy-a-protokoly'}\n",
      "{'url': '/StudijniProgramy/PredmetDetail/600/Kyberneticka-bezpecnost', 'id': '600', 'name': 'Kyberneticka-bezpecnost'}\n",
      "{'url': '/StudijniProgramy/PredmetDetail/668/Pocitacove-site-a-jejich-bezpecnost', 'id': '668', 'name': 'Pocitacove-site-a-jejich-bezpecnost'}\n",
      "{'url': '/StudijniProgramy/PredmetDetail/422/Telesna-vychova', 'id': '422', 'name': 'Telesna-vychova'}\n",
      "{'url': '/StudijniProgramy/PredmetDetail/65885/Francouzsky-jazyk', 'id': '65885', 'name': 'Francouzsky-jazyk'}\n",
      "{'url': '/StudijniProgramy/PredmetDetail/65889/Nemecky-jazyk', 'id': '65889', 'name': 'Nemecky-jazyk'}\n",
      "{'url': '/StudijniProgramy/PredmetDetail/606/Rusky-jazyk', 'id': '606', 'name': 'Rusky-jazyk'}\n",
      "{'url': '/StudijniProgramy/PredmetDetail/648/Analyza-informacnich-zdroju', 'id': '648', 'name': 'Analyza-informacnich-zdroju'}\n",
      "{'url': '/StudijniProgramy/PredmetDetail/644/Analyzy-a-kriticke-mysleni', 'id': '644', 'name': 'Analyzy-a-kriticke-mysleni'}\n",
      "{'url': '/StudijniProgramy/PredmetDetail/455/Anglicky-jazyk', 'id': '455', 'name': 'Anglicky-jazyk'}\n",
      "{'url': '/StudijniProgramy/PredmetDetail/652/Aplikovane-bezpecnostni-technologie', 'id': '652', 'name': 'Aplikovane-bezpecnostni-technologie'}\n",
      "{'url': '/StudijniProgramy/PredmetDetail/601/Kyberneticka-bezpecnost', 'id': '601', 'name': 'Kyberneticka-bezpecnost'}\n",
      "{'url': '/StudijniProgramy/PredmetDetail/669/Pocitacove-site-a-jejich-bezpecnost', 'id': '669', 'name': 'Pocitacove-site-a-jejich-bezpecnost'}\n",
      "{'url': '/StudijniProgramy/PredmetDetail/423/Telesna-vychova', 'id': '423', 'name': 'Telesna-vychova'}\n",
      "{'url': '/StudijniProgramy/PredmetDetail/65886/Francouzsky-jazyk', 'id': '65886', 'name': 'Francouzsky-jazyk'}\n",
      "{'url': '/StudijniProgramy/PredmetDetail/65890/Nemecky-jazyk', 'id': '65890', 'name': 'Nemecky-jazyk'}\n",
      "{'url': '/StudijniProgramy/PredmetDetail/607/Rusky-jazyk', 'id': '607', 'name': 'Rusky-jazyk'}\n",
      "{'url': '/StudijniProgramy/PredmetDetail/649/Analyza-informacnich-zdroju', 'id': '649', 'name': 'Analyza-informacnich-zdroju'}\n",
      "{'url': '/StudijniProgramy/PredmetDetail/456/Anglicky-jazyk', 'id': '456', 'name': 'Anglicky-jazyk'}\n",
      "{'url': '/StudijniProgramy/PredmetDetail/653/Aplikovane-bezpecnostni-technologie', 'id': '653', 'name': 'Aplikovane-bezpecnostni-technologie'}\n",
      "{'url': '/StudijniProgramy/PredmetDetail/661/Forenzni-analyza', 'id': '661', 'name': 'Forenzni-analyza'}\n",
      "{'url': '/StudijniProgramy/PredmetDetail/665/Penetracni-testovani', 'id': '665', 'name': 'Penetracni-testovani'}\n",
      "{'url': '/StudijniProgramy/PredmetDetail/424/Telesna-vychova', 'id': '424', 'name': 'Telesna-vychova'}\n",
      "{'url': '/StudijniProgramy/PredmetDetail/672/Vyvoj-a-nasazeni-malware', 'id': '672', 'name': 'Vyvoj-a-nasazeni-malware'}\n",
      "{'url': '/StudijniProgramy/PredmetDetail/65887/Francouzsky-jazyk', 'id': '65887', 'name': 'Francouzsky-jazyk'}\n",
      "{'url': '/StudijniProgramy/PredmetDetail/65891/Nemecky-jazyk', 'id': '65891', 'name': 'Nemecky-jazyk'}\n",
      "{'url': '/StudijniProgramy/PredmetDetail/608/Rusky-jazyk', 'id': '608', 'name': 'Rusky-jazyk'}\n",
      "{'url': '/StudijniProgramy/PredmetDetail/650/Analyza-informacnich-zdroju', 'id': '650', 'name': 'Analyza-informacnich-zdroju'}\n",
      "{'url': '/StudijniProgramy/PredmetDetail/457/Anglicky-jazyk', 'id': '457', 'name': 'Anglicky-jazyk'}\n",
      "{'url': '/StudijniProgramy/PredmetDetail/659/Botnetove-site', 'id': '659', 'name': 'Botnetove-site'}\n",
      "{'url': '/StudijniProgramy/PredmetDetail/425/Telesna-vychova', 'id': '425', 'name': 'Telesna-vychova'}\n",
      "{'url': '/StudijniProgramy/PredmetDetail/676/Zpracovani-diplomove-prace-a-priprava-na-SZZ', 'id': '676', 'name': 'Zpracovani-diplomove-prace-a-priprava-na-SZZ'}\n",
      "{'url': '/StudijniProgramy/PredmetDetail/65888/Francouzsky-jazyk', 'id': '65888', 'name': 'Francouzsky-jazyk'}\n",
      "{'url': '/StudijniProgramy/PredmetDetail/65892/Nemecky-jazyk', 'id': '65892', 'name': 'Nemecky-jazyk'}\n",
      "{'url': '/StudijniProgramy/PredmetDetail/609/Rusky-jazyk', 'id': '609', 'name': 'Rusky-jazyk'}\n"
     ]
    }
   ],
   "source": [
    "def nameTuple(data, names):\n",
    "    result = {}\n",
    "    for key, value in zip(names, data):\n",
    "        result[key] = value\n",
    "    return result\n",
    "\n",
    "def nameAllRows(data, names):\n",
    "    for row in data:\n",
    "        yield nameTuple(row, names)\n",
    "\n",
    "baseUrl = \"https://apl.unob.cz/StudijniProgramy/Studium/4/Kyberneticka-bezpecnost\"\n",
    "pattern = '(\\/StudijniProgramy\\/PredmetDetail\\/([0-9]+)\\/([^\\\"]+))'\n",
    "names = [\"url\", \"id\", \"name\"]\n",
    "\n",
    "data = await getData(baseUrl)\n",
    "tuples = extractData(data, pattern)\n",
    "jsons = nameAllRows(tuples, names)\n",
    "\n",
    "for item in jsons:\n",
    "    print(item)\n"
   ]
  },
  {
   "cell_type": "code",
   "execution_count": 76,
   "id": "01e91496-8fde-4fd1-a533-162305bb1202",
   "metadata": {},
   "outputs": [
    {
     "name": "stdout",
     "output_type": "stream",
     "text": [
      "going to transform into list\n",
      "CountUp 0\n",
      "addNumber 0\n",
      "CountUp 1\n",
      "addNumber 1\n",
      "CountUp 2\n",
      "addNumber 2\n",
      "CountUp 3\n",
      "addNumber 3\n",
      "CountUp 4\n",
      "addNumber 4\n",
      "CountUp 5\n",
      "addNumber 5\n",
      "CountUp 6\n",
      "addNumber 6\n",
      "CountUp 7\n",
      "addNumber 7\n",
      "CountUp 8\n",
      "addNumber 8\n",
      "CountUp 9\n",
      "addNumber 9\n",
      "[100, 101, 102, 103, 104, 105, 106, 107, 108, 109]\n"
     ]
    }
   ],
   "source": [
    "def countUp(c):\n",
    "    for index in range(c):\n",
    "        print('CountUp', index)\n",
    "        yield index\n",
    "        \n",
    "def addNumber(dataFlow, number):\n",
    "    for row in dataFlow:\n",
    "        print('addNumber', row)\n",
    "        yield row + number\n",
    "        \n",
    "result = addNumber(countUp(10), 100)\n",
    "print('going to transform into list')\n",
    "print(list(result))"
   ]
  },
  {
   "cell_type": "markdown",
   "id": "af12ef24-ae78-4ece-abc7-11978ac8e51f",
   "metadata": {},
   "source": [
    "## Posloupnost zpracování"
   ]
  },
  {
   "cell_type": "code",
   "execution_count": 77,
   "id": "f195fe0b-e44f-4613-8171-f54b57136738",
   "metadata": {},
   "outputs": [
    {
     "name": "stdout",
     "output_type": "stream",
     "text": [
      "{'url': 'https://apl.unob.cz/StudijniProgramy/PredmetDetail/3/Algoritmizace-a-programovani', 'id': '3', 'name': 'Algoritmizace-a-programovani', 'html': '\\r\\n\\r\\n<!DOCTYPE html>\\r\\n<html>\\r\\n<head>\\r\\n  <meta charset=\"utf-8\" />\\r\\n  <meta name=\"viewport\" content=\"wi'}\n",
      "{'url': 'https://apl.unob.cz/StudijniProgramy/PredmetDetail/448/Anglicky-jazyk', 'id': '448', 'name': 'Anglicky-jazyk', 'html': '\\r\\n\\r\\n<!DOCTYPE html>\\r\\n<html>\\r\\n<head>\\r\\n  <meta charset=\"utf-8\" />\\r\\n  <meta name=\"viewport\" content=\"wi'}\n",
      "{'url': 'https://apl.unob.cz/StudijniProgramy/PredmetDetail/327/Leadership', 'id': '327', 'name': 'Leadership', 'html': '\\r\\n\\r\\n<!DOCTYPE html>\\r\\n<html>\\r\\n<head>\\r\\n  <meta charset=\"utf-8\" />\\r\\n  <meta name=\"viewport\" content=\"wi'}\n",
      "{'url': 'https://apl.unob.cz/StudijniProgramy/PredmetDetail/602/Matematika-I', 'id': '602', 'name': 'Matematika-I', 'html': '\\r\\n\\r\\n<!DOCTYPE html>\\r\\n<html>\\r\\n<head>\\r\\n  <meta charset=\"utf-8\" />\\r\\n  <meta name=\"viewport\" content=\"wi'}\n",
      "{'url': 'https://apl.unob.cz/StudijniProgramy/PredmetDetail/664/Metodologie', 'id': '664', 'name': 'Metodologie', 'html': '\\r\\n\\r\\n<!DOCTYPE html>\\r\\n<html>\\r\\n<head>\\r\\n  <meta charset=\"utf-8\" />\\r\\n  <meta name=\"viewport\" content=\"wi'}\n",
      "{'url': 'https://apl.unob.cz/StudijniProgramy/PredmetDetail/416/Telesna-vychova', 'id': '416', 'name': 'Telesna-vychova', 'html': '\\r\\n\\r\\n<!DOCTYPE html>\\r\\n<html>\\r\\n<head>\\r\\n  <meta charset=\"utf-8\" />\\r\\n  <meta name=\"viewport\" content=\"wi'}\n",
      "{'url': 'https://apl.unob.cz/StudijniProgramy/PredmetDetail/673/Zaklady-prava', 'id': '673', 'name': 'Zaklady-prava', 'html': '\\r\\n\\r\\n<!DOCTYPE html>\\r\\n<html>\\r\\n<head>\\r\\n  <meta charset=\"utf-8\" />\\r\\n  <meta name=\"viewport\" content=\"wi'}\n",
      "{'url': 'https://apl.unob.cz/StudijniProgramy/PredmetDetail/449/Anglicky-jazyk', 'id': '449', 'name': 'Anglicky-jazyk', 'html': '\\r\\n\\r\\n<!DOCTYPE html>\\r\\n<html>\\r\\n<head>\\r\\n  <meta charset=\"utf-8\" />\\r\\n  <meta name=\"viewport\" content=\"wi'}\n",
      "{'url': 'https://apl.unob.cz/StudijniProgramy/PredmetDetail/597/Bezpecnost-a-obrana-statu', 'id': '597', 'name': 'Bezpecnost-a-obrana-statu', 'html': '\\r\\n\\r\\n<!DOCTYPE html>\\r\\n<html>\\r\\n<head>\\r\\n  <meta charset=\"utf-8\" />\\r\\n  <meta name=\"viewport\" content=\"wi'}\n",
      "{'url': 'https://apl.unob.cz/StudijniProgramy/PredmetDetail/660/Cislicova-technika', 'id': '660', 'name': 'Cislicova-technika', 'html': '\\r\\n\\r\\n<!DOCTYPE html>\\r\\n<html>\\r\\n<head>\\r\\n  <meta charset=\"utf-8\" />\\r\\n  <meta name=\"viewport\" content=\"wi'}\n",
      "{'url': 'https://apl.unob.cz/StudijniProgramy/PredmetDetail/4/Informatika', 'id': '4', 'name': 'Informatika', 'html': '\\r\\n\\r\\n<!DOCTYPE html>\\r\\n<html>\\r\\n<head>\\r\\n  <meta charset=\"utf-8\" />\\r\\n  <meta name=\"viewport\" content=\"wi'}\n",
      "{'url': 'https://apl.unob.cz/StudijniProgramy/PredmetDetail/328/Leadership', 'id': '328', 'name': 'Leadership', 'html': '\\r\\n\\r\\n<!DOCTYPE html>\\r\\n<html>\\r\\n<head>\\r\\n  <meta charset=\"utf-8\" />\\r\\n  <meta name=\"viewport\" content=\"wi'}\n",
      "{'url': 'https://apl.unob.cz/StudijniProgramy/PredmetDetail/603/Matematika-II', 'id': '603', 'name': 'Matematika-II', 'html': '\\r\\n\\r\\n<!DOCTYPE html>\\r\\n<html>\\r\\n<head>\\r\\n  <meta charset=\"utf-8\" />\\r\\n  <meta name=\"viewport\" content=\"wi'}\n",
      "{'url': 'https://apl.unob.cz/StudijniProgramy/PredmetDetail/417/Telesna-vychova', 'id': '417', 'name': 'Telesna-vychova', 'html': '\\r\\n\\r\\n<!DOCTYPE html>\\r\\n<html>\\r\\n<head>\\r\\n  <meta charset=\"utf-8\" />\\r\\n  <meta name=\"viewport\" content=\"wi'}\n",
      "{'url': 'https://apl.unob.cz/StudijniProgramy/PredmetDetail/674/Zaklady-prava', 'id': '674', 'name': 'Zaklady-prava', 'html': '\\r\\n\\r\\n<!DOCTYPE html>\\r\\n<html>\\r\\n<head>\\r\\n  <meta charset=\"utf-8\" />\\r\\n  <meta name=\"viewport\" content=\"wi'}\n",
      "{'url': 'https://apl.unob.cz/StudijniProgramy/PredmetDetail/450/Anglicky-jazyk', 'id': '450', 'name': 'Anglicky-jazyk', 'html': '\\r\\n\\r\\n<!DOCTYPE html>\\r\\n<html>\\r\\n<head>\\r\\n  <meta charset=\"utf-8\" />\\r\\n  <meta name=\"viewport\" content=\"wi'}\n",
      "{'url': 'https://apl.unob.cz/StudijniProgramy/PredmetDetail/658/Architektury-vypocetnich-systemu', 'id': '658', 'name': 'Architektury-vypocetnich-systemu', 'html': '\\r\\n\\r\\n<!DOCTYPE html>\\r\\n<html>\\r\\n<head>\\r\\n  <meta charset=\"utf-8\" />\\r\\n  <meta name=\"viewport\" content=\"wi'}\n",
      "{'url': 'https://apl.unob.cz/StudijniProgramy/PredmetDetail/5/Informatika', 'id': '5', 'name': 'Informatika', 'html': '\\r\\n\\r\\n<!DOCTYPE html>\\r\\n<html>\\r\\n<head>\\r\\n  <meta charset=\"utf-8\" />\\r\\n  <meta name=\"viewport\" content=\"wi'}\n",
      "{'url': 'https://apl.unob.cz/StudijniProgramy/PredmetDetail/329/Leadership', 'id': '329', 'name': 'Leadership', 'html': '\\r\\n\\r\\n<!DOCTYPE html>\\r\\n<html>\\r\\n<head>\\r\\n  <meta charset=\"utf-8\" />\\r\\n  <meta name=\"viewport\" content=\"wi'}\n",
      "{'url': 'https://apl.unob.cz/StudijniProgramy/PredmetDetail/604/Matematika-III', 'id': '604', 'name': 'Matematika-III', 'html': '\\r\\n\\r\\n<!DOCTYPE html>\\r\\n<html>\\r\\n<head>\\r\\n  <meta charset=\"utf-8\" />\\r\\n  <meta name=\"viewport\" content=\"wi'}\n",
      "{'url': 'https://apl.unob.cz/StudijniProgramy/PredmetDetail/418/Telesna-vychova', 'id': '418', 'name': 'Telesna-vychova', 'html': '\\r\\n\\r\\n<!DOCTYPE html>\\r\\n<html>\\r\\n<head>\\r\\n  <meta charset=\"utf-8\" />\\r\\n  <meta name=\"viewport\" content=\"wi'}\n",
      "{'url': 'https://apl.unob.cz/StudijniProgramy/PredmetDetail/675/Zaklady-prava', 'id': '675', 'name': 'Zaklady-prava', 'html': '\\r\\n\\r\\n<!DOCTYPE html>\\r\\n<html>\\r\\n<head>\\r\\n  <meta charset=\"utf-8\" />\\r\\n  <meta name=\"viewport\" content=\"wi'}\n",
      "{'url': 'https://apl.unob.cz/StudijniProgramy/PredmetDetail/451/Anglicky-jazyk', 'id': '451', 'name': 'Anglicky-jazyk', 'html': '\\r\\n\\r\\n<!DOCTYPE html>\\r\\n<html>\\r\\n<head>\\r\\n  <meta charset=\"utf-8\" />\\r\\n  <meta name=\"viewport\" content=\"wi'}\n",
      "{'url': 'https://apl.unob.cz/StudijniProgramy/PredmetDetail/6/Informatika', 'id': '6', 'name': 'Informatika', 'html': '\\r\\n\\r\\n<!DOCTYPE html>\\r\\n<html>\\r\\n<head>\\r\\n  <meta charset=\"utf-8\" />\\r\\n  <meta name=\"viewport\" content=\"wi'}\n",
      "{'url': 'https://apl.unob.cz/StudijniProgramy/PredmetDetail/662/Krizove-rizeni', 'id': '662', 'name': 'Krizove-rizeni', 'html': '\\r\\n\\r\\n<!DOCTYPE html>\\r\\n<html>\\r\\n<head>\\r\\n  <meta charset=\"utf-8\" />\\r\\n  <meta name=\"viewport\" content=\"wi'}\n",
      "{'url': 'https://apl.unob.cz/StudijniProgramy/PredmetDetail/605/Matematika-IV', 'id': '605', 'name': 'Matematika-IV', 'html': '\\r\\n\\r\\n<!DOCTYPE html>\\r\\n<html>\\r\\n<head>\\r\\n  <meta charset=\"utf-8\" />\\r\\n  <meta name=\"viewport\" content=\"wi'}\n",
      "{'url': 'https://apl.unob.cz/StudijniProgramy/PredmetDetail/107/Projektovy-management', 'id': '107', 'name': 'Projektovy-management', 'html': '\\r\\n\\r\\n<!DOCTYPE html>\\r\\n<html>\\r\\n<head>\\r\\n  <meta charset=\"utf-8\" />\\r\\n  <meta name=\"viewport\" content=\"wi'}\n",
      "{'url': 'https://apl.unob.cz/StudijniProgramy/PredmetDetail/419/Telesna-vychova', 'id': '419', 'name': 'Telesna-vychova', 'html': '\\r\\n\\r\\n<!DOCTYPE html>\\r\\n<html>\\r\\n<head>\\r\\n  <meta charset=\"utf-8\" />\\r\\n  <meta name=\"viewport\" content=\"wi'}\n",
      "{'url': 'https://apl.unob.cz/StudijniProgramy/PredmetDetail/670/Teorie-grafu', 'id': '670', 'name': 'Teorie-grafu', 'html': '\\r\\n\\r\\n<!DOCTYPE html>\\r\\n<html>\\r\\n<head>\\r\\n  <meta charset=\"utf-8\" />\\r\\n  <meta name=\"viewport\" content=\"wi'}\n",
      "{'url': 'https://apl.unob.cz/StudijniProgramy/PredmetDetail/645/Analyza-informacnich-zdroju', 'id': '645', 'name': 'Analyza-informacnich-zdroju', 'html': '\\r\\n\\r\\n<!DOCTYPE html>\\r\\n<html>\\r\\n<head>\\r\\n  <meta charset=\"utf-8\" />\\r\\n  <meta name=\"viewport\" content=\"wi'}\n",
      "{'url': 'https://apl.unob.cz/StudijniProgramy/PredmetDetail/452/Anglicky-jazyk', 'id': '452', 'name': 'Anglicky-jazyk', 'html': '\\r\\n\\r\\n<!DOCTYPE html>\\r\\n<html>\\r\\n<head>\\r\\n  <meta charset=\"utf-8\" />\\r\\n  <meta name=\"viewport\" content=\"wi'}\n",
      "{'url': 'https://apl.unob.cz/StudijniProgramy/PredmetDetail/7/Informatika', 'id': '7', 'name': 'Informatika', 'html': '\\r\\n\\r\\n<!DOCTYPE html>\\r\\n<html>\\r\\n<head>\\r\\n  <meta charset=\"utf-8\" />\\r\\n  <meta name=\"viewport\" content=\"wi'}\n",
      "{'url': 'https://apl.unob.cz/StudijniProgramy/PredmetDetail/598/Kyberneticka-bezpecnost', 'id': '598', 'name': 'Kyberneticka-bezpecnost', 'html': '\\r\\n\\r\\n<!DOCTYPE html>\\r\\n<html>\\r\\n<head>\\r\\n  <meta charset=\"utf-8\" />\\r\\n  <meta name=\"viewport\" content=\"wi'}\n",
      "{'url': 'https://apl.unob.cz/StudijniProgramy/PredmetDetail/666/Pocitacove-site-a-jejich-bezpecnost', 'id': '666', 'name': 'Pocitacove-site-a-jejich-bezpecnost', 'html': '\\r\\n\\r\\n<!DOCTYPE html>\\r\\n<html>\\r\\n<head>\\r\\n  <meta charset=\"utf-8\" />\\r\\n  <meta name=\"viewport\" content=\"wi'}\n",
      "{'url': 'https://apl.unob.cz/StudijniProgramy/PredmetDetail/108/Projektovy-management', 'id': '108', 'name': 'Projektovy-management', 'html': '\\r\\n\\r\\n<!DOCTYPE html>\\r\\n<html>\\r\\n<head>\\r\\n  <meta charset=\"utf-8\" />\\r\\n  <meta name=\"viewport\" content=\"wi'}\n",
      "{'url': 'https://apl.unob.cz/StudijniProgramy/PredmetDetail/420/Telesna-vychova', 'id': '420', 'name': 'Telesna-vychova', 'html': '\\r\\n\\r\\n<!DOCTYPE html>\\r\\n<html>\\r\\n<head>\\r\\n  <meta charset=\"utf-8\" />\\r\\n  <meta name=\"viewport\" content=\"wi'}\n",
      "{'url': 'https://apl.unob.cz/StudijniProgramy/PredmetDetail/646/Analyza-informacnich-zdroju', 'id': '646', 'name': 'Analyza-informacnich-zdroju', 'html': '\\r\\n\\r\\n<!DOCTYPE html>\\r\\n<html>\\r\\n<head>\\r\\n  <meta charset=\"utf-8\" />\\r\\n  <meta name=\"viewport\" content=\"wi'}\n",
      "{'url': 'https://apl.unob.cz/StudijniProgramy/PredmetDetail/453/Anglicky-jazyk', 'id': '453', 'name': 'Anglicky-jazyk', 'html': '\\r\\n\\r\\n<!DOCTYPE html>\\r\\n<html>\\r\\n<head>\\r\\n  <meta charset=\"utf-8\" />\\r\\n  <meta name=\"viewport\" content=\"wi'}\n",
      "{'url': 'https://apl.unob.cz/StudijniProgramy/PredmetDetail/8/Informatika', 'id': '8', 'name': 'Informatika', 'html': '\\r\\n\\r\\n<!DOCTYPE html>\\r\\n<html>\\r\\n<head>\\r\\n  <meta charset=\"utf-8\" />\\r\\n  <meta name=\"viewport\" content=\"wi'}\n",
      "{'url': 'https://apl.unob.cz/StudijniProgramy/PredmetDetail/599/Kyberneticka-bezpecnost', 'id': '599', 'name': 'Kyberneticka-bezpecnost', 'html': '\\r\\n\\r\\n<!DOCTYPE html>\\r\\n<html>\\r\\n<head>\\r\\n  <meta charset=\"utf-8\" />\\r\\n  <meta name=\"viewport\" content=\"wi'}\n",
      "{'url': 'https://apl.unob.cz/StudijniProgramy/PredmetDetail/667/Pocitacove-site-a-jejich-bezpecnost', 'id': '667', 'name': 'Pocitacove-site-a-jejich-bezpecnost', 'html': '\\r\\n\\r\\n<!DOCTYPE html>\\r\\n<html>\\r\\n<head>\\r\\n  <meta charset=\"utf-8\" />\\r\\n  <meta name=\"viewport\" content=\"wi'}\n",
      "{'url': 'https://apl.unob.cz/StudijniProgramy/PredmetDetail/421/Telesna-vychova', 'id': '421', 'name': 'Telesna-vychova', 'html': '\\r\\n\\r\\n<!DOCTYPE html>\\r\\n<html>\\r\\n<head>\\r\\n  <meta charset=\"utf-8\" />\\r\\n  <meta name=\"viewport\" content=\"wi'}\n",
      "{'url': 'https://apl.unob.cz/StudijniProgramy/PredmetDetail/671/Teorie-informace', 'id': '671', 'name': 'Teorie-informace', 'html': '\\r\\n\\r\\n<!DOCTYPE html>\\r\\n<html>\\r\\n<head>\\r\\n  <meta charset=\"utf-8\" />\\r\\n  <meta name=\"viewport\" content=\"wi'}\n",
      "{'url': 'https://apl.unob.cz/StudijniProgramy/PredmetDetail/647/Analyza-informacnich-zdroju', 'id': '647', 'name': 'Analyza-informacnich-zdroju', 'html': '\\r\\n\\r\\n<!DOCTYPE html>\\r\\n<html>\\r\\n<head>\\r\\n  <meta charset=\"utf-8\" />\\r\\n  <meta name=\"viewport\" content=\"wi'}\n",
      "{'url': 'https://apl.unob.cz/StudijniProgramy/PredmetDetail/454/Anglicky-jazyk', 'id': '454', 'name': 'Anglicky-jazyk', 'html': '\\r\\n\\r\\n<!DOCTYPE html>\\r\\n<html>\\r\\n<head>\\r\\n  <meta charset=\"utf-8\" />\\r\\n  <meta name=\"viewport\" content=\"wi'}\n",
      "{'url': 'https://apl.unob.cz/StudijniProgramy/PredmetDetail/651/Aplikovane-bezpecnostni-technologie', 'id': '651', 'name': 'Aplikovane-bezpecnostni-technologie', 'html': '\\r\\n\\r\\n<!DOCTYPE html>\\r\\n<html>\\r\\n<head>\\r\\n  <meta charset=\"utf-8\" />\\r\\n  <meta name=\"viewport\" content=\"wi'}\n",
      "{'url': 'https://apl.unob.cz/StudijniProgramy/PredmetDetail/663/Kryptograficke-algoritmy-a-protokoly', 'id': '663', 'name': 'Kryptograficke-algoritmy-a-protokoly', 'html': '\\r\\n\\r\\n<!DOCTYPE html>\\r\\n<html>\\r\\n<head>\\r\\n  <meta charset=\"utf-8\" />\\r\\n  <meta name=\"viewport\" content=\"wi'}\n",
      "{'url': 'https://apl.unob.cz/StudijniProgramy/PredmetDetail/600/Kyberneticka-bezpecnost', 'id': '600', 'name': 'Kyberneticka-bezpecnost', 'html': '\\r\\n\\r\\n<!DOCTYPE html>\\r\\n<html>\\r\\n<head>\\r\\n  <meta charset=\"utf-8\" />\\r\\n  <meta name=\"viewport\" content=\"wi'}\n",
      "{'url': 'https://apl.unob.cz/StudijniProgramy/PredmetDetail/668/Pocitacove-site-a-jejich-bezpecnost', 'id': '668', 'name': 'Pocitacove-site-a-jejich-bezpecnost', 'html': '\\r\\n\\r\\n<!DOCTYPE html>\\r\\n<html>\\r\\n<head>\\r\\n  <meta charset=\"utf-8\" />\\r\\n  <meta name=\"viewport\" content=\"wi'}\n",
      "{'url': 'https://apl.unob.cz/StudijniProgramy/PredmetDetail/422/Telesna-vychova', 'id': '422', 'name': 'Telesna-vychova', 'html': '\\r\\n\\r\\n<!DOCTYPE html>\\r\\n<html>\\r\\n<head>\\r\\n  <meta charset=\"utf-8\" />\\r\\n  <meta name=\"viewport\" content=\"wi'}\n",
      "{'url': 'https://apl.unob.cz/StudijniProgramy/PredmetDetail/65885/Francouzsky-jazyk', 'id': '65885', 'name': 'Francouzsky-jazyk', 'html': '\\r\\n\\r\\n<!DOCTYPE html>\\r\\n<html>\\r\\n<head>\\r\\n  <meta charset=\"utf-8\" />\\r\\n  <meta name=\"viewport\" content=\"wi'}\n",
      "{'url': 'https://apl.unob.cz/StudijniProgramy/PredmetDetail/65889/Nemecky-jazyk', 'id': '65889', 'name': 'Nemecky-jazyk', 'html': '\\r\\n\\r\\n<!DOCTYPE html>\\r\\n<html>\\r\\n<head>\\r\\n  <meta charset=\"utf-8\" />\\r\\n  <meta name=\"viewport\" content=\"wi'}\n",
      "{'url': 'https://apl.unob.cz/StudijniProgramy/PredmetDetail/606/Rusky-jazyk', 'id': '606', 'name': 'Rusky-jazyk', 'html': '\\r\\n\\r\\n<!DOCTYPE html>\\r\\n<html>\\r\\n<head>\\r\\n  <meta charset=\"utf-8\" />\\r\\n  <meta name=\"viewport\" content=\"wi'}\n",
      "{'url': 'https://apl.unob.cz/StudijniProgramy/PredmetDetail/648/Analyza-informacnich-zdroju', 'id': '648', 'name': 'Analyza-informacnich-zdroju', 'html': '\\r\\n\\r\\n<!DOCTYPE html>\\r\\n<html>\\r\\n<head>\\r\\n  <meta charset=\"utf-8\" />\\r\\n  <meta name=\"viewport\" content=\"wi'}\n",
      "{'url': 'https://apl.unob.cz/StudijniProgramy/PredmetDetail/644/Analyzy-a-kriticke-mysleni', 'id': '644', 'name': 'Analyzy-a-kriticke-mysleni', 'html': '\\r\\n\\r\\n<!DOCTYPE html>\\r\\n<html>\\r\\n<head>\\r\\n  <meta charset=\"utf-8\" />\\r\\n  <meta name=\"viewport\" content=\"wi'}\n",
      "{'url': 'https://apl.unob.cz/StudijniProgramy/PredmetDetail/455/Anglicky-jazyk', 'id': '455', 'name': 'Anglicky-jazyk', 'html': '\\r\\n\\r\\n<!DOCTYPE html>\\r\\n<html>\\r\\n<head>\\r\\n  <meta charset=\"utf-8\" />\\r\\n  <meta name=\"viewport\" content=\"wi'}\n",
      "{'url': 'https://apl.unob.cz/StudijniProgramy/PredmetDetail/652/Aplikovane-bezpecnostni-technologie', 'id': '652', 'name': 'Aplikovane-bezpecnostni-technologie', 'html': '\\r\\n\\r\\n<!DOCTYPE html>\\r\\n<html>\\r\\n<head>\\r\\n  <meta charset=\"utf-8\" />\\r\\n  <meta name=\"viewport\" content=\"wi'}\n",
      "{'url': 'https://apl.unob.cz/StudijniProgramy/PredmetDetail/601/Kyberneticka-bezpecnost', 'id': '601', 'name': 'Kyberneticka-bezpecnost', 'html': '\\r\\n\\r\\n<!DOCTYPE html>\\r\\n<html>\\r\\n<head>\\r\\n  <meta charset=\"utf-8\" />\\r\\n  <meta name=\"viewport\" content=\"wi'}\n",
      "{'url': 'https://apl.unob.cz/StudijniProgramy/PredmetDetail/669/Pocitacove-site-a-jejich-bezpecnost', 'id': '669', 'name': 'Pocitacove-site-a-jejich-bezpecnost', 'html': '\\r\\n\\r\\n<!DOCTYPE html>\\r\\n<html>\\r\\n<head>\\r\\n  <meta charset=\"utf-8\" />\\r\\n  <meta name=\"viewport\" content=\"wi'}\n",
      "{'url': 'https://apl.unob.cz/StudijniProgramy/PredmetDetail/423/Telesna-vychova', 'id': '423', 'name': 'Telesna-vychova', 'html': '\\r\\n\\r\\n<!DOCTYPE html>\\r\\n<html>\\r\\n<head>\\r\\n  <meta charset=\"utf-8\" />\\r\\n  <meta name=\"viewport\" content=\"wi'}\n",
      "{'url': 'https://apl.unob.cz/StudijniProgramy/PredmetDetail/65886/Francouzsky-jazyk', 'id': '65886', 'name': 'Francouzsky-jazyk', 'html': '\\r\\n\\r\\n<!DOCTYPE html>\\r\\n<html>\\r\\n<head>\\r\\n  <meta charset=\"utf-8\" />\\r\\n  <meta name=\"viewport\" content=\"wi'}\n",
      "{'url': 'https://apl.unob.cz/StudijniProgramy/PredmetDetail/65890/Nemecky-jazyk', 'id': '65890', 'name': 'Nemecky-jazyk', 'html': '\\r\\n\\r\\n<!DOCTYPE html>\\r\\n<html>\\r\\n<head>\\r\\n  <meta charset=\"utf-8\" />\\r\\n  <meta name=\"viewport\" content=\"wi'}\n",
      "{'url': 'https://apl.unob.cz/StudijniProgramy/PredmetDetail/607/Rusky-jazyk', 'id': '607', 'name': 'Rusky-jazyk', 'html': '\\r\\n\\r\\n<!DOCTYPE html>\\r\\n<html>\\r\\n<head>\\r\\n  <meta charset=\"utf-8\" />\\r\\n  <meta name=\"viewport\" content=\"wi'}\n",
      "{'url': 'https://apl.unob.cz/StudijniProgramy/PredmetDetail/649/Analyza-informacnich-zdroju', 'id': '649', 'name': 'Analyza-informacnich-zdroju', 'html': '\\r\\n\\r\\n<!DOCTYPE html>\\r\\n<html>\\r\\n<head>\\r\\n  <meta charset=\"utf-8\" />\\r\\n  <meta name=\"viewport\" content=\"wi'}\n",
      "{'url': 'https://apl.unob.cz/StudijniProgramy/PredmetDetail/456/Anglicky-jazyk', 'id': '456', 'name': 'Anglicky-jazyk', 'html': '\\r\\n\\r\\n<!DOCTYPE html>\\r\\n<html>\\r\\n<head>\\r\\n  <meta charset=\"utf-8\" />\\r\\n  <meta name=\"viewport\" content=\"wi'}\n",
      "{'url': 'https://apl.unob.cz/StudijniProgramy/PredmetDetail/653/Aplikovane-bezpecnostni-technologie', 'id': '653', 'name': 'Aplikovane-bezpecnostni-technologie', 'html': '\\r\\n\\r\\n<!DOCTYPE html>\\r\\n<html>\\r\\n<head>\\r\\n  <meta charset=\"utf-8\" />\\r\\n  <meta name=\"viewport\" content=\"wi'}\n",
      "{'url': 'https://apl.unob.cz/StudijniProgramy/PredmetDetail/661/Forenzni-analyza', 'id': '661', 'name': 'Forenzni-analyza', 'html': '\\r\\n\\r\\n<!DOCTYPE html>\\r\\n<html>\\r\\n<head>\\r\\n  <meta charset=\"utf-8\" />\\r\\n  <meta name=\"viewport\" content=\"wi'}\n",
      "{'url': 'https://apl.unob.cz/StudijniProgramy/PredmetDetail/665/Penetracni-testovani', 'id': '665', 'name': 'Penetracni-testovani', 'html': '\\r\\n\\r\\n<!DOCTYPE html>\\r\\n<html>\\r\\n<head>\\r\\n  <meta charset=\"utf-8\" />\\r\\n  <meta name=\"viewport\" content=\"wi'}\n",
      "{'url': 'https://apl.unob.cz/StudijniProgramy/PredmetDetail/424/Telesna-vychova', 'id': '424', 'name': 'Telesna-vychova', 'html': '\\r\\n\\r\\n<!DOCTYPE html>\\r\\n<html>\\r\\n<head>\\r\\n  <meta charset=\"utf-8\" />\\r\\n  <meta name=\"viewport\" content=\"wi'}\n",
      "{'url': 'https://apl.unob.cz/StudijniProgramy/PredmetDetail/672/Vyvoj-a-nasazeni-malware', 'id': '672', 'name': 'Vyvoj-a-nasazeni-malware', 'html': '\\r\\n\\r\\n<!DOCTYPE html>\\r\\n<html>\\r\\n<head>\\r\\n  <meta charset=\"utf-8\" />\\r\\n  <meta name=\"viewport\" content=\"wi'}\n",
      "{'url': 'https://apl.unob.cz/StudijniProgramy/PredmetDetail/65887/Francouzsky-jazyk', 'id': '65887', 'name': 'Francouzsky-jazyk', 'html': '\\r\\n\\r\\n<!DOCTYPE html>\\r\\n<html>\\r\\n<head>\\r\\n  <meta charset=\"utf-8\" />\\r\\n  <meta name=\"viewport\" content=\"wi'}\n",
      "{'url': 'https://apl.unob.cz/StudijniProgramy/PredmetDetail/65891/Nemecky-jazyk', 'id': '65891', 'name': 'Nemecky-jazyk', 'html': '\\r\\n\\r\\n<!DOCTYPE html>\\r\\n<html>\\r\\n<head>\\r\\n  <meta charset=\"utf-8\" />\\r\\n  <meta name=\"viewport\" content=\"wi'}\n",
      "{'url': 'https://apl.unob.cz/StudijniProgramy/PredmetDetail/608/Rusky-jazyk', 'id': '608', 'name': 'Rusky-jazyk', 'html': '\\r\\n\\r\\n<!DOCTYPE html>\\r\\n<html>\\r\\n<head>\\r\\n  <meta charset=\"utf-8\" />\\r\\n  <meta name=\"viewport\" content=\"wi'}\n",
      "{'url': 'https://apl.unob.cz/StudijniProgramy/PredmetDetail/650/Analyza-informacnich-zdroju', 'id': '650', 'name': 'Analyza-informacnich-zdroju', 'html': '\\r\\n\\r\\n<!DOCTYPE html>\\r\\n<html>\\r\\n<head>\\r\\n  <meta charset=\"utf-8\" />\\r\\n  <meta name=\"viewport\" content=\"wi'}\n",
      "{'url': 'https://apl.unob.cz/StudijniProgramy/PredmetDetail/457/Anglicky-jazyk', 'id': '457', 'name': 'Anglicky-jazyk', 'html': '\\r\\n\\r\\n<!DOCTYPE html>\\r\\n<html>\\r\\n<head>\\r\\n  <meta charset=\"utf-8\" />\\r\\n  <meta name=\"viewport\" content=\"wi'}\n",
      "{'url': 'https://apl.unob.cz/StudijniProgramy/PredmetDetail/659/Botnetove-site', 'id': '659', 'name': 'Botnetove-site', 'html': '\\r\\n\\r\\n<!DOCTYPE html>\\r\\n<html>\\r\\n<head>\\r\\n  <meta charset=\"utf-8\" />\\r\\n  <meta name=\"viewport\" content=\"wi'}\n",
      "{'url': 'https://apl.unob.cz/StudijniProgramy/PredmetDetail/425/Telesna-vychova', 'id': '425', 'name': 'Telesna-vychova', 'html': '\\r\\n\\r\\n<!DOCTYPE html>\\r\\n<html>\\r\\n<head>\\r\\n  <meta charset=\"utf-8\" />\\r\\n  <meta name=\"viewport\" content=\"wi'}\n",
      "{'url': 'https://apl.unob.cz/StudijniProgramy/PredmetDetail/676/Zpracovani-diplomove-prace-a-priprava-na-SZZ', 'id': '676', 'name': 'Zpracovani-diplomove-prace-a-priprava-na-SZZ', 'html': '\\r\\n\\r\\n<!DOCTYPE html>\\r\\n<html>\\r\\n<head>\\r\\n  <meta charset=\"utf-8\" />\\r\\n  <meta name=\"viewport\" content=\"wi'}\n",
      "{'url': 'https://apl.unob.cz/StudijniProgramy/PredmetDetail/65888/Francouzsky-jazyk', 'id': '65888', 'name': 'Francouzsky-jazyk', 'html': '\\r\\n\\r\\n<!DOCTYPE html>\\r\\n<html>\\r\\n<head>\\r\\n  <meta charset=\"utf-8\" />\\r\\n  <meta name=\"viewport\" content=\"wi'}\n",
      "{'url': 'https://apl.unob.cz/StudijniProgramy/PredmetDetail/65892/Nemecky-jazyk', 'id': '65892', 'name': 'Nemecky-jazyk', 'html': '\\r\\n\\r\\n<!DOCTYPE html>\\r\\n<html>\\r\\n<head>\\r\\n  <meta charset=\"utf-8\" />\\r\\n  <meta name=\"viewport\" content=\"wi'}\n",
      "{'url': 'https://apl.unob.cz/StudijniProgramy/PredmetDetail/609/Rusky-jazyk', 'id': '609', 'name': 'Rusky-jazyk', 'html': '\\r\\n\\r\\n<!DOCTYPE html>\\r\\n<html>\\r\\n<head>\\r\\n  <meta charset=\"utf-8\" />\\r\\n  <meta name=\"viewport\" content=\"wi'}\n"
     ]
    }
   ],
   "source": [
    "import asyncio\n",
    "\n",
    "def modifyUrl(data, urlPrefix):\n",
    "    for row in data:\n",
    "        row['url'] = urlPrefix + row['url']\n",
    "        yield row\n",
    "    \n",
    "async def getPages(data):\n",
    "    result = []\n",
    "    for row in data:\n",
    "        text = await getData(row['url'])\n",
    "        row['html'] = text[:100]\n",
    "        result.append(row)\n",
    "    return result\n",
    "    \n",
    "baseUrl = \"https://apl.unob.cz/StudijniProgramy/Studium/4/Kyberneticka-bezpecnost\"\n",
    "pattern = '(\\/StudijniProgramy\\/PredmetDetail\\/([0-9]+)\\/([^\\\"]+))'\n",
    "names = [\"url\", \"id\", \"name\"]\n",
    "\n",
    "data = await getData(baseUrl)\n",
    "tuples = extractData(data, pattern)\n",
    "jsons = nameAllRows(tuples, names)\n",
    "jsonsEx = modifyUrl(jsons, 'https://apl.unob.cz')\n",
    "jsonsWithHTML = await getPages(jsonsEx)\n",
    "\n",
    "for item in jsonsWithHTML:\n",
    "    print(item)"
   ]
  },
  {
   "cell_type": "code",
   "execution_count": 78,
   "id": "d2c60aa4-1d8d-45d1-9ed4-e14d3f43f901",
   "metadata": {},
   "outputs": [
    {
     "name": "stdout",
     "output_type": "stream",
     "text": [
      "{'url': 'https://apl.unob.cz/StudijniProgramy/PredmetDetail/3/Algoritmizace-a-programovani', 'id': '3', 'name': None, 'html': '\\r\\n\\r\\n<!DOCTYPE html>\\r\\n<html>\\r\\n<head>\\r\\n  <meta charset=\"utf-8\" />\\r\\n  <meta name=\"viewport\" content=\"wi', 'grant': None, 'department': None, 'spec': None, 'base': None, 'teoretical': None, 'state': None, 'multiSemester': None, 'otherSchool': None, 'notMandatory': None, 'evaluation': None, 'credits': None, 'semester': None, 'weeks': None}\n",
      "{'url': 'https://apl.unob.cz/StudijniProgramy/PredmetDetail/448/Anglicky-jazyk', 'id': '448', 'name': None, 'html': '\\r\\n\\r\\n<!DOCTYPE html>\\r\\n<html>\\r\\n<head>\\r\\n  <meta charset=\"utf-8\" />\\r\\n  <meta name=\"viewport\" content=\"wi', 'grant': None, 'department': None, 'spec': None, 'base': None, 'teoretical': None, 'state': None, 'multiSemester': None, 'otherSchool': None, 'notMandatory': None, 'evaluation': None, 'credits': None, 'semester': None, 'weeks': None}\n",
      "{'url': 'https://apl.unob.cz/StudijniProgramy/PredmetDetail/327/Leadership', 'id': '327', 'name': None, 'html': '\\r\\n\\r\\n<!DOCTYPE html>\\r\\n<html>\\r\\n<head>\\r\\n  <meta charset=\"utf-8\" />\\r\\n  <meta name=\"viewport\" content=\"wi', 'grant': None, 'department': None, 'spec': None, 'base': None, 'teoretical': None, 'state': None, 'multiSemester': None, 'otherSchool': None, 'notMandatory': None, 'evaluation': None, 'credits': None, 'semester': None, 'weeks': None}\n",
      "{'url': 'https://apl.unob.cz/StudijniProgramy/PredmetDetail/602/Matematika-I', 'id': '602', 'name': None, 'html': '\\r\\n\\r\\n<!DOCTYPE html>\\r\\n<html>\\r\\n<head>\\r\\n  <meta charset=\"utf-8\" />\\r\\n  <meta name=\"viewport\" content=\"wi', 'grant': None, 'department': None, 'spec': None, 'base': None, 'teoretical': None, 'state': None, 'multiSemester': None, 'otherSchool': None, 'notMandatory': None, 'evaluation': None, 'credits': None, 'semester': None, 'weeks': None}\n",
      "{'url': 'https://apl.unob.cz/StudijniProgramy/PredmetDetail/664/Metodologie', 'id': '664', 'name': None, 'html': '\\r\\n\\r\\n<!DOCTYPE html>\\r\\n<html>\\r\\n<head>\\r\\n  <meta charset=\"utf-8\" />\\r\\n  <meta name=\"viewport\" content=\"wi', 'grant': None, 'department': None, 'spec': None, 'base': None, 'teoretical': None, 'state': None, 'multiSemester': None, 'otherSchool': None, 'notMandatory': None, 'evaluation': None, 'credits': None, 'semester': None, 'weeks': None}\n",
      "{'url': 'https://apl.unob.cz/StudijniProgramy/PredmetDetail/416/Telesna-vychova', 'id': '416', 'name': None, 'html': '\\r\\n\\r\\n<!DOCTYPE html>\\r\\n<html>\\r\\n<head>\\r\\n  <meta charset=\"utf-8\" />\\r\\n  <meta name=\"viewport\" content=\"wi', 'grant': None, 'department': None, 'spec': None, 'base': None, 'teoretical': None, 'state': None, 'multiSemester': None, 'otherSchool': None, 'notMandatory': None, 'evaluation': None, 'credits': None, 'semester': None, 'weeks': None}\n",
      "{'url': 'https://apl.unob.cz/StudijniProgramy/PredmetDetail/673/Zaklady-prava', 'id': '673', 'name': None, 'html': '\\r\\n\\r\\n<!DOCTYPE html>\\r\\n<html>\\r\\n<head>\\r\\n  <meta charset=\"utf-8\" />\\r\\n  <meta name=\"viewport\" content=\"wi', 'grant': None, 'department': None, 'spec': None, 'base': None, 'teoretical': None, 'state': None, 'multiSemester': None, 'otherSchool': None, 'notMandatory': None, 'evaluation': None, 'credits': None, 'semester': None, 'weeks': None}\n",
      "{'url': 'https://apl.unob.cz/StudijniProgramy/PredmetDetail/449/Anglicky-jazyk', 'id': '449', 'name': None, 'html': '\\r\\n\\r\\n<!DOCTYPE html>\\r\\n<html>\\r\\n<head>\\r\\n  <meta charset=\"utf-8\" />\\r\\n  <meta name=\"viewport\" content=\"wi', 'grant': None, 'department': None, 'spec': None, 'base': None, 'teoretical': None, 'state': None, 'multiSemester': None, 'otherSchool': None, 'notMandatory': None, 'evaluation': None, 'credits': None, 'semester': None, 'weeks': None}\n",
      "{'url': 'https://apl.unob.cz/StudijniProgramy/PredmetDetail/597/Bezpecnost-a-obrana-statu', 'id': '597', 'name': None, 'html': '\\r\\n\\r\\n<!DOCTYPE html>\\r\\n<html>\\r\\n<head>\\r\\n  <meta charset=\"utf-8\" />\\r\\n  <meta name=\"viewport\" content=\"wi', 'grant': None, 'department': None, 'spec': None, 'base': None, 'teoretical': None, 'state': None, 'multiSemester': None, 'otherSchool': None, 'notMandatory': None, 'evaluation': None, 'credits': None, 'semester': None, 'weeks': None}\n",
      "{'url': 'https://apl.unob.cz/StudijniProgramy/PredmetDetail/660/Cislicova-technika', 'id': '660', 'name': None, 'html': '\\r\\n\\r\\n<!DOCTYPE html>\\r\\n<html>\\r\\n<head>\\r\\n  <meta charset=\"utf-8\" />\\r\\n  <meta name=\"viewport\" content=\"wi', 'grant': None, 'department': None, 'spec': None, 'base': None, 'teoretical': None, 'state': None, 'multiSemester': None, 'otherSchool': None, 'notMandatory': None, 'evaluation': None, 'credits': None, 'semester': None, 'weeks': None}\n",
      "{'url': 'https://apl.unob.cz/StudijniProgramy/PredmetDetail/4/Informatika', 'id': '4', 'name': None, 'html': '\\r\\n\\r\\n<!DOCTYPE html>\\r\\n<html>\\r\\n<head>\\r\\n  <meta charset=\"utf-8\" />\\r\\n  <meta name=\"viewport\" content=\"wi', 'grant': None, 'department': None, 'spec': None, 'base': None, 'teoretical': None, 'state': None, 'multiSemester': None, 'otherSchool': None, 'notMandatory': None, 'evaluation': None, 'credits': None, 'semester': None, 'weeks': None}\n",
      "{'url': 'https://apl.unob.cz/StudijniProgramy/PredmetDetail/328/Leadership', 'id': '328', 'name': None, 'html': '\\r\\n\\r\\n<!DOCTYPE html>\\r\\n<html>\\r\\n<head>\\r\\n  <meta charset=\"utf-8\" />\\r\\n  <meta name=\"viewport\" content=\"wi', 'grant': None, 'department': None, 'spec': None, 'base': None, 'teoretical': None, 'state': None, 'multiSemester': None, 'otherSchool': None, 'notMandatory': None, 'evaluation': None, 'credits': None, 'semester': None, 'weeks': None}\n",
      "{'url': 'https://apl.unob.cz/StudijniProgramy/PredmetDetail/603/Matematika-II', 'id': '603', 'name': None, 'html': '\\r\\n\\r\\n<!DOCTYPE html>\\r\\n<html>\\r\\n<head>\\r\\n  <meta charset=\"utf-8\" />\\r\\n  <meta name=\"viewport\" content=\"wi', 'grant': None, 'department': None, 'spec': None, 'base': None, 'teoretical': None, 'state': None, 'multiSemester': None, 'otherSchool': None, 'notMandatory': None, 'evaluation': None, 'credits': None, 'semester': None, 'weeks': None}\n",
      "{'url': 'https://apl.unob.cz/StudijniProgramy/PredmetDetail/417/Telesna-vychova', 'id': '417', 'name': None, 'html': '\\r\\n\\r\\n<!DOCTYPE html>\\r\\n<html>\\r\\n<head>\\r\\n  <meta charset=\"utf-8\" />\\r\\n  <meta name=\"viewport\" content=\"wi', 'grant': None, 'department': None, 'spec': None, 'base': None, 'teoretical': None, 'state': None, 'multiSemester': None, 'otherSchool': None, 'notMandatory': None, 'evaluation': None, 'credits': None, 'semester': None, 'weeks': None}\n",
      "{'url': 'https://apl.unob.cz/StudijniProgramy/PredmetDetail/674/Zaklady-prava', 'id': '674', 'name': None, 'html': '\\r\\n\\r\\n<!DOCTYPE html>\\r\\n<html>\\r\\n<head>\\r\\n  <meta charset=\"utf-8\" />\\r\\n  <meta name=\"viewport\" content=\"wi', 'grant': None, 'department': None, 'spec': None, 'base': None, 'teoretical': None, 'state': None, 'multiSemester': None, 'otherSchool': None, 'notMandatory': None, 'evaluation': None, 'credits': None, 'semester': None, 'weeks': None}\n",
      "{'url': 'https://apl.unob.cz/StudijniProgramy/PredmetDetail/450/Anglicky-jazyk', 'id': '450', 'name': None, 'html': '\\r\\n\\r\\n<!DOCTYPE html>\\r\\n<html>\\r\\n<head>\\r\\n  <meta charset=\"utf-8\" />\\r\\n  <meta name=\"viewport\" content=\"wi', 'grant': None, 'department': None, 'spec': None, 'base': None, 'teoretical': None, 'state': None, 'multiSemester': None, 'otherSchool': None, 'notMandatory': None, 'evaluation': None, 'credits': None, 'semester': None, 'weeks': None}\n",
      "{'url': 'https://apl.unob.cz/StudijniProgramy/PredmetDetail/658/Architektury-vypocetnich-systemu', 'id': '658', 'name': None, 'html': '\\r\\n\\r\\n<!DOCTYPE html>\\r\\n<html>\\r\\n<head>\\r\\n  <meta charset=\"utf-8\" />\\r\\n  <meta name=\"viewport\" content=\"wi', 'grant': None, 'department': None, 'spec': None, 'base': None, 'teoretical': None, 'state': None, 'multiSemester': None, 'otherSchool': None, 'notMandatory': None, 'evaluation': None, 'credits': None, 'semester': None, 'weeks': None}\n",
      "{'url': 'https://apl.unob.cz/StudijniProgramy/PredmetDetail/5/Informatika', 'id': '5', 'name': None, 'html': '\\r\\n\\r\\n<!DOCTYPE html>\\r\\n<html>\\r\\n<head>\\r\\n  <meta charset=\"utf-8\" />\\r\\n  <meta name=\"viewport\" content=\"wi', 'grant': None, 'department': None, 'spec': None, 'base': None, 'teoretical': None, 'state': None, 'multiSemester': None, 'otherSchool': None, 'notMandatory': None, 'evaluation': None, 'credits': None, 'semester': None, 'weeks': None}\n",
      "{'url': 'https://apl.unob.cz/StudijniProgramy/PredmetDetail/329/Leadership', 'id': '329', 'name': None, 'html': '\\r\\n\\r\\n<!DOCTYPE html>\\r\\n<html>\\r\\n<head>\\r\\n  <meta charset=\"utf-8\" />\\r\\n  <meta name=\"viewport\" content=\"wi', 'grant': None, 'department': None, 'spec': None, 'base': None, 'teoretical': None, 'state': None, 'multiSemester': None, 'otherSchool': None, 'notMandatory': None, 'evaluation': None, 'credits': None, 'semester': None, 'weeks': None}\n",
      "{'url': 'https://apl.unob.cz/StudijniProgramy/PredmetDetail/604/Matematika-III', 'id': '604', 'name': None, 'html': '\\r\\n\\r\\n<!DOCTYPE html>\\r\\n<html>\\r\\n<head>\\r\\n  <meta charset=\"utf-8\" />\\r\\n  <meta name=\"viewport\" content=\"wi', 'grant': None, 'department': None, 'spec': None, 'base': None, 'teoretical': None, 'state': None, 'multiSemester': None, 'otherSchool': None, 'notMandatory': None, 'evaluation': None, 'credits': None, 'semester': None, 'weeks': None}\n",
      "{'url': 'https://apl.unob.cz/StudijniProgramy/PredmetDetail/418/Telesna-vychova', 'id': '418', 'name': None, 'html': '\\r\\n\\r\\n<!DOCTYPE html>\\r\\n<html>\\r\\n<head>\\r\\n  <meta charset=\"utf-8\" />\\r\\n  <meta name=\"viewport\" content=\"wi', 'grant': None, 'department': None, 'spec': None, 'base': None, 'teoretical': None, 'state': None, 'multiSemester': None, 'otherSchool': None, 'notMandatory': None, 'evaluation': None, 'credits': None, 'semester': None, 'weeks': None}\n",
      "{'url': 'https://apl.unob.cz/StudijniProgramy/PredmetDetail/675/Zaklady-prava', 'id': '675', 'name': None, 'html': '\\r\\n\\r\\n<!DOCTYPE html>\\r\\n<html>\\r\\n<head>\\r\\n  <meta charset=\"utf-8\" />\\r\\n  <meta name=\"viewport\" content=\"wi', 'grant': None, 'department': None, 'spec': None, 'base': None, 'teoretical': None, 'state': None, 'multiSemester': None, 'otherSchool': None, 'notMandatory': None, 'evaluation': None, 'credits': None, 'semester': None, 'weeks': None}\n",
      "{'url': 'https://apl.unob.cz/StudijniProgramy/PredmetDetail/451/Anglicky-jazyk', 'id': '451', 'name': None, 'html': '\\r\\n\\r\\n<!DOCTYPE html>\\r\\n<html>\\r\\n<head>\\r\\n  <meta charset=\"utf-8\" />\\r\\n  <meta name=\"viewport\" content=\"wi', 'grant': None, 'department': None, 'spec': None, 'base': None, 'teoretical': None, 'state': None, 'multiSemester': None, 'otherSchool': None, 'notMandatory': None, 'evaluation': None, 'credits': None, 'semester': None, 'weeks': None}\n",
      "{'url': 'https://apl.unob.cz/StudijniProgramy/PredmetDetail/6/Informatika', 'id': '6', 'name': None, 'html': '\\r\\n\\r\\n<!DOCTYPE html>\\r\\n<html>\\r\\n<head>\\r\\n  <meta charset=\"utf-8\" />\\r\\n  <meta name=\"viewport\" content=\"wi', 'grant': None, 'department': None, 'spec': None, 'base': None, 'teoretical': None, 'state': None, 'multiSemester': None, 'otherSchool': None, 'notMandatory': None, 'evaluation': None, 'credits': None, 'semester': None, 'weeks': None}\n",
      "{'url': 'https://apl.unob.cz/StudijniProgramy/PredmetDetail/662/Krizove-rizeni', 'id': '662', 'name': None, 'html': '\\r\\n\\r\\n<!DOCTYPE html>\\r\\n<html>\\r\\n<head>\\r\\n  <meta charset=\"utf-8\" />\\r\\n  <meta name=\"viewport\" content=\"wi', 'grant': None, 'department': None, 'spec': None, 'base': None, 'teoretical': None, 'state': None, 'multiSemester': None, 'otherSchool': None, 'notMandatory': None, 'evaluation': None, 'credits': None, 'semester': None, 'weeks': None}\n",
      "{'url': 'https://apl.unob.cz/StudijniProgramy/PredmetDetail/605/Matematika-IV', 'id': '605', 'name': None, 'html': '\\r\\n\\r\\n<!DOCTYPE html>\\r\\n<html>\\r\\n<head>\\r\\n  <meta charset=\"utf-8\" />\\r\\n  <meta name=\"viewport\" content=\"wi', 'grant': None, 'department': None, 'spec': None, 'base': None, 'teoretical': None, 'state': None, 'multiSemester': None, 'otherSchool': None, 'notMandatory': None, 'evaluation': None, 'credits': None, 'semester': None, 'weeks': None}\n",
      "{'url': 'https://apl.unob.cz/StudijniProgramy/PredmetDetail/107/Projektovy-management', 'id': '107', 'name': None, 'html': '\\r\\n\\r\\n<!DOCTYPE html>\\r\\n<html>\\r\\n<head>\\r\\n  <meta charset=\"utf-8\" />\\r\\n  <meta name=\"viewport\" content=\"wi', 'grant': None, 'department': None, 'spec': None, 'base': None, 'teoretical': None, 'state': None, 'multiSemester': None, 'otherSchool': None, 'notMandatory': None, 'evaluation': None, 'credits': None, 'semester': None, 'weeks': None}\n",
      "{'url': 'https://apl.unob.cz/StudijniProgramy/PredmetDetail/419/Telesna-vychova', 'id': '419', 'name': None, 'html': '\\r\\n\\r\\n<!DOCTYPE html>\\r\\n<html>\\r\\n<head>\\r\\n  <meta charset=\"utf-8\" />\\r\\n  <meta name=\"viewport\" content=\"wi', 'grant': None, 'department': None, 'spec': None, 'base': None, 'teoretical': None, 'state': None, 'multiSemester': None, 'otherSchool': None, 'notMandatory': None, 'evaluation': None, 'credits': None, 'semester': None, 'weeks': None}\n",
      "{'url': 'https://apl.unob.cz/StudijniProgramy/PredmetDetail/670/Teorie-grafu', 'id': '670', 'name': None, 'html': '\\r\\n\\r\\n<!DOCTYPE html>\\r\\n<html>\\r\\n<head>\\r\\n  <meta charset=\"utf-8\" />\\r\\n  <meta name=\"viewport\" content=\"wi', 'grant': None, 'department': None, 'spec': None, 'base': None, 'teoretical': None, 'state': None, 'multiSemester': None, 'otherSchool': None, 'notMandatory': None, 'evaluation': None, 'credits': None, 'semester': None, 'weeks': None}\n",
      "{'url': 'https://apl.unob.cz/StudijniProgramy/PredmetDetail/645/Analyza-informacnich-zdroju', 'id': '645', 'name': None, 'html': '\\r\\n\\r\\n<!DOCTYPE html>\\r\\n<html>\\r\\n<head>\\r\\n  <meta charset=\"utf-8\" />\\r\\n  <meta name=\"viewport\" content=\"wi', 'grant': None, 'department': None, 'spec': None, 'base': None, 'teoretical': None, 'state': None, 'multiSemester': None, 'otherSchool': None, 'notMandatory': None, 'evaluation': None, 'credits': None, 'semester': None, 'weeks': None}\n",
      "{'url': 'https://apl.unob.cz/StudijniProgramy/PredmetDetail/452/Anglicky-jazyk', 'id': '452', 'name': None, 'html': '\\r\\n\\r\\n<!DOCTYPE html>\\r\\n<html>\\r\\n<head>\\r\\n  <meta charset=\"utf-8\" />\\r\\n  <meta name=\"viewport\" content=\"wi', 'grant': None, 'department': None, 'spec': None, 'base': None, 'teoretical': None, 'state': None, 'multiSemester': None, 'otherSchool': None, 'notMandatory': None, 'evaluation': None, 'credits': None, 'semester': None, 'weeks': None}\n",
      "{'url': 'https://apl.unob.cz/StudijniProgramy/PredmetDetail/7/Informatika', 'id': '7', 'name': None, 'html': '\\r\\n\\r\\n<!DOCTYPE html>\\r\\n<html>\\r\\n<head>\\r\\n  <meta charset=\"utf-8\" />\\r\\n  <meta name=\"viewport\" content=\"wi', 'grant': None, 'department': None, 'spec': None, 'base': None, 'teoretical': None, 'state': None, 'multiSemester': None, 'otherSchool': None, 'notMandatory': None, 'evaluation': None, 'credits': None, 'semester': None, 'weeks': None}\n",
      "{'url': 'https://apl.unob.cz/StudijniProgramy/PredmetDetail/598/Kyberneticka-bezpecnost', 'id': '598', 'name': None, 'html': '\\r\\n\\r\\n<!DOCTYPE html>\\r\\n<html>\\r\\n<head>\\r\\n  <meta charset=\"utf-8\" />\\r\\n  <meta name=\"viewport\" content=\"wi', 'grant': None, 'department': None, 'spec': None, 'base': None, 'teoretical': None, 'state': None, 'multiSemester': None, 'otherSchool': None, 'notMandatory': None, 'evaluation': None, 'credits': None, 'semester': None, 'weeks': None}\n",
      "{'url': 'https://apl.unob.cz/StudijniProgramy/PredmetDetail/666/Pocitacove-site-a-jejich-bezpecnost', 'id': '666', 'name': None, 'html': '\\r\\n\\r\\n<!DOCTYPE html>\\r\\n<html>\\r\\n<head>\\r\\n  <meta charset=\"utf-8\" />\\r\\n  <meta name=\"viewport\" content=\"wi', 'grant': None, 'department': None, 'spec': None, 'base': None, 'teoretical': None, 'state': None, 'multiSemester': None, 'otherSchool': None, 'notMandatory': None, 'evaluation': None, 'credits': None, 'semester': None, 'weeks': None}\n",
      "{'url': 'https://apl.unob.cz/StudijniProgramy/PredmetDetail/108/Projektovy-management', 'id': '108', 'name': None, 'html': '\\r\\n\\r\\n<!DOCTYPE html>\\r\\n<html>\\r\\n<head>\\r\\n  <meta charset=\"utf-8\" />\\r\\n  <meta name=\"viewport\" content=\"wi', 'grant': None, 'department': None, 'spec': None, 'base': None, 'teoretical': None, 'state': None, 'multiSemester': None, 'otherSchool': None, 'notMandatory': None, 'evaluation': None, 'credits': None, 'semester': None, 'weeks': None}\n",
      "{'url': 'https://apl.unob.cz/StudijniProgramy/PredmetDetail/420/Telesna-vychova', 'id': '420', 'name': None, 'html': '\\r\\n\\r\\n<!DOCTYPE html>\\r\\n<html>\\r\\n<head>\\r\\n  <meta charset=\"utf-8\" />\\r\\n  <meta name=\"viewport\" content=\"wi', 'grant': None, 'department': None, 'spec': None, 'base': None, 'teoretical': None, 'state': None, 'multiSemester': None, 'otherSchool': None, 'notMandatory': None, 'evaluation': None, 'credits': None, 'semester': None, 'weeks': None}\n",
      "{'url': 'https://apl.unob.cz/StudijniProgramy/PredmetDetail/646/Analyza-informacnich-zdroju', 'id': '646', 'name': None, 'html': '\\r\\n\\r\\n<!DOCTYPE html>\\r\\n<html>\\r\\n<head>\\r\\n  <meta charset=\"utf-8\" />\\r\\n  <meta name=\"viewport\" content=\"wi', 'grant': None, 'department': None, 'spec': None, 'base': None, 'teoretical': None, 'state': None, 'multiSemester': None, 'otherSchool': None, 'notMandatory': None, 'evaluation': None, 'credits': None, 'semester': None, 'weeks': None}\n",
      "{'url': 'https://apl.unob.cz/StudijniProgramy/PredmetDetail/453/Anglicky-jazyk', 'id': '453', 'name': None, 'html': '\\r\\n\\r\\n<!DOCTYPE html>\\r\\n<html>\\r\\n<head>\\r\\n  <meta charset=\"utf-8\" />\\r\\n  <meta name=\"viewport\" content=\"wi', 'grant': None, 'department': None, 'spec': None, 'base': None, 'teoretical': None, 'state': None, 'multiSemester': None, 'otherSchool': None, 'notMandatory': None, 'evaluation': None, 'credits': None, 'semester': None, 'weeks': None}\n",
      "{'url': 'https://apl.unob.cz/StudijniProgramy/PredmetDetail/8/Informatika', 'id': '8', 'name': None, 'html': '\\r\\n\\r\\n<!DOCTYPE html>\\r\\n<html>\\r\\n<head>\\r\\n  <meta charset=\"utf-8\" />\\r\\n  <meta name=\"viewport\" content=\"wi', 'grant': None, 'department': None, 'spec': None, 'base': None, 'teoretical': None, 'state': None, 'multiSemester': None, 'otherSchool': None, 'notMandatory': None, 'evaluation': None, 'credits': None, 'semester': None, 'weeks': None}\n",
      "{'url': 'https://apl.unob.cz/StudijniProgramy/PredmetDetail/599/Kyberneticka-bezpecnost', 'id': '599', 'name': None, 'html': '\\r\\n\\r\\n<!DOCTYPE html>\\r\\n<html>\\r\\n<head>\\r\\n  <meta charset=\"utf-8\" />\\r\\n  <meta name=\"viewport\" content=\"wi', 'grant': None, 'department': None, 'spec': None, 'base': None, 'teoretical': None, 'state': None, 'multiSemester': None, 'otherSchool': None, 'notMandatory': None, 'evaluation': None, 'credits': None, 'semester': None, 'weeks': None}\n",
      "{'url': 'https://apl.unob.cz/StudijniProgramy/PredmetDetail/667/Pocitacove-site-a-jejich-bezpecnost', 'id': '667', 'name': None, 'html': '\\r\\n\\r\\n<!DOCTYPE html>\\r\\n<html>\\r\\n<head>\\r\\n  <meta charset=\"utf-8\" />\\r\\n  <meta name=\"viewport\" content=\"wi', 'grant': None, 'department': None, 'spec': None, 'base': None, 'teoretical': None, 'state': None, 'multiSemester': None, 'otherSchool': None, 'notMandatory': None, 'evaluation': None, 'credits': None, 'semester': None, 'weeks': None}\n",
      "{'url': 'https://apl.unob.cz/StudijniProgramy/PredmetDetail/421/Telesna-vychova', 'id': '421', 'name': None, 'html': '\\r\\n\\r\\n<!DOCTYPE html>\\r\\n<html>\\r\\n<head>\\r\\n  <meta charset=\"utf-8\" />\\r\\n  <meta name=\"viewport\" content=\"wi', 'grant': None, 'department': None, 'spec': None, 'base': None, 'teoretical': None, 'state': None, 'multiSemester': None, 'otherSchool': None, 'notMandatory': None, 'evaluation': None, 'credits': None, 'semester': None, 'weeks': None}\n",
      "{'url': 'https://apl.unob.cz/StudijniProgramy/PredmetDetail/671/Teorie-informace', 'id': '671', 'name': None, 'html': '\\r\\n\\r\\n<!DOCTYPE html>\\r\\n<html>\\r\\n<head>\\r\\n  <meta charset=\"utf-8\" />\\r\\n  <meta name=\"viewport\" content=\"wi', 'grant': None, 'department': None, 'spec': None, 'base': None, 'teoretical': None, 'state': None, 'multiSemester': None, 'otherSchool': None, 'notMandatory': None, 'evaluation': None, 'credits': None, 'semester': None, 'weeks': None}\n",
      "{'url': 'https://apl.unob.cz/StudijniProgramy/PredmetDetail/647/Analyza-informacnich-zdroju', 'id': '647', 'name': None, 'html': '\\r\\n\\r\\n<!DOCTYPE html>\\r\\n<html>\\r\\n<head>\\r\\n  <meta charset=\"utf-8\" />\\r\\n  <meta name=\"viewport\" content=\"wi', 'grant': None, 'department': None, 'spec': None, 'base': None, 'teoretical': None, 'state': None, 'multiSemester': None, 'otherSchool': None, 'notMandatory': None, 'evaluation': None, 'credits': None, 'semester': None, 'weeks': None}\n",
      "{'url': 'https://apl.unob.cz/StudijniProgramy/PredmetDetail/454/Anglicky-jazyk', 'id': '454', 'name': None, 'html': '\\r\\n\\r\\n<!DOCTYPE html>\\r\\n<html>\\r\\n<head>\\r\\n  <meta charset=\"utf-8\" />\\r\\n  <meta name=\"viewport\" content=\"wi', 'grant': None, 'department': None, 'spec': None, 'base': None, 'teoretical': None, 'state': None, 'multiSemester': None, 'otherSchool': None, 'notMandatory': None, 'evaluation': None, 'credits': None, 'semester': None, 'weeks': None}\n",
      "{'url': 'https://apl.unob.cz/StudijniProgramy/PredmetDetail/651/Aplikovane-bezpecnostni-technologie', 'id': '651', 'name': None, 'html': '\\r\\n\\r\\n<!DOCTYPE html>\\r\\n<html>\\r\\n<head>\\r\\n  <meta charset=\"utf-8\" />\\r\\n  <meta name=\"viewport\" content=\"wi', 'grant': None, 'department': None, 'spec': None, 'base': None, 'teoretical': None, 'state': None, 'multiSemester': None, 'otherSchool': None, 'notMandatory': None, 'evaluation': None, 'credits': None, 'semester': None, 'weeks': None}\n",
      "{'url': 'https://apl.unob.cz/StudijniProgramy/PredmetDetail/663/Kryptograficke-algoritmy-a-protokoly', 'id': '663', 'name': None, 'html': '\\r\\n\\r\\n<!DOCTYPE html>\\r\\n<html>\\r\\n<head>\\r\\n  <meta charset=\"utf-8\" />\\r\\n  <meta name=\"viewport\" content=\"wi', 'grant': None, 'department': None, 'spec': None, 'base': None, 'teoretical': None, 'state': None, 'multiSemester': None, 'otherSchool': None, 'notMandatory': None, 'evaluation': None, 'credits': None, 'semester': None, 'weeks': None}\n",
      "{'url': 'https://apl.unob.cz/StudijniProgramy/PredmetDetail/600/Kyberneticka-bezpecnost', 'id': '600', 'name': None, 'html': '\\r\\n\\r\\n<!DOCTYPE html>\\r\\n<html>\\r\\n<head>\\r\\n  <meta charset=\"utf-8\" />\\r\\n  <meta name=\"viewport\" content=\"wi', 'grant': None, 'department': None, 'spec': None, 'base': None, 'teoretical': None, 'state': None, 'multiSemester': None, 'otherSchool': None, 'notMandatory': None, 'evaluation': None, 'credits': None, 'semester': None, 'weeks': None}\n",
      "{'url': 'https://apl.unob.cz/StudijniProgramy/PredmetDetail/668/Pocitacove-site-a-jejich-bezpecnost', 'id': '668', 'name': None, 'html': '\\r\\n\\r\\n<!DOCTYPE html>\\r\\n<html>\\r\\n<head>\\r\\n  <meta charset=\"utf-8\" />\\r\\n  <meta name=\"viewport\" content=\"wi', 'grant': None, 'department': None, 'spec': None, 'base': None, 'teoretical': None, 'state': None, 'multiSemester': None, 'otherSchool': None, 'notMandatory': None, 'evaluation': None, 'credits': None, 'semester': None, 'weeks': None}\n",
      "{'url': 'https://apl.unob.cz/StudijniProgramy/PredmetDetail/422/Telesna-vychova', 'id': '422', 'name': None, 'html': '\\r\\n\\r\\n<!DOCTYPE html>\\r\\n<html>\\r\\n<head>\\r\\n  <meta charset=\"utf-8\" />\\r\\n  <meta name=\"viewport\" content=\"wi', 'grant': None, 'department': None, 'spec': None, 'base': None, 'teoretical': None, 'state': None, 'multiSemester': None, 'otherSchool': None, 'notMandatory': None, 'evaluation': None, 'credits': None, 'semester': None, 'weeks': None}\n",
      "{'url': 'https://apl.unob.cz/StudijniProgramy/PredmetDetail/65885/Francouzsky-jazyk', 'id': '65885', 'name': None, 'html': '\\r\\n\\r\\n<!DOCTYPE html>\\r\\n<html>\\r\\n<head>\\r\\n  <meta charset=\"utf-8\" />\\r\\n  <meta name=\"viewport\" content=\"wi', 'grant': None, 'department': None, 'spec': None, 'base': None, 'teoretical': None, 'state': None, 'multiSemester': None, 'otherSchool': None, 'notMandatory': None, 'evaluation': None, 'credits': None, 'semester': None, 'weeks': None}\n",
      "{'url': 'https://apl.unob.cz/StudijniProgramy/PredmetDetail/65889/Nemecky-jazyk', 'id': '65889', 'name': None, 'html': '\\r\\n\\r\\n<!DOCTYPE html>\\r\\n<html>\\r\\n<head>\\r\\n  <meta charset=\"utf-8\" />\\r\\n  <meta name=\"viewport\" content=\"wi', 'grant': None, 'department': None, 'spec': None, 'base': None, 'teoretical': None, 'state': None, 'multiSemester': None, 'otherSchool': None, 'notMandatory': None, 'evaluation': None, 'credits': None, 'semester': None, 'weeks': None}\n",
      "{'url': 'https://apl.unob.cz/StudijniProgramy/PredmetDetail/606/Rusky-jazyk', 'id': '606', 'name': None, 'html': '\\r\\n\\r\\n<!DOCTYPE html>\\r\\n<html>\\r\\n<head>\\r\\n  <meta charset=\"utf-8\" />\\r\\n  <meta name=\"viewport\" content=\"wi', 'grant': None, 'department': None, 'spec': None, 'base': None, 'teoretical': None, 'state': None, 'multiSemester': None, 'otherSchool': None, 'notMandatory': None, 'evaluation': None, 'credits': None, 'semester': None, 'weeks': None}\n",
      "{'url': 'https://apl.unob.cz/StudijniProgramy/PredmetDetail/648/Analyza-informacnich-zdroju', 'id': '648', 'name': None, 'html': '\\r\\n\\r\\n<!DOCTYPE html>\\r\\n<html>\\r\\n<head>\\r\\n  <meta charset=\"utf-8\" />\\r\\n  <meta name=\"viewport\" content=\"wi', 'grant': None, 'department': None, 'spec': None, 'base': None, 'teoretical': None, 'state': None, 'multiSemester': None, 'otherSchool': None, 'notMandatory': None, 'evaluation': None, 'credits': None, 'semester': None, 'weeks': None}\n",
      "{'url': 'https://apl.unob.cz/StudijniProgramy/PredmetDetail/644/Analyzy-a-kriticke-mysleni', 'id': '644', 'name': None, 'html': '\\r\\n\\r\\n<!DOCTYPE html>\\r\\n<html>\\r\\n<head>\\r\\n  <meta charset=\"utf-8\" />\\r\\n  <meta name=\"viewport\" content=\"wi', 'grant': None, 'department': None, 'spec': None, 'base': None, 'teoretical': None, 'state': None, 'multiSemester': None, 'otherSchool': None, 'notMandatory': None, 'evaluation': None, 'credits': None, 'semester': None, 'weeks': None}\n",
      "{'url': 'https://apl.unob.cz/StudijniProgramy/PredmetDetail/455/Anglicky-jazyk', 'id': '455', 'name': None, 'html': '\\r\\n\\r\\n<!DOCTYPE html>\\r\\n<html>\\r\\n<head>\\r\\n  <meta charset=\"utf-8\" />\\r\\n  <meta name=\"viewport\" content=\"wi', 'grant': None, 'department': None, 'spec': None, 'base': None, 'teoretical': None, 'state': None, 'multiSemester': None, 'otherSchool': None, 'notMandatory': None, 'evaluation': None, 'credits': None, 'semester': None, 'weeks': None}\n",
      "{'url': 'https://apl.unob.cz/StudijniProgramy/PredmetDetail/652/Aplikovane-bezpecnostni-technologie', 'id': '652', 'name': None, 'html': '\\r\\n\\r\\n<!DOCTYPE html>\\r\\n<html>\\r\\n<head>\\r\\n  <meta charset=\"utf-8\" />\\r\\n  <meta name=\"viewport\" content=\"wi', 'grant': None, 'department': None, 'spec': None, 'base': None, 'teoretical': None, 'state': None, 'multiSemester': None, 'otherSchool': None, 'notMandatory': None, 'evaluation': None, 'credits': None, 'semester': None, 'weeks': None}\n",
      "{'url': 'https://apl.unob.cz/StudijniProgramy/PredmetDetail/601/Kyberneticka-bezpecnost', 'id': '601', 'name': None, 'html': '\\r\\n\\r\\n<!DOCTYPE html>\\r\\n<html>\\r\\n<head>\\r\\n  <meta charset=\"utf-8\" />\\r\\n  <meta name=\"viewport\" content=\"wi', 'grant': None, 'department': None, 'spec': None, 'base': None, 'teoretical': None, 'state': None, 'multiSemester': None, 'otherSchool': None, 'notMandatory': None, 'evaluation': None, 'credits': None, 'semester': None, 'weeks': None}\n",
      "{'url': 'https://apl.unob.cz/StudijniProgramy/PredmetDetail/669/Pocitacove-site-a-jejich-bezpecnost', 'id': '669', 'name': None, 'html': '\\r\\n\\r\\n<!DOCTYPE html>\\r\\n<html>\\r\\n<head>\\r\\n  <meta charset=\"utf-8\" />\\r\\n  <meta name=\"viewport\" content=\"wi', 'grant': None, 'department': None, 'spec': None, 'base': None, 'teoretical': None, 'state': None, 'multiSemester': None, 'otherSchool': None, 'notMandatory': None, 'evaluation': None, 'credits': None, 'semester': None, 'weeks': None}\n",
      "{'url': 'https://apl.unob.cz/StudijniProgramy/PredmetDetail/423/Telesna-vychova', 'id': '423', 'name': None, 'html': '\\r\\n\\r\\n<!DOCTYPE html>\\r\\n<html>\\r\\n<head>\\r\\n  <meta charset=\"utf-8\" />\\r\\n  <meta name=\"viewport\" content=\"wi', 'grant': None, 'department': None, 'spec': None, 'base': None, 'teoretical': None, 'state': None, 'multiSemester': None, 'otherSchool': None, 'notMandatory': None, 'evaluation': None, 'credits': None, 'semester': None, 'weeks': None}\n",
      "{'url': 'https://apl.unob.cz/StudijniProgramy/PredmetDetail/65886/Francouzsky-jazyk', 'id': '65886', 'name': None, 'html': '\\r\\n\\r\\n<!DOCTYPE html>\\r\\n<html>\\r\\n<head>\\r\\n  <meta charset=\"utf-8\" />\\r\\n  <meta name=\"viewport\" content=\"wi', 'grant': None, 'department': None, 'spec': None, 'base': None, 'teoretical': None, 'state': None, 'multiSemester': None, 'otherSchool': None, 'notMandatory': None, 'evaluation': None, 'credits': None, 'semester': None, 'weeks': None}\n",
      "{'url': 'https://apl.unob.cz/StudijniProgramy/PredmetDetail/65890/Nemecky-jazyk', 'id': '65890', 'name': None, 'html': '\\r\\n\\r\\n<!DOCTYPE html>\\r\\n<html>\\r\\n<head>\\r\\n  <meta charset=\"utf-8\" />\\r\\n  <meta name=\"viewport\" content=\"wi', 'grant': None, 'department': None, 'spec': None, 'base': None, 'teoretical': None, 'state': None, 'multiSemester': None, 'otherSchool': None, 'notMandatory': None, 'evaluation': None, 'credits': None, 'semester': None, 'weeks': None}\n",
      "{'url': 'https://apl.unob.cz/StudijniProgramy/PredmetDetail/607/Rusky-jazyk', 'id': '607', 'name': None, 'html': '\\r\\n\\r\\n<!DOCTYPE html>\\r\\n<html>\\r\\n<head>\\r\\n  <meta charset=\"utf-8\" />\\r\\n  <meta name=\"viewport\" content=\"wi', 'grant': None, 'department': None, 'spec': None, 'base': None, 'teoretical': None, 'state': None, 'multiSemester': None, 'otherSchool': None, 'notMandatory': None, 'evaluation': None, 'credits': None, 'semester': None, 'weeks': None}\n",
      "{'url': 'https://apl.unob.cz/StudijniProgramy/PredmetDetail/649/Analyza-informacnich-zdroju', 'id': '649', 'name': None, 'html': '\\r\\n\\r\\n<!DOCTYPE html>\\r\\n<html>\\r\\n<head>\\r\\n  <meta charset=\"utf-8\" />\\r\\n  <meta name=\"viewport\" content=\"wi', 'grant': None, 'department': None, 'spec': None, 'base': None, 'teoretical': None, 'state': None, 'multiSemester': None, 'otherSchool': None, 'notMandatory': None, 'evaluation': None, 'credits': None, 'semester': None, 'weeks': None}\n",
      "{'url': 'https://apl.unob.cz/StudijniProgramy/PredmetDetail/456/Anglicky-jazyk', 'id': '456', 'name': None, 'html': '\\r\\n\\r\\n<!DOCTYPE html>\\r\\n<html>\\r\\n<head>\\r\\n  <meta charset=\"utf-8\" />\\r\\n  <meta name=\"viewport\" content=\"wi', 'grant': None, 'department': None, 'spec': None, 'base': None, 'teoretical': None, 'state': None, 'multiSemester': None, 'otherSchool': None, 'notMandatory': None, 'evaluation': None, 'credits': None, 'semester': None, 'weeks': None}\n",
      "{'url': 'https://apl.unob.cz/StudijniProgramy/PredmetDetail/653/Aplikovane-bezpecnostni-technologie', 'id': '653', 'name': None, 'html': '\\r\\n\\r\\n<!DOCTYPE html>\\r\\n<html>\\r\\n<head>\\r\\n  <meta charset=\"utf-8\" />\\r\\n  <meta name=\"viewport\" content=\"wi', 'grant': None, 'department': None, 'spec': None, 'base': None, 'teoretical': None, 'state': None, 'multiSemester': None, 'otherSchool': None, 'notMandatory': None, 'evaluation': None, 'credits': None, 'semester': None, 'weeks': None}\n",
      "{'url': 'https://apl.unob.cz/StudijniProgramy/PredmetDetail/661/Forenzni-analyza', 'id': '661', 'name': None, 'html': '\\r\\n\\r\\n<!DOCTYPE html>\\r\\n<html>\\r\\n<head>\\r\\n  <meta charset=\"utf-8\" />\\r\\n  <meta name=\"viewport\" content=\"wi', 'grant': None, 'department': None, 'spec': None, 'base': None, 'teoretical': None, 'state': None, 'multiSemester': None, 'otherSchool': None, 'notMandatory': None, 'evaluation': None, 'credits': None, 'semester': None, 'weeks': None}\n",
      "{'url': 'https://apl.unob.cz/StudijniProgramy/PredmetDetail/665/Penetracni-testovani', 'id': '665', 'name': None, 'html': '\\r\\n\\r\\n<!DOCTYPE html>\\r\\n<html>\\r\\n<head>\\r\\n  <meta charset=\"utf-8\" />\\r\\n  <meta name=\"viewport\" content=\"wi', 'grant': None, 'department': None, 'spec': None, 'base': None, 'teoretical': None, 'state': None, 'multiSemester': None, 'otherSchool': None, 'notMandatory': None, 'evaluation': None, 'credits': None, 'semester': None, 'weeks': None}\n",
      "{'url': 'https://apl.unob.cz/StudijniProgramy/PredmetDetail/424/Telesna-vychova', 'id': '424', 'name': None, 'html': '\\r\\n\\r\\n<!DOCTYPE html>\\r\\n<html>\\r\\n<head>\\r\\n  <meta charset=\"utf-8\" />\\r\\n  <meta name=\"viewport\" content=\"wi', 'grant': None, 'department': None, 'spec': None, 'base': None, 'teoretical': None, 'state': None, 'multiSemester': None, 'otherSchool': None, 'notMandatory': None, 'evaluation': None, 'credits': None, 'semester': None, 'weeks': None}\n",
      "{'url': 'https://apl.unob.cz/StudijniProgramy/PredmetDetail/672/Vyvoj-a-nasazeni-malware', 'id': '672', 'name': None, 'html': '\\r\\n\\r\\n<!DOCTYPE html>\\r\\n<html>\\r\\n<head>\\r\\n  <meta charset=\"utf-8\" />\\r\\n  <meta name=\"viewport\" content=\"wi', 'grant': None, 'department': None, 'spec': None, 'base': None, 'teoretical': None, 'state': None, 'multiSemester': None, 'otherSchool': None, 'notMandatory': None, 'evaluation': None, 'credits': None, 'semester': None, 'weeks': None}\n",
      "{'url': 'https://apl.unob.cz/StudijniProgramy/PredmetDetail/65887/Francouzsky-jazyk', 'id': '65887', 'name': None, 'html': '\\r\\n\\r\\n<!DOCTYPE html>\\r\\n<html>\\r\\n<head>\\r\\n  <meta charset=\"utf-8\" />\\r\\n  <meta name=\"viewport\" content=\"wi', 'grant': None, 'department': None, 'spec': None, 'base': None, 'teoretical': None, 'state': None, 'multiSemester': None, 'otherSchool': None, 'notMandatory': None, 'evaluation': None, 'credits': None, 'semester': None, 'weeks': None}\n",
      "{'url': 'https://apl.unob.cz/StudijniProgramy/PredmetDetail/65891/Nemecky-jazyk', 'id': '65891', 'name': None, 'html': '\\r\\n\\r\\n<!DOCTYPE html>\\r\\n<html>\\r\\n<head>\\r\\n  <meta charset=\"utf-8\" />\\r\\n  <meta name=\"viewport\" content=\"wi', 'grant': None, 'department': None, 'spec': None, 'base': None, 'teoretical': None, 'state': None, 'multiSemester': None, 'otherSchool': None, 'notMandatory': None, 'evaluation': None, 'credits': None, 'semester': None, 'weeks': None}\n",
      "{'url': 'https://apl.unob.cz/StudijniProgramy/PredmetDetail/608/Rusky-jazyk', 'id': '608', 'name': None, 'html': '\\r\\n\\r\\n<!DOCTYPE html>\\r\\n<html>\\r\\n<head>\\r\\n  <meta charset=\"utf-8\" />\\r\\n  <meta name=\"viewport\" content=\"wi', 'grant': None, 'department': None, 'spec': None, 'base': None, 'teoretical': None, 'state': None, 'multiSemester': None, 'otherSchool': None, 'notMandatory': None, 'evaluation': None, 'credits': None, 'semester': None, 'weeks': None}\n",
      "{'url': 'https://apl.unob.cz/StudijniProgramy/PredmetDetail/650/Analyza-informacnich-zdroju', 'id': '650', 'name': None, 'html': '\\r\\n\\r\\n<!DOCTYPE html>\\r\\n<html>\\r\\n<head>\\r\\n  <meta charset=\"utf-8\" />\\r\\n  <meta name=\"viewport\" content=\"wi', 'grant': None, 'department': None, 'spec': None, 'base': None, 'teoretical': None, 'state': None, 'multiSemester': None, 'otherSchool': None, 'notMandatory': None, 'evaluation': None, 'credits': None, 'semester': None, 'weeks': None}\n",
      "{'url': 'https://apl.unob.cz/StudijniProgramy/PredmetDetail/457/Anglicky-jazyk', 'id': '457', 'name': None, 'html': '\\r\\n\\r\\n<!DOCTYPE html>\\r\\n<html>\\r\\n<head>\\r\\n  <meta charset=\"utf-8\" />\\r\\n  <meta name=\"viewport\" content=\"wi', 'grant': None, 'department': None, 'spec': None, 'base': None, 'teoretical': None, 'state': None, 'multiSemester': None, 'otherSchool': None, 'notMandatory': None, 'evaluation': None, 'credits': None, 'semester': None, 'weeks': None}\n",
      "{'url': 'https://apl.unob.cz/StudijniProgramy/PredmetDetail/659/Botnetove-site', 'id': '659', 'name': None, 'html': '\\r\\n\\r\\n<!DOCTYPE html>\\r\\n<html>\\r\\n<head>\\r\\n  <meta charset=\"utf-8\" />\\r\\n  <meta name=\"viewport\" content=\"wi', 'grant': None, 'department': None, 'spec': None, 'base': None, 'teoretical': None, 'state': None, 'multiSemester': None, 'otherSchool': None, 'notMandatory': None, 'evaluation': None, 'credits': None, 'semester': None, 'weeks': None}\n",
      "{'url': 'https://apl.unob.cz/StudijniProgramy/PredmetDetail/425/Telesna-vychova', 'id': '425', 'name': None, 'html': '\\r\\n\\r\\n<!DOCTYPE html>\\r\\n<html>\\r\\n<head>\\r\\n  <meta charset=\"utf-8\" />\\r\\n  <meta name=\"viewport\" content=\"wi', 'grant': None, 'department': None, 'spec': None, 'base': None, 'teoretical': None, 'state': None, 'multiSemester': None, 'otherSchool': None, 'notMandatory': None, 'evaluation': None, 'credits': None, 'semester': None, 'weeks': None}\n",
      "{'url': 'https://apl.unob.cz/StudijniProgramy/PredmetDetail/676/Zpracovani-diplomove-prace-a-priprava-na-SZZ', 'id': '676', 'name': None, 'html': '\\r\\n\\r\\n<!DOCTYPE html>\\r\\n<html>\\r\\n<head>\\r\\n  <meta charset=\"utf-8\" />\\r\\n  <meta name=\"viewport\" content=\"wi', 'grant': None, 'department': None, 'spec': None, 'base': None, 'teoretical': None, 'state': None, 'multiSemester': None, 'otherSchool': None, 'notMandatory': None, 'evaluation': None, 'credits': None, 'semester': None, 'weeks': None}\n",
      "{'url': 'https://apl.unob.cz/StudijniProgramy/PredmetDetail/65888/Francouzsky-jazyk', 'id': '65888', 'name': None, 'html': '\\r\\n\\r\\n<!DOCTYPE html>\\r\\n<html>\\r\\n<head>\\r\\n  <meta charset=\"utf-8\" />\\r\\n  <meta name=\"viewport\" content=\"wi', 'grant': None, 'department': None, 'spec': None, 'base': None, 'teoretical': None, 'state': None, 'multiSemester': None, 'otherSchool': None, 'notMandatory': None, 'evaluation': None, 'credits': None, 'semester': None, 'weeks': None}\n",
      "{'url': 'https://apl.unob.cz/StudijniProgramy/PredmetDetail/65892/Nemecky-jazyk', 'id': '65892', 'name': None, 'html': '\\r\\n\\r\\n<!DOCTYPE html>\\r\\n<html>\\r\\n<head>\\r\\n  <meta charset=\"utf-8\" />\\r\\n  <meta name=\"viewport\" content=\"wi', 'grant': None, 'department': None, 'spec': None, 'base': None, 'teoretical': None, 'state': None, 'multiSemester': None, 'otherSchool': None, 'notMandatory': None, 'evaluation': None, 'credits': None, 'semester': None, 'weeks': None}\n",
      "{'url': 'https://apl.unob.cz/StudijniProgramy/PredmetDetail/609/Rusky-jazyk', 'id': '609', 'name': None, 'html': '\\r\\n\\r\\n<!DOCTYPE html>\\r\\n<html>\\r\\n<head>\\r\\n  <meta charset=\"utf-8\" />\\r\\n  <meta name=\"viewport\" content=\"wi', 'grant': None, 'department': None, 'spec': None, 'base': None, 'teoretical': None, 'state': None, 'multiSemester': None, 'otherSchool': None, 'notMandatory': None, 'evaluation': None, 'credits': None, 'semester': None, 'weeks': None}\n"
     ]
    }
   ],
   "source": [
    "stm = '<td>Předmět profilujícího základu</td>[^<]+<td>([^<]+)</td>'\n",
    "def createPattern(attributeName):\n",
    "    return f'<td>{attributeName}</td>[^<]+<td>([^<]+)</td>'\n",
    "\n",
    "patterns = {\n",
    "    \"name\": \"Název předmětu\",\n",
    "    \"grant\": \"Garant\",\n",
    "    \"department\": \"Katedra\",\n",
    "    \"spec\": \"Předmět specializace\",\n",
    "    \"base\": \"Předmět profilujícího základu\",\n",
    "    \"teoretical\": \"Teoretický předmět PZ\",\n",
    "    \"state\": \"Státní zkouška\",\n",
    "    \"multiSemester\": \"Vícesemestrální předmět\",\n",
    "    \"otherSchool\": \"Předmět jiné školy\",\n",
    "    \"notMandatory\": \"Volitelnost\",\n",
    "    \"evaluation\": \"Klasifikace\",\n",
    "    \"credits\": \"Kredity\",\n",
    "    \"semester\": \"Dop. roč./sem.\",\n",
    "    \"weeks\": \"Počet týdnů\"\n",
    "}\n",
    "\n",
    "def appendAttributes(data):\n",
    "    for row in data:\n",
    "        for key, value in patterns.items():\n",
    "            occurence = re.findall(createPattern(value), row['html'])\n",
    "            if len(occurence) == 0:\n",
    "                attValue = None\n",
    "            else:\n",
    "                attValue = occurence[0]\n",
    "            row[key] = attValue\n",
    "        yield row\n",
    "        \n",
    "baseUrl = \"https://apl.unob.cz/StudijniProgramy/Studium/4/Kyberneticka-bezpecnost\"\n",
    "pattern = '(\\/StudijniProgramy\\/PredmetDetail\\/([0-9]+)\\/([^\\\"]+))'\n",
    "names = [\"url\", \"id\", \"name\"]\n",
    "\n",
    "data = await getData(baseUrl)\n",
    "tuples = extractData(data, pattern)\n",
    "jsons = nameAllRows(tuples, names)\n",
    "jsonsEx = modifyUrl(jsons, 'https://apl.unob.cz')\n",
    "jsonsWithHTML = await getPages(jsonsEx)\n",
    "jsonsWithAttributes = appendAttributes(jsonsWithHTML)\n",
    "\n",
    "for item in jsonsWithAttributes:\n",
    "    print(item)"
   ]
  },
  {
   "cell_type": "markdown",
   "id": "095f39d1-c946-4ded-b575-e39dc3b6ea49",
   "metadata": {},
   "source": [
    "# Lekce III"
   ]
  },
  {
   "cell_type": "code",
   "execution_count": 79,
   "id": "f0043351-0b9e-45d1-bde2-0768bec1d58d",
   "metadata": {},
   "outputs": [],
   "source": [
    "async def makeItAwaitable(item):\n",
    "    return item"
   ]
  },
  {
   "cell_type": "code",
   "execution_count": 80,
   "id": "13a8e62d-2964-452b-a6b2-5a89a4136751",
   "metadata": {},
   "outputs": [],
   "source": [
    "async def asyncRange(count):\n",
    "    for item in range(count):\n",
    "        yield item"
   ]
  },
  {
   "cell_type": "code",
   "execution_count": 81,
   "id": "506106d8-d1e7-45c0-bbab-f4ff0ce0abcb",
   "metadata": {},
   "outputs": [],
   "source": [
    "async def operation(data):\n",
    "    async for row in data:\n",
    "        yield row + 1"
   ]
  },
  {
   "cell_type": "code",
   "execution_count": 82,
   "id": "97c3191c-42be-46ec-9071-854a34a9ab29",
   "metadata": {},
   "outputs": [],
   "source": [
    "async def asyncList(data):\n",
    "    result = []\n",
    "    async for item in data:\n",
    "        result.append(item)\n",
    "    return result"
   ]
  },
  {
   "cell_type": "code",
   "execution_count": 83,
   "id": "959712c3-fe79-4e04-90c7-639aa15e63ed",
   "metadata": {},
   "outputs": [],
   "source": [
    "async def asyncClose(data):\n",
    "    async for item in data:\n",
    "        continue"
   ]
  },
  {
   "cell_type": "code",
   "execution_count": 84,
   "id": "0f41ad4b-b097-4da2-a63b-67af383768f0",
   "metadata": {},
   "outputs": [],
   "source": [
    "async def asyncPrint(data):\n",
    "    async for item in data:\n",
    "        print(item)\n",
    "        yield item"
   ]
  },
  {
   "cell_type": "code",
   "execution_count": 85,
   "id": "001b313d-b4f6-47cb-a3fc-723329b82831",
   "metadata": {},
   "outputs": [
    {
     "name": "stdout",
     "output_type": "stream",
     "text": [
      "1\n",
      "2\n",
      "3\n"
     ]
    }
   ],
   "source": [
    "await asyncClose(asyncPrint(operation(asyncRange(3))))"
   ]
  },
  {
   "cell_type": "code",
   "execution_count": 86,
   "id": "fe46ff92-31da-4815-ac1f-5aba3ce8f55f",
   "metadata": {},
   "outputs": [
    {
     "name": "stdout",
     "output_type": "stream",
     "text": [
      "[1, 2, 3]\n"
     ]
    }
   ],
   "source": [
    "result = await asyncList(operation(asyncRange(3)))\n",
    "print(result)"
   ]
  },
  {
   "cell_type": "markdown",
   "id": "968e0fb0-4662-40d1-a159-85a91a01106f",
   "metadata": {},
   "source": [
    "## Pokračování získávání dat"
   ]
  },
  {
   "cell_type": "code",
   "execution_count": 87,
   "id": "2ddb9231-8e73-4af1-a209-64114132b79a",
   "metadata": {},
   "outputs": [],
   "source": [
    "def singleCall(asyncFunc):\n",
    "    awaitedResults = {} \n",
    "    async def resultFunc(singleParam):\n",
    "        result = awaitedResults.get(singleParam, None)\n",
    "        if result is None:\n",
    "            result = await asyncFunc(singleParam)\n",
    "            awaitedResults[singleParam] = result\n",
    "        return result\n",
    "    return resultFunc"
   ]
  },
  {
   "cell_type": "code",
   "execution_count": 88,
   "id": "be6e5301-7dc2-4f6f-b1e4-738c812c9ae2",
   "metadata": {},
   "outputs": [],
   "source": [
    "import aiohttp\n",
    "\n",
    "baseUrl = \"https://apl.unob.cz/StudijniProgramy/Studium/4/Kyberneticka-bezpecnost\"\n",
    "\n",
    "@singleCall\n",
    "async def getData(baseUrl): \n",
    "    async with aiohttp.ClientSession() as session:\n",
    "        async with session.get(baseUrl) as resp:\n",
    "            htmlData = await resp.text()\n",
    "    return htmlData"
   ]
  },
  {
   "cell_type": "code",
   "execution_count": 89,
   "id": "58f64d03-3e2e-4df6-857c-3f7330836173",
   "metadata": {},
   "outputs": [],
   "source": [
    "async def extractData(data, pattern):\n",
    "    processor = re.compile(pattern)\n",
    "    items = processor.findall(data)\n",
    "    for item in items:\n",
    "        yield item"
   ]
  },
  {
   "cell_type": "code",
   "execution_count": 90,
   "id": "934fe3dc-9110-4d80-baca-8a320cd2663c",
   "metadata": {},
   "outputs": [],
   "source": [
    "def nameTuple(data, names):\n",
    "    result = {}\n",
    "    for key, value in zip(names, data):\n",
    "        result[key] = value\n",
    "    return result\n",
    "\n",
    "async def nameAllRows(data, names):\n",
    "    async for row in data:\n",
    "        yield nameTuple(row, names)"
   ]
  },
  {
   "cell_type": "code",
   "execution_count": 91,
   "id": "6287f354-0bd7-438d-994b-fa5d18ff49f3",
   "metadata": {},
   "outputs": [],
   "source": [
    "import asyncio\n",
    "\n",
    "async def modifyUrl(data, urlPrefix):\n",
    "    async for row in data:\n",
    "        row['url'] = urlPrefix + row['url']\n",
    "        yield row\n",
    "    \n",
    "async def getPages(data):\n",
    "    async for row in data:\n",
    "        text = await getData(row['url'])\n",
    "        row['html'] = text\n",
    "        yield row\n",
    "    "
   ]
  },
  {
   "cell_type": "code",
   "execution_count": 92,
   "id": "e719523b-cea2-414f-b619-975d1125957b",
   "metadata": {},
   "outputs": [],
   "source": [
    "def createPattern(attributeName):\n",
    "    return f'<td>{attributeName}</td>[^<]+<td>([^<]+)</td>'\n",
    "\n",
    "patterns = {\n",
    "    \"name\": \"Název předmětu\",\n",
    "    \"grant\": \"Garant\",\n",
    "    \"department\": \"Katedra\",\n",
    "    \"spec\": \"Předmět specializace\",\n",
    "    \"base\": \"Předmět profilujícího základu\",\n",
    "    \"teoretical\": \"Teoretický předmět PZ\",\n",
    "    \"state\": \"Státní zkouška\",\n",
    "    \"multiSemester\": \"Vícesemestrální předmět\",\n",
    "    \"otherSchool\": \"Předmět jiné školy\",\n",
    "    \"notMandatory\": \"Volitelnost\",\n",
    "    \"evaluation\": \"Klasifikace\",\n",
    "    \"credits\": \"Kredity\",\n",
    "    \"semester\": \"Dop. roč./sem.\",\n",
    "    \"weeks\": \"Počet týdnů\"\n",
    "}\n",
    "\n",
    "async def appendAttributes(data):\n",
    "    async for row in data:\n",
    "        for key, value in patterns.items():\n",
    "            occurence = re.findall(createPattern(value), row['html'])\n",
    "            if len(occurence) == 0:\n",
    "                attValue = None\n",
    "            else:\n",
    "                attValue = occurence[0]\n",
    "            row[key] = attValue\n",
    "        yield row"
   ]
  },
  {
   "cell_type": "code",
   "execution_count": 93,
   "id": "19e9e46c-22f3-40db-a72f-4ea51b378b29",
   "metadata": {},
   "outputs": [],
   "source": [
    "async def removeAttribute(data, name):\n",
    "    async for item in data:\n",
    "        del item[name]\n",
    "        yield item"
   ]
  },
  {
   "cell_type": "code",
   "execution_count": 94,
   "id": "2bbedcc3-e0ac-4533-83c3-1d9ce29f1bd9",
   "metadata": {},
   "outputs": [],
   "source": [
    "async def asyncList(data):\n",
    "    result = []\n",
    "    async for item in data:\n",
    "        result.append(item)\n",
    "    return result"
   ]
  },
  {
   "cell_type": "code",
   "execution_count": 95,
   "id": "5be11163-4dda-4944-90a9-e934773f9e25",
   "metadata": {},
   "outputs": [],
   "source": [
    "async def asyncClose(data):\n",
    "    async for item in data:\n",
    "        continue"
   ]
  },
  {
   "cell_type": "code",
   "execution_count": 128,
   "id": "dd3fec42-8d2c-4f89-a1ec-063804313a1e",
   "metadata": {},
   "outputs": [],
   "source": [
    "import re\n",
    "baseUrl = \"https://apl.unob.cz/StudijniProgramy/Studium/4/Kyberneticka-bezpecnost\"\n",
    "pattern = '(\\/StudijniProgramy\\/PredmetDetail\\/([0-9]+)\\/([^\\\"]+))'\n",
    "names = [\"url\", \"id\", \"name\"]\n",
    "\n",
    "data = await getData(baseUrl)\n",
    "tuples = extractData(data, pattern)\n",
    "jsons = nameAllRows(tuples, names)\n",
    "jsonsEx = modifyUrl(jsons, 'https://apl.unob.cz')\n",
    "jsonsWithHTML = getPages(jsonsEx)\n",
    "jsonsAttributed = appendAttributes(jsonsWithHTML)\n",
    "jsonsWOHtml = removeAttribute(jsonsAttributed, 'html')\n",
    "#printed = asyncPrint(jsonsWOHtml)\n",
    "allRows = await asyncList(jsonsWOHtml)"
   ]
  },
  {
   "cell_type": "code",
   "execution_count": null,
   "id": "ce602f27-11a0-4345-b8b1-d417c4a4c416",
   "metadata": {},
   "outputs": [
    {
     "data": {
      "text/html": [
       "<div>\n",
       "<style scoped>\n",
       "    .dataframe tbody tr th:only-of-type {\n",
       "        vertical-align: middle;\n",
       "    }\n",
       "\n",
       "    .dataframe tbody tr th {\n",
       "        vertical-align: top;\n",
       "    }\n",
       "\n",
       "    .dataframe thead th {\n",
       "        text-align: right;\n",
       "    }\n",
       "</style>\n",
       "<table border=\"1\" class=\"dataframe\">\n",
       "  <thead>\n",
       "    <tr style=\"text-align: right;\">\n",
       "      <th></th>\n",
       "      <th>url</th>\n",
       "      <th>id</th>\n",
       "      <th>name</th>\n",
       "      <th>grant</th>\n",
       "      <th>department</th>\n",
       "      <th>spec</th>\n",
       "      <th>base</th>\n",
       "      <th>teoretical</th>\n",
       "      <th>state</th>\n",
       "      <th>multiSemester</th>\n",
       "      <th>otherSchool</th>\n",
       "      <th>notMandatory</th>\n",
       "      <th>evaluation</th>\n",
       "      <th>credits</th>\n",
       "      <th>semester</th>\n",
       "      <th>weeks</th>\n",
       "    </tr>\n",
       "  </thead>\n",
       "  <tbody>\n",
       "    <tr>\n",
       "      <th>0</th>\n",
       "      <td>https://apl.unob.cz/StudijniProgramy/PredmetDe...</td>\n",
       "      <td>3</td>\n",
       "      <td>Algoritmizace a programov&amp;#xE1;n&amp;#xED; (AlgProg)</td>\n",
       "      <td>None</td>\n",
       "      <td>Katedra informatiky a kybernetick&amp;#xFD;ch oper...</td>\n",
       "      <td>NE</td>\n",
       "      <td>ANO</td>\n",
       "      <td>NE</td>\n",
       "      <td>NE</td>\n",
       "      <td>\\r\\nNE</td>\n",
       "      <td>NE</td>\n",
       "      <td>Povinn&amp;#xFD;</td>\n",
       "      <td>Z&amp;#xE1;po&amp;#x10D;et &amp;#x2B; Zkou&amp;#x161;ka</td>\n",
       "      <td>6</td>\n",
       "      <td>1/1</td>\n",
       "      <td>0</td>\n",
       "    </tr>\n",
       "    <tr>\n",
       "      <th>1</th>\n",
       "      <td>https://apl.unob.cz/StudijniProgramy/PredmetDe...</td>\n",
       "      <td>448</td>\n",
       "      <td>Anglick&amp;#xFD; jazyk (AJ)</td>\n",
       "      <td>None</td>\n",
       "      <td>Centrum jazykov&amp;#xE9;ho vzd&amp;#x11B;l&amp;#xE1;v&amp;#xE...</td>\n",
       "      <td>NE</td>\n",
       "      <td>NE</td>\n",
       "      <td>NE</td>\n",
       "      <td>NE</td>\n",
       "      <td>None</td>\n",
       "      <td>NE</td>\n",
       "      <td>Povinn&amp;#xFD;</td>\n",
       "      <td>Z&amp;#xE1;po&amp;#x10D;et</td>\n",
       "      <td>2</td>\n",
       "      <td>1/1</td>\n",
       "      <td>12</td>\n",
       "    </tr>\n",
       "    <tr>\n",
       "      <th>2</th>\n",
       "      <td>https://apl.unob.cz/StudijniProgramy/PredmetDe...</td>\n",
       "      <td>327</td>\n",
       "      <td>Leadership (LEA)</td>\n",
       "      <td>None</td>\n",
       "      <td>Katedra leadershipu</td>\n",
       "      <td>NE</td>\n",
       "      <td>NE</td>\n",
       "      <td>NE</td>\n",
       "      <td>NE</td>\n",
       "      <td>None</td>\n",
       "      <td>NE</td>\n",
       "      <td>Povinn&amp;#xFD;</td>\n",
       "      <td>Z&amp;#xE1;po&amp;#x10D;et</td>\n",
       "      <td>2</td>\n",
       "      <td>1/1</td>\n",
       "      <td>12</td>\n",
       "    </tr>\n",
       "    <tr>\n",
       "      <th>3</th>\n",
       "      <td>https://apl.unob.cz/StudijniProgramy/PredmetDe...</td>\n",
       "      <td>602</td>\n",
       "      <td>Matematika I (MAT I)</td>\n",
       "      <td>None</td>\n",
       "      <td>Katedra matematiky a fyziky</td>\n",
       "      <td>NE</td>\n",
       "      <td>ANO</td>\n",
       "      <td>NE</td>\n",
       "      <td>NE</td>\n",
       "      <td>\\r\\nNE</td>\n",
       "      <td>NE</td>\n",
       "      <td>Povinn&amp;#xFD;</td>\n",
       "      <td>Z&amp;#xE1;po&amp;#x10D;et &amp;#x2B; Zkou&amp;#x161;ka</td>\n",
       "      <td>6</td>\n",
       "      <td>1/1</td>\n",
       "      <td>12</td>\n",
       "    </tr>\n",
       "    <tr>\n",
       "      <th>4</th>\n",
       "      <td>https://apl.unob.cz/StudijniProgramy/PredmetDe...</td>\n",
       "      <td>664</td>\n",
       "      <td>Metodologie (MET)</td>\n",
       "      <td>None</td>\n",
       "      <td>Centrum bezpe&amp;#x10D;nostn&amp;#xED;ch a vojenskost...</td>\n",
       "      <td>NE</td>\n",
       "      <td>ANO</td>\n",
       "      <td>NE</td>\n",
       "      <td>NE</td>\n",
       "      <td>\\r\\nNE</td>\n",
       "      <td>NE</td>\n",
       "      <td>Povinn&amp;#xFD;</td>\n",
       "      <td>Klasifikovan&amp;#xFD; z&amp;#xE1;po&amp;#x10D;et</td>\n",
       "      <td>6</td>\n",
       "      <td>1/1</td>\n",
       "      <td>12</td>\n",
       "    </tr>\n",
       "    <tr>\n",
       "      <th>...</th>\n",
       "      <td>...</td>\n",
       "      <td>...</td>\n",
       "      <td>...</td>\n",
       "      <td>...</td>\n",
       "      <td>...</td>\n",
       "      <td>...</td>\n",
       "      <td>...</td>\n",
       "      <td>...</td>\n",
       "      <td>...</td>\n",
       "      <td>...</td>\n",
       "      <td>...</td>\n",
       "      <td>...</td>\n",
       "      <td>...</td>\n",
       "      <td>...</td>\n",
       "      <td>...</td>\n",
       "      <td>...</td>\n",
       "    </tr>\n",
       "    <tr>\n",
       "      <th>76</th>\n",
       "      <td>https://apl.unob.cz/StudijniProgramy/PredmetDe...</td>\n",
       "      <td>425</td>\n",
       "      <td>T&amp;#x11B;lesn&amp;#xE1; v&amp;#xFD;chova (TV)</td>\n",
       "      <td>None</td>\n",
       "      <td>Centrum t&amp;#x11B;lesn&amp;#xE9; v&amp;#xFD;chovy a sportu</td>\n",
       "      <td>NE</td>\n",
       "      <td>NE</td>\n",
       "      <td>NE</td>\n",
       "      <td>NE</td>\n",
       "      <td>None</td>\n",
       "      <td>NE</td>\n",
       "      <td>Povinn&amp;#xFD;</td>\n",
       "      <td>Z&amp;#xE1;po&amp;#x10D;et</td>\n",
       "      <td>2</td>\n",
       "      <td>5/10</td>\n",
       "      <td>12</td>\n",
       "    </tr>\n",
       "    <tr>\n",
       "      <th>77</th>\n",
       "      <td>https://apl.unob.cz/StudijniProgramy/PredmetDe...</td>\n",
       "      <td>676</td>\n",
       "      <td>Zpracov&amp;#xE1;n&amp;#xED; diplomov&amp;#xE9; pr&amp;#xE1;ce...</td>\n",
       "      <td>None</td>\n",
       "      <td>Katedra informatiky a kybernetick&amp;#xFD;ch oper...</td>\n",
       "      <td>NE</td>\n",
       "      <td>NE</td>\n",
       "      <td>NE</td>\n",
       "      <td>NE</td>\n",
       "      <td>\\r\\nNE</td>\n",
       "      <td>NE</td>\n",
       "      <td>Povinn&amp;#xFD;</td>\n",
       "      <td>Z&amp;#xE1;po&amp;#x10D;et</td>\n",
       "      <td>16</td>\n",
       "      <td>5/10</td>\n",
       "      <td>12</td>\n",
       "    </tr>\n",
       "    <tr>\n",
       "      <th>78</th>\n",
       "      <td>https://apl.unob.cz/StudijniProgramy/PredmetDe...</td>\n",
       "      <td>65888</td>\n",
       "      <td>Francouzsk&amp;#xFD; jazyk (FJ)</td>\n",
       "      <td>None</td>\n",
       "      <td>Centrum jazykov&amp;#xE9;ho vzd&amp;#x11B;l&amp;#xE1;v&amp;#xE...</td>\n",
       "      <td>NE</td>\n",
       "      <td>NE</td>\n",
       "      <td>NE</td>\n",
       "      <td>NE</td>\n",
       "      <td>None</td>\n",
       "      <td>NE</td>\n",
       "      <td>Povinn&amp;#x11B; voliteln&amp;#xFD;</td>\n",
       "      <td>Z&amp;#xE1;po&amp;#x10D;et</td>\n",
       "      <td>2</td>\n",
       "      <td>5/10</td>\n",
       "      <td>12</td>\n",
       "    </tr>\n",
       "    <tr>\n",
       "      <th>79</th>\n",
       "      <td>https://apl.unob.cz/StudijniProgramy/PredmetDe...</td>\n",
       "      <td>65892</td>\n",
       "      <td>N&amp;#x11B;meck&amp;#xFD; jazyk (NJ)</td>\n",
       "      <td>None</td>\n",
       "      <td>Centrum jazykov&amp;#xE9;ho vzd&amp;#x11B;l&amp;#xE1;v&amp;#xE...</td>\n",
       "      <td>NE</td>\n",
       "      <td>NE</td>\n",
       "      <td>NE</td>\n",
       "      <td>NE</td>\n",
       "      <td>None</td>\n",
       "      <td>NE</td>\n",
       "      <td>Povinn&amp;#x11B; voliteln&amp;#xFD;</td>\n",
       "      <td>Z&amp;#xE1;po&amp;#x10D;et</td>\n",
       "      <td>2</td>\n",
       "      <td>5/10</td>\n",
       "      <td>12</td>\n",
       "    </tr>\n",
       "    <tr>\n",
       "      <th>80</th>\n",
       "      <td>https://apl.unob.cz/StudijniProgramy/PredmetDe...</td>\n",
       "      <td>609</td>\n",
       "      <td>Rusk&amp;#xFD; jazyk (RJ)</td>\n",
       "      <td>None</td>\n",
       "      <td>Centrum jazykov&amp;#xE9;ho vzd&amp;#x11B;l&amp;#xE1;v&amp;#xE...</td>\n",
       "      <td>NE</td>\n",
       "      <td>NE</td>\n",
       "      <td>NE</td>\n",
       "      <td>NE</td>\n",
       "      <td>\\r\\nNE</td>\n",
       "      <td>NE</td>\n",
       "      <td>Povinn&amp;#x11B; voliteln&amp;#xFD;</td>\n",
       "      <td>Z&amp;#xE1;po&amp;#x10D;et</td>\n",
       "      <td>2</td>\n",
       "      <td>5/10</td>\n",
       "      <td>12</td>\n",
       "    </tr>\n",
       "  </tbody>\n",
       "</table>\n",
       "<p>81 rows × 16 columns</p>\n",
       "</div>"
      ],
      "text/plain": [
       "                                                  url     id  \\\n",
       "0   https://apl.unob.cz/StudijniProgramy/PredmetDe...      3   \n",
       "1   https://apl.unob.cz/StudijniProgramy/PredmetDe...    448   \n",
       "2   https://apl.unob.cz/StudijniProgramy/PredmetDe...    327   \n",
       "3   https://apl.unob.cz/StudijniProgramy/PredmetDe...    602   \n",
       "4   https://apl.unob.cz/StudijniProgramy/PredmetDe...    664   \n",
       "..                                                ...    ...   \n",
       "76  https://apl.unob.cz/StudijniProgramy/PredmetDe...    425   \n",
       "77  https://apl.unob.cz/StudijniProgramy/PredmetDe...    676   \n",
       "78  https://apl.unob.cz/StudijniProgramy/PredmetDe...  65888   \n",
       "79  https://apl.unob.cz/StudijniProgramy/PredmetDe...  65892   \n",
       "80  https://apl.unob.cz/StudijniProgramy/PredmetDe...    609   \n",
       "\n",
       "                                                 name grant  \\\n",
       "0    Algoritmizace a programov&#xE1;n&#xED; (AlgProg)  None   \n",
       "1                            Anglick&#xFD; jazyk (AJ)  None   \n",
       "2                                    Leadership (LEA)  None   \n",
       "3                                Matematika I (MAT I)  None   \n",
       "4                                   Metodologie (MET)  None   \n",
       "..                                                ...   ...   \n",
       "76               T&#x11B;lesn&#xE1; v&#xFD;chova (TV)  None   \n",
       "77  Zpracov&#xE1;n&#xED; diplomov&#xE9; pr&#xE1;ce...  None   \n",
       "78                        Francouzsk&#xFD; jazyk (FJ)  None   \n",
       "79                      N&#x11B;meck&#xFD; jazyk (NJ)  None   \n",
       "80                              Rusk&#xFD; jazyk (RJ)  None   \n",
       "\n",
       "                                           department spec base teoretical  \\\n",
       "0   Katedra informatiky a kybernetick&#xFD;ch oper...   NE  ANO         NE   \n",
       "1   Centrum jazykov&#xE9;ho vzd&#x11B;l&#xE1;v&#xE...   NE   NE         NE   \n",
       "2                                 Katedra leadershipu   NE   NE         NE   \n",
       "3                         Katedra matematiky a fyziky   NE  ANO         NE   \n",
       "4   Centrum bezpe&#x10D;nostn&#xED;ch a vojenskost...   NE  ANO         NE   \n",
       "..                                                ...  ...  ...        ...   \n",
       "76   Centrum t&#x11B;lesn&#xE9; v&#xFD;chovy a sportu   NE   NE         NE   \n",
       "77  Katedra informatiky a kybernetick&#xFD;ch oper...   NE   NE         NE   \n",
       "78  Centrum jazykov&#xE9;ho vzd&#x11B;l&#xE1;v&#xE...   NE   NE         NE   \n",
       "79  Centrum jazykov&#xE9;ho vzd&#x11B;l&#xE1;v&#xE...   NE   NE         NE   \n",
       "80  Centrum jazykov&#xE9;ho vzd&#x11B;l&#xE1;v&#xE...   NE   NE         NE   \n",
       "\n",
       "   state     multiSemester otherSchool                  notMandatory  \\\n",
       "0     NE  \\r\\nNE                    NE                  Povinn&#xFD;   \n",
       "1     NE              None          NE                  Povinn&#xFD;   \n",
       "2     NE              None          NE                  Povinn&#xFD;   \n",
       "3     NE  \\r\\nNE                    NE                  Povinn&#xFD;   \n",
       "4     NE  \\r\\nNE                    NE                  Povinn&#xFD;   \n",
       "..   ...               ...         ...                           ...   \n",
       "76    NE              None          NE                  Povinn&#xFD;   \n",
       "77    NE  \\r\\nNE                    NE                  Povinn&#xFD;   \n",
       "78    NE              None          NE  Povinn&#x11B; voliteln&#xFD;   \n",
       "79    NE              None          NE  Povinn&#x11B; voliteln&#xFD;   \n",
       "80    NE  \\r\\nNE                    NE  Povinn&#x11B; voliteln&#xFD;   \n",
       "\n",
       "                                 evaluation credits semester weeks  \n",
       "0   Z&#xE1;po&#x10D;et &#x2B; Zkou&#x161;ka       6      1/1     0  \n",
       "1                        Z&#xE1;po&#x10D;et       2      1/1    12  \n",
       "2                        Z&#xE1;po&#x10D;et       2      1/1    12  \n",
       "3   Z&#xE1;po&#x10D;et &#x2B; Zkou&#x161;ka       6      1/1    12  \n",
       "4     Klasifikovan&#xFD; z&#xE1;po&#x10D;et       6      1/1    12  \n",
       "..                                      ...     ...      ...   ...  \n",
       "76                       Z&#xE1;po&#x10D;et       2     5/10    12  \n",
       "77                       Z&#xE1;po&#x10D;et      16     5/10    12  \n",
       "78                       Z&#xE1;po&#x10D;et       2     5/10    12  \n",
       "79                       Z&#xE1;po&#x10D;et       2     5/10    12  \n",
       "80                       Z&#xE1;po&#x10D;et       2     5/10    12  \n",
       "\n",
       "[81 rows x 16 columns]"
      ]
     },
     "execution_count": 129,
     "metadata": {},
     "output_type": "execute_result"
    }
   ],
   "source": [
    "import pandas as pd\n",
    "pd.DataFrame(allRows)"
   ]
  },
  {
   "cell_type": "markdown",
   "id": "e52ebdee-c73a-4c7c-b72b-5f02f2952f95",
   "metadata": {},
   "source": [
    "Podmínky pro sběr dat:\n",
    "- Data musí být homogenní.\n",
    "- Jestliže je va datech atribut ve tvaru vektoru, listu, dictionary, tak je nelze uložit\n",
    "- Musí být typu: string, int, (uuid), datetime, bool\n",
    "Jak postupovat při plnění databáze získanými daty?\n",
    "- "
   ]
  },
  {
   "cell_type": "code",
   "execution_count": 144,
   "id": "70359e81-56bf-45a2-806e-ceba23da2d75",
   "metadata": {},
   "outputs": [
    {
     "name": "stdout",
     "output_type": "stream",
     "text": [
      "{'Katedra informatiky a kybernetick&#xFD;ch operac&#xED;': '78a1355c-6be0-11ed-9e9b-0242ac120003', 'Centrum jazykov&#xE9;ho vzd&#x11B;l&#xE1;v&#xE1;n&#xED;': '78a13660-6be0-11ed-9e9b-0242ac120003', 'Katedra leadershipu': '78a136b0-6be0-11ed-9e9b-0242ac120003', 'Katedra matematiky a fyziky': '78a136ec-6be0-11ed-9e9b-0242ac120003', 'Centrum bezpe&#x10D;nostn&#xED;ch a vojenskostrategick&#xFD;ch studi&#xED;': '78a13728-6be0-11ed-9e9b-0242ac120003', 'Centrum t&#x11B;lesn&#xE9; v&#xFD;chovy a sportu': '78a1375a-6be0-11ed-9e9b-0242ac120003', 'Katedra &#x159;&#xED;zen&#xED; zdroj&#x16F;': '78a1378c-6be0-11ed-9e9b-0242ac120003', 'Katedra elektrotechniky': '78a137c8-6be0-11ed-9e9b-0242ac120003', 'Katedra teorie vojenstv&#xED;': '78a1384a-6be0-11ed-9e9b-0242ac120003', 'Katedra komunika&#x10D;n&#xED;ch technologi&#xED;, elektronick&#xE9;ho boje a radiolokace': '78a138e0-6be0-11ed-9e9b-0242ac120003'}\n"
     ]
    },
    {
     "data": {
      "text/plain": [
       "[{'id': '78a1355c-6be0-11ed-9e9b-0242ac120003',\n",
       "  'name': 'Katedra informatiky a kybernetick&#xFD;ch operac&#xED;'},\n",
       " {'id': '78a13660-6be0-11ed-9e9b-0242ac120003',\n",
       "  'name': 'Centrum jazykov&#xE9;ho vzd&#x11B;l&#xE1;v&#xE1;n&#xED;'},\n",
       " {'id': '78a136b0-6be0-11ed-9e9b-0242ac120003', 'name': 'Katedra leadershipu'},\n",
       " {'id': '78a136ec-6be0-11ed-9e9b-0242ac120003',\n",
       "  'name': 'Katedra matematiky a fyziky'},\n",
       " {'id': '78a13728-6be0-11ed-9e9b-0242ac120003',\n",
       "  'name': 'Centrum bezpe&#x10D;nostn&#xED;ch a vojenskostrategick&#xFD;ch studi&#xED;'},\n",
       " {'id': '78a1375a-6be0-11ed-9e9b-0242ac120003',\n",
       "  'name': 'Centrum t&#x11B;lesn&#xE9; v&#xFD;chovy a sportu'},\n",
       " {'id': '78a1378c-6be0-11ed-9e9b-0242ac120003',\n",
       "  'name': 'Katedra &#x159;&#xED;zen&#xED; zdroj&#x16F;'},\n",
       " {'id': '78a137c8-6be0-11ed-9e9b-0242ac120003',\n",
       "  'name': 'Katedra elektrotechniky'},\n",
       " {'id': '78a1384a-6be0-11ed-9e9b-0242ac120003',\n",
       "  'name': 'Katedra teorie vojenstv&#xED;'},\n",
       " {'id': '78a138e0-6be0-11ed-9e9b-0242ac120003',\n",
       "  'name': 'Katedra komunika&#x10D;n&#xED;ch technologi&#xED;, elektronick&#xE9;ho boje a radiolokace'}]"
      ]
     },
     "execution_count": 144,
     "metadata": {},
     "output_type": "execute_result"
    }
   ],
   "source": [
    "#ocisteni dat\n",
    "import uuid\n",
    "departments = {}\n",
    "for row in allRows:\n",
    "    depName = row.get('department', None)\n",
    "    if depName is None:\n",
    "        continue\n",
    "    depId = departments.get(depName, None)\n",
    "    if depId is None:\n",
    "        depId = f'{uuid.uuid1()}'\n",
    "        departments[depName] = depId\n",
    "    row['department_id'] = depId\n",
    "\n",
    "print(departments)\n",
    "departmentList = []\n",
    "for key, value in departments.items():\n",
    "    departmentList.append({'id': value, 'name': key})\n",
    "departmentList\n",
    "        \n"
   ]
  },
  {
   "cell_type": "markdown",
   "id": "9921097c-158b-4052-afd9-305426f3fe92",
   "metadata": {},
   "source": [
    "vytvoření strukutry pomocí dictionary\n",
    "tím že použiju dictionary v dicrtionary, tak zkrátím dobu hledání(díky indexům - key), procházím key, ne values "
   ]
  },
  {
   "cell_type": "code",
   "execution_count": null,
   "id": "47ada8cf-b5c4-45e5-ab3a-9caa54a144d8",
   "metadata": {},
   "outputs": [],
   "source": [
    "db = {\n",
    "    'users':{\n",
    "        1: {},\n",
    "        '1':{},\n",
    "    },\n",
    "    'groups':{\n",
    "        1:{},\n",
    "        '1':{},\n",
    "    }    \n",
    "} "
   ]
  },
  {
   "cell_type": "code",
   "execution_count": null,
   "id": "dddd06c3-0b59-4355-b84f-520df7330f40",
   "metadata": {},
   "outputs": [],
   "source": []
  },
  {
   "cell_type": "code",
   "execution_count": 97,
   "id": "b6d38bff-b560-4976-9d49-d28c64d9b0b0",
   "metadata": {},
   "outputs": [],
   "source": [
    "async def makeItAwaitable(value):\n",
    "    return value"
   ]
  },
  {
   "cell_type": "code",
   "execution_count": 98,
   "id": "a69b03d2-9596-4276-8df1-fae9f6aa27af",
   "metadata": {},
   "outputs": [
    {
     "data": {
      "text/plain": [
       "3"
      ]
     },
     "execution_count": 98,
     "metadata": {},
     "output_type": "execute_result"
    }
   ],
   "source": [
    "b = lambda x: makeItAwaitable(x)\n",
    "await b(3)"
   ]
  },
  {
   "cell_type": "markdown",
   "id": "81004363-bb78-49bc-85c4-fa9b09fcf1a0",
   "metadata": {},
   "source": [
    "# Lekce IV"
   ]
  },
  {
   "cell_type": "markdown",
   "id": "e62ba833-c199-4244-9cc3-db72ef86f356",
   "metadata": {},
   "source": [
    "## Generátory"
   ]
  },
  {
   "cell_type": "markdown",
   "id": "38f78251-3ab9-483a-a185-12e9d4836ec3",
   "metadata": {},
   "source": [
    "### Motivace"
   ]
  },
  {
   "cell_type": "code",
   "execution_count": 99,
   "id": "a250b9df-5f35-4475-a362-90289fbf8a37",
   "metadata": {},
   "outputs": [],
   "source": [
    "class StateMachineClass:\n",
    "    def __init__ (self, params):\n",
    "        self.params = params\n",
    "        self.state = 0\n",
    "\n",
    "    def __iter__ (self):\n",
    "        return self\n",
    "\n",
    "    def __next__ (self):\n",
    "        self.state += 1\n",
    "        if self.state == 1:\n",
    "            return 'A'\n",
    "        elif self.state == 2:\n",
    "            return 'hoj'\n",
    "        elif self.state == 3:\n",
    "            return ' '\n",
    "        elif self.state == 4:\n",
    "            return self.params\n",
    "        else:\n",
    "            raise StopIteration()\n",
    "        return None\n",
    "    "
   ]
  },
  {
   "cell_type": "code",
   "execution_count": 100,
   "id": "c6c94817-9f6c-4061-b594-96d87b5b1e61",
   "metadata": {},
   "outputs": [
    {
     "name": "stdout",
     "output_type": "stream",
     "text": [
      "A\n",
      "hoj\n",
      " \n",
      "Pepo\n"
     ]
    }
   ],
   "source": [
    "stateMachine = StateMachineClass('Pepo')\n",
    "while True:\n",
    "    try:\n",
    "        result = stateMachine.__next__()\n",
    "        print(result)\n",
    "    except StopIteration:\n",
    "        break"
   ]
  },
  {
   "cell_type": "code",
   "execution_count": 101,
   "id": "7c5cbd12-4bd7-4ff7-8adb-c3d5a8804300",
   "metadata": {},
   "outputs": [
    {
     "name": "stdout",
     "output_type": "stream",
     "text": [
      "A\n",
      "hoj\n",
      " \n",
      "Pepo\n"
     ]
    }
   ],
   "source": [
    "stateMachine = StateMachineClass('Pepo')\n",
    "for item in stateMachine:\n",
    "    print(item)"
   ]
  },
  {
   "cell_type": "code",
   "execution_count": 102,
   "id": "40dbf1d1-ca1f-432a-aef8-cf673cbe32fe",
   "metadata": {},
   "outputs": [
    {
     "name": "stdout",
     "output_type": "stream",
     "text": [
      "A\n",
      "hoj\n",
      " \n",
      "Pepo\n"
     ]
    }
   ],
   "source": [
    "def StateMachineFunc(params):\n",
    "    yield 'A'\n",
    "    yield 'hoj'\n",
    "    yield ' '\n",
    "    yield params\n",
    "    pass\n",
    "\n",
    "stateMachine = StateMachineFunc('Pepo')\n",
    "for item in stateMachine:\n",
    "    print(item)"
   ]
  },
  {
   "cell_type": "markdown",
   "id": "1fa1664d-e23a-4f5a-b56b-08f0a25b414e",
   "metadata": {},
   "source": [
    "### Principy"
   ]
  },
  {
   "cell_type": "code",
   "execution_count": 103,
   "id": "00b14d8c-8811-4550-8571-a669f561e0ab",
   "metadata": {},
   "outputs": [
    {
     "name": "stdout",
     "output_type": "stream",
     "text": [
      "A will be yielded\n",
      "A\n",
      "# next iteration\n",
      "A has been yielded\n",
      "hoj will be yielded\n",
      "hoj\n",
      "# next iteration\n",
      "hoj has been yielded\n",
      "  will be yielded\n",
      " \n",
      "# next iteration\n",
      "  has been yielded\n",
      "Pepo will be yielded\n",
      "Pepo\n",
      "# next iteration\n",
      "Pepo has been yielded\n"
     ]
    }
   ],
   "source": [
    "def StateMachineFuncEx(params):\n",
    "    print('A', 'will be yielded')\n",
    "    yield 'A'\n",
    "    print('A', 'has been yielded')\n",
    "    print('hoj', 'will be yielded')\n",
    "    yield 'hoj'\n",
    "    print('hoj', 'has been yielded')\n",
    "    print(' ', 'will be yielded')\n",
    "    yield ' '\n",
    "    print(' ', 'has been yielded')\n",
    "    print(params, 'will be yielded')\n",
    "    yield params\n",
    "    print(params, 'has been yielded')\n",
    "    pass\n",
    "\n",
    "for item in StateMachineFuncEx('Pepo'):\n",
    "    print(item)\n",
    "    print('# next iteration')\n",
    "    "
   ]
  },
  {
   "cell_type": "code",
   "execution_count": 104,
   "id": "901ac7da-2617-4e4d-9414-7139a045ff87",
   "metadata": {},
   "outputs": [],
   "source": [
    "def myRange(start=0, step=1, stop=10):\n",
    "    current = start\n",
    "    while True:\n",
    "        print('going to yield', current)\n",
    "        yield current\n",
    "        current = current + step\n",
    "        if current >= stop:\n",
    "            break"
   ]
  },
  {
   "cell_type": "code",
   "execution_count": 105,
   "id": "ac13e372-a957-4a37-b1ef-06ab08e9110d",
   "metadata": {},
   "outputs": [],
   "source": [
    "def printAll(data, comment=\"\"):\n",
    "    for item in data:\n",
    "        print(comment, item)\n",
    "        yield item"
   ]
  },
  {
   "cell_type": "code",
   "execution_count": 106,
   "id": "f04acfbb-7176-4890-8b37-476f30a806fc",
   "metadata": {},
   "outputs": [],
   "source": [
    "def close(data):\n",
    "    for item in data:\n",
    "        continue"
   ]
  },
  {
   "cell_type": "code",
   "execution_count": 107,
   "id": "2e19135c-9ec9-4640-a196-e244e272d4b6",
   "metadata": {},
   "outputs": [
    {
     "name": "stdout",
     "output_type": "stream",
     "text": [
      "going to yield 0\n",
      "=> 0\n",
      "going to yield 1\n",
      "=> 1\n",
      "going to yield 2\n",
      "=> 2\n",
      "going to yield 3\n",
      "=> 3\n",
      "going to yield 4\n",
      "=> 4\n",
      "going to yield 5\n",
      "=> 5\n",
      "going to yield 6\n",
      "=> 6\n",
      "going to yield 7\n",
      "=> 7\n",
      "going to yield 8\n",
      "=> 8\n",
      "going to yield 9\n",
      "=> 9\n"
     ]
    }
   ],
   "source": [
    "gen1 = myRange(stop=10)\n",
    "gen1 = printAll(gen1, '=>')\n",
    "gen1 = close(gen1)"
   ]
  },
  {
   "cell_type": "markdown",
   "id": "04fa955b-f833-46d6-b7fc-2b8edc3824c4",
   "metadata": {},
   "source": [
    "### Zřetězené generátory "
   ]
  },
  {
   "cell_type": "code",
   "execution_count": 108,
   "id": "9ff49873-af7c-41ec-86d6-14262f925c23",
   "metadata": {},
   "outputs": [],
   "source": [
    "def myRange(start=0, step=1, stop=10):\n",
    "    current = start\n",
    "    while True:\n",
    "        yield current\n",
    "        current = current + step\n",
    "        if current == stop:\n",
    "            break"
   ]
  },
  {
   "cell_type": "code",
   "execution_count": 109,
   "id": "cf80faa9-6c69-4aea-a1b1-c38d01003798",
   "metadata": {},
   "outputs": [],
   "source": [
    "def printAll(data, comment=\"\"):\n",
    "    for item in data:\n",
    "        print(comment, item)\n",
    "        yield item"
   ]
  },
  {
   "cell_type": "code",
   "execution_count": 110,
   "id": "83fb9efa-711e-4bf5-9928-625b0bdb5c33",
   "metadata": {},
   "outputs": [],
   "source": [
    "def limit(data, limit):\n",
    "    for index, item in enumerate(data):\n",
    "        yield item\n",
    "        if index >= limit:\n",
    "            break"
   ]
  },
  {
   "cell_type": "code",
   "execution_count": 111,
   "id": "4c439414-e58d-49a7-b9fe-8e83d777b420",
   "metadata": {},
   "outputs": [],
   "source": [
    "def skip(data, skip):\n",
    "    for index, item in enumerate(data):\n",
    "        if index >= skip:\n",
    "            break\n",
    "    for item in data:\n",
    "        yield item"
   ]
  },
  {
   "cell_type": "code",
   "execution_count": 112,
   "id": "9ca4a7bb-7b56-43c1-b35d-8c0f6b14590c",
   "metadata": {},
   "outputs": [],
   "source": [
    "def close(data):\n",
    "    for item in data:\n",
    "        continue"
   ]
  },
  {
   "cell_type": "code",
   "execution_count": 113,
   "id": "f26f874c-d986-441f-85f2-5ee9224f2d84",
   "metadata": {},
   "outputs": [
    {
     "name": "stdout",
     "output_type": "stream",
     "text": [
      "wo limits 0\n",
      "wo limits 1\n",
      "wo limits 2\n",
      "wo limits 3\n",
      "wo limits 4\n",
      "wo limits 5\n",
      "wo limits 6\n",
      "wo limits 7\n",
      "wo limits 8\n",
      "wo limits 9\n"
     ]
    }
   ],
   "source": [
    "gen1 = myRange()\n",
    "gen1 = printAll(gen1, 'wo limits')\n",
    "gen1 = skip(gen1, 10)\n",
    "gen1 = limit(gen1, 10)\n",
    "gen1 = printAll(gen1, ':)')\n",
    "ge1 = close(gen1)"
   ]
  },
  {
   "cell_type": "markdown",
   "id": "b75a8821-fa96-438f-9a6c-21e1e734efe2",
   "metadata": {},
   "source": [
    "### Conversion :))"
   ]
  },
  {
   "cell_type": "code",
   "execution_count": 114,
   "id": "f810c2b8-ec5b-46ec-b0c2-324ae444b006",
   "metadata": {},
   "outputs": [],
   "source": [
    "def asStreamOperator(op):\n",
    "    def result(data):\n",
    "        for item in data:\n",
    "            yield op(item)\n",
    "    return result"
   ]
  },
  {
   "cell_type": "code",
   "execution_count": 115,
   "id": "c3feed6b-1340-4758-bb93-f8fb29ddf809",
   "metadata": {},
   "outputs": [],
   "source": [
    "@asStreamOperator\n",
    "def incBy100(item):\n",
    "    return item + 100"
   ]
  },
  {
   "cell_type": "code",
   "execution_count": 116,
   "id": "cf3a2978-db11-437f-9aa3-f96e091ce4da",
   "metadata": {},
   "outputs": [
    {
     "name": "stdout",
     "output_type": "stream",
     "text": [
      " 100\n",
      " 101\n",
      " 102\n",
      " 103\n",
      " 104\n",
      " 105\n",
      " 106\n",
      " 107\n",
      " 108\n",
      " 109\n"
     ]
    }
   ],
   "source": [
    "gen1 = myRange(stop=10)\n",
    "gen1 = incBy100(gen1)\n",
    "gen1 = printAll(gen1)\n",
    "gen1 = close(gen1)"
   ]
  },
  {
   "cell_type": "markdown",
   "id": "e5aaf42d-1165-4798-92f5-0ab5fff75004",
   "metadata": {},
   "source": [
    "# Lekce V"
   ]
  },
  {
   "cell_type": "markdown",
   "id": "98bf8113-fea7-43a8-ae88-18c581567caa",
   "metadata": {},
   "source": [
    "## Otázky"
   ]
  },
  {
   "cell_type": "code",
   "execution_count": 117,
   "id": "3a1bf5b6-1c8d-42f1-875c-094782227d6b",
   "metadata": {},
   "outputs": [],
   "source": [
    "async def asyncPrint(data):\n",
    "    async for item in data:\n",
    "        print(item)\n",
    "        yield item"
   ]
  },
  {
   "cell_type": "code",
   "execution_count": 118,
   "id": "1e792311-7d0e-4271-a6f3-b8c9ed1511d1",
   "metadata": {},
   "outputs": [],
   "source": [
    "async def asyncClose(data):\n",
    "    async for item in data:\n",
    "        continue"
   ]
  },
  {
   "cell_type": "code",
   "execution_count": 119,
   "id": "5054d203-37e7-447d-8f4d-a237db1ea031",
   "metadata": {},
   "outputs": [],
   "source": [
    "async def asyncRange(start=0, step=1, stop=10):\n",
    "    current = start\n",
    "    while True:\n",
    "        yield current\n",
    "        current = current + step\n",
    "        if current == stop:\n",
    "            break"
   ]
  },
  {
   "cell_type": "code",
   "execution_count": 120,
   "id": "3c680dbe-d9ab-4a9d-99cd-c76f8f8c79dc",
   "metadata": {},
   "outputs": [
    {
     "name": "stdout",
     "output_type": "stream",
     "text": [
      "0\n",
      "1\n",
      "2\n",
      "3\n",
      "4\n",
      "5\n",
      "6\n",
      "7\n",
      "8\n",
      "9\n"
     ]
    }
   ],
   "source": [
    "data = await asyncClose(asyncPrint(asyncRange()))"
   ]
  },
  {
   "cell_type": "code",
   "execution_count": 121,
   "id": "c7fff546-404e-44a3-8079-fbd377b9f7bb",
   "metadata": {},
   "outputs": [
    {
     "data": {
      "text/plain": [
       "0"
      ]
     },
     "execution_count": 121,
     "metadata": {},
     "output_type": "execute_result"
    }
   ],
   "source": [
    "g = asyncRange()\n",
    "await g.asend(None)"
   ]
  },
  {
   "cell_type": "code",
   "execution_count": 122,
   "id": "f9241a93-e116-49fb-8467-27819cdd7e33",
   "metadata": {},
   "outputs": [],
   "source": [
    "class agWrapper():\n",
    "    def __init__(self, asyncGenObj):\n",
    "        self.asyncGen = asyncGenObj\n",
    "        \n",
    "    def __iter__(self):\n",
    "        return self\n",
    "    \n",
    "    async def __next__(self):\n",
    "        hasResult = True\n",
    "        try:\n",
    "            result = (await self.asyncGen.asend(None))\n",
    "        except StopAsyncIteration:\n",
    "            hasResult = False\n",
    "        if not hasResult:\n",
    "            raise StopIteration\n",
    "        return result"
   ]
  },
  {
   "cell_type": "code",
   "execution_count": 123,
   "id": "2022be44-54bb-4b84-a7f0-04ae839a16db",
   "metadata": {},
   "outputs": [
    {
     "name": "stdout",
     "output_type": "stream",
     "text": [
      "0\n",
      "1\n",
      "2\n",
      "3\n",
      "4\n",
      "5\n",
      "6\n",
      "7\n",
      "8\n",
      "9\n"
     ]
    },
    {
     "ename": "RuntimeError",
     "evalue": "coroutine raised StopIteration",
     "output_type": "error",
     "traceback": [
      "\u001b[0;31m---------------------------------------------------------------------------\u001b[0m",
      "\u001b[0;31mStopIteration\u001b[0m                             Traceback (most recent call last)",
      "Cell \u001b[0;32mIn [122], line 15\u001b[0m, in \u001b[0;36magWrapper.__next__\u001b[0;34m(self)\u001b[0m\n\u001b[1;32m     14\u001b[0m \u001b[38;5;28;01mif\u001b[39;00m \u001b[38;5;129;01mnot\u001b[39;00m hasResult:\n\u001b[0;32m---> 15\u001b[0m     \u001b[38;5;28;01mraise\u001b[39;00m \u001b[38;5;167;01mStopIteration\u001b[39;00m\n\u001b[1;32m     16\u001b[0m \u001b[38;5;28;01mreturn\u001b[39;00m result\n",
      "\u001b[0;31mStopIteration\u001b[0m: ",
      "\nThe above exception was the direct cause of the following exception:\n",
      "\u001b[0;31mRuntimeError\u001b[0m                              Traceback (most recent call last)",
      "Cell \u001b[0;32mIn [123], line 3\u001b[0m\n\u001b[1;32m      1\u001b[0m g \u001b[38;5;241m=\u001b[39m agWrapper(asyncPrint(asyncRange()))\n\u001b[1;32m      2\u001b[0m \u001b[38;5;28;01mfor\u001b[39;00m item \u001b[38;5;129;01min\u001b[39;00m (g):\n\u001b[0;32m----> 3\u001b[0m     \u001b[38;5;28;01mawait\u001b[39;00m item\n\u001b[1;32m      4\u001b[0m     \u001b[38;5;28;01mcontinue\u001b[39;00m\n\u001b[1;32m      5\u001b[0m     \u001b[38;5;66;03m#print(index, await item)\u001b[39;00m\n",
      "\u001b[0;31mRuntimeError\u001b[0m: coroutine raised StopIteration"
     ]
    }
   ],
   "source": [
    "g = agWrapper(asyncPrint(asyncRange()))\n",
    "for item in (g):\n",
    "    await item\n",
    "    continue\n",
    "    #print(index, await item)\n",
    "    "
   ]
  },
  {
   "cell_type": "code",
   "execution_count": null,
   "id": "41b2a78d-1844-4a66-9045-0329da0c0e68",
   "metadata": {},
   "outputs": [],
   "source": [
    "def toSyncGenOfAwaitables(asyncGen):\n",
    "    while True:\n",
    "        try:\n",
    "            result = asyncGen.__anext__()\n",
    "            yield result\n",
    "        except StopAsyncIteration:\n",
    "            break"
   ]
  },
  {
   "cell_type": "code",
   "execution_count": null,
   "id": "502e6bb2-5256-4bf9-bf4c-3a246b4e1ce0",
   "metadata": {},
   "outputs": [],
   "source": [
    "def asSyncGenOfAwaitables(asyncGenFuntion):\n",
    "    def resultFunc(asyncGen):\n",
    "        for item in toSyncGenOfAwaitables(asyncGen):\n",
    "            yield item\n",
    "        pass\n",
    "    return resultFunc"
   ]
  },
  {
   "cell_type": "code",
   "execution_count": null,
   "id": "7fb376df-2892-4418-aae1-c72ca8e3588d",
   "metadata": {},
   "outputs": [],
   "source": [
    "import inspect\n",
    "def asSyncGenOfAwaitables(asyncGenFuntion):\n",
    "      \n",
    "    return resultFunc"
   ]
  },
  {
   "cell_type": "code",
   "execution_count": null,
   "id": "dde06523-17c2-4783-83fc-d686b0b4967e",
   "metadata": {},
   "outputs": [],
   "source": [
    "@asSyncGenOfAwaitables\n",
    "async def asyncRange(start=0, step=1, stop=10):\n",
    "    current = start\n",
    "    while True:\n",
    "        yield current\n",
    "        current = current + step\n",
    "        if current == stop:\n",
    "            break"
   ]
  },
  {
   "cell_type": "code",
   "execution_count": null,
   "id": "7f442fec-426d-4a4d-a726-c9a48ce2a019",
   "metadata": {},
   "outputs": [],
   "source": [
    "@asSyncGenOfAwaitables\n",
    "async def asyncPrint(data):\n",
    "    for item in data:\n",
    "        itemValue = await item\n",
    "        print(itemValue)\n",
    "        yield itemValue"
   ]
  },
  {
   "cell_type": "code",
   "execution_count": null,
   "id": "7652fef9-d5df-4966-ac8e-7628591ae3a3",
   "metadata": {},
   "outputs": [],
   "source": [
    "@asSyncGenOfAwaitables\n",
    "async def asyncClose(data):\n",
    "    for item in data:\n",
    "        continue"
   ]
  },
  {
   "cell_type": "code",
   "execution_count": null,
   "id": "f981249c-b572-4dcf-b632-9f3a01756ec4",
   "metadata": {},
   "outputs": [],
   "source": [
    "print(asyncClose(asyncPrint(asyncRange())))\n",
    "print('###########')\n",
    "for item in asyncClose(asyncPrint(asyncRange())):\n",
    "    itemValue = await item\n",
    "    #print(itemValue)"
   ]
  },
  {
   "cell_type": "code",
   "execution_count": null,
   "id": "42222d54-d95b-448d-8938-6dc8797ec61b",
   "metadata": {},
   "outputs": [],
   "source": [
    "data = asyncClose(asyncPrint(asyncRange()))\n",
    "for item in data:\n",
    "    itemValue = await item"
   ]
  },
  {
   "cell_type": "code",
   "execution_count": null,
   "id": "87208cff-4e03-451a-be37-06ff6bdf55fe",
   "metadata": {},
   "outputs": [],
   "source": []
  }
 ],
 "metadata": {
  "kernelspec": {
   "display_name": "Python 3 (ipykernel)",
   "language": "python",
   "name": "python3"
  },
  "language_info": {
   "codemirror_mode": {
    "name": "ipython",
    "version": 3
   },
   "file_extension": ".py",
   "mimetype": "text/x-python",
   "name": "python",
   "nbconvert_exporter": "python",
   "pygments_lexer": "ipython3",
   "version": "3.10.6"
  },
  "toc-autonumbering": true
 },
 "nbformat": 4,
 "nbformat_minor": 5
}
