{
 "cells": [
  {
   "cell_type": "code",
   "execution_count": 6,
   "id": "1d3b220d-37da-4bef-a4ee-26afbad5419f",
   "metadata": {},
   "outputs": [
    {
     "name": "stdout",
     "output_type": "stream",
     "text": [
      "649420bf-8dc1-4154-8055-688f1e696b05\n"
     ]
    }
   ],
   "source": [
    "import uuid\n",
    "print(uuid.uuid4())"
   ]
  },
  {
   "cell_type": "markdown",
   "id": "253caca7-4eaf-466b-97d7-0658f7937a80",
   "metadata": {},
   "source": [
    "vyjádření vztahů (M:N):"
   ]
  },
  {
   "cell_type": "code",
   "execution_count": 16,
   "id": "e0e4dc5f-9d2c-4e9a-a384-a2bb12cc57bf",
   "metadata": {},
   "outputs": [],
   "source": [
    "university = {\n",
    "    'users': [\n",
    "        {'id':'d0dd86a7-2591-4ab2-a420-16e95e384586','name':'Alexandr','email':'st@university.world','groups':['92c52ab9-a126-478d-b194-b583a6424c23']},\n",
    "        {'id':'f509c3c3-1706-45d1-b283-90c23eb51070','name':'Josef','email':'bk@university.world','groups':['92c52ab9-a126-478d-b194-b583a6424c23']},\n",
    "    ],\n",
    "    'group': [\n",
    "        {'id':'92c52ab9-a126-478d-b194-b583a6424c23','name':'23-5KB'}\n",
    "    ]    \n",
    "}"
   ]
  },
  {
   "cell_type": "markdown",
   "id": "704645a2-c3ec-4f01-859e-90c523a758d4",
   "metadata": {},
   "source": [
    "nebo:"
   ]
  },
  {
   "cell_type": "code",
   "execution_count": 22,
   "id": "6f460259-1bd6-456f-9c90-44d586fc401c",
   "metadata": {},
   "outputs": [
    {
     "ename": "SyntaxError",
     "evalue": "invalid syntax (1355900453.py, line 13)",
     "output_type": "error",
     "traceback": [
      "\u001b[0;36m  Input \u001b[0;32mIn [22]\u001b[0;36m\u001b[0m\n\u001b[0;31m    {'user_id':'f509c3c3-1706-45d1-b283-90c23eb51070','group_id':'92c52ab9-a126-478d-b194-b583a6424c23'}\u001b[0m\n\u001b[0m    ^\u001b[0m\n\u001b[0;31mSyntaxError\u001b[0m\u001b[0;31m:\u001b[0m invalid syntax\n"
     ]
    }
   ],
   "source": [
    "university = {\n",
    "    'users': [\n",
    "        {'id':'d0dd86a7-2591-4ab2-a420-16e95e384586','name':'Alexandr','email':'st@university.world'},\n",
    "        {'id':'f509c3c3-1706-45d1-b283-90c23eb51070','name':'Josef','email':'bk@university.world'},\n",
    "    ],\n",
    "    'groups': [\n",
    "        {'id':'92c52ab9-a126-478d-b194-b583a6424c23','name':'23-5KB'},\n",
    "        {'id':'c87876d5-f124-407d-b42b-f3dcb72af095','name':'FVT'} \n",
    "    ],\n",
    "    #vztah - mezilehlá tabulka\n",
    "    'membership': [\n",
    "        {'user_id':'d0dd86a7-2591-4ab2-a420-16e95e384586','group_id':'92c52ab9-a126-478d-b194-b583a6424c23'}\n",
    "        {'user_id':'f509c3c3-1706-45d1-b283-90c23eb51070','group_id':'92c52ab9-a126-478d-b194-b583a6424c23'}\n",
    "        {'user_id':'d0dd86a7-2591-4ab2-a420-16e95e384586','group_id':'c87876d5-f124-407d-b42b-f3dcb72af095'}\n",
    "    ]\n",
    "    \n",
    "}"
   ]
  },
  {
   "cell_type": "markdown",
   "id": "853a4116-e543-4a76-a465-c4feb6031f74",
   "metadata": {},
   "source": [
    "vytovřit strukturu demodat a pak je vložit do modelů, natvrdo dávat uuid</br>\n",
    "udelat crate_random_event\n",
    "vyvorit id\n",
    "\n"
   ]
  },
  {
   "cell_type": "code",
   "execution_count": 27,
   "id": "1c339525-b2e6-4052-bee5-18d897d28574",
   "metadata": {},
   "outputs": [],
   "source": [
    "import datetime\n",
    "data = {\n",
    "    'events': [\n",
    "        {'id':'73dda931-1629-4193-963a-c55397b0a706','name':'Slavnostni nastup',\n",
    "         'start': datetime.datetime(), 'end': datetime.datetime() + datetime.timedelta(hours=1,minutes=30),\n",
    "         'eventType':'',\n",
    "         'location'\n",
    "         'lessons':[\n",
    "             {'id':''}\n",
    "         ]\n",
    "         'groups' [\n",
    "             {'id':''}\n",
    "         ]\n",
    "         'participants':[\n",
    "            {'id':'0cd946af-b840-4b6f-ae4e-2c4029e531a6','nejakyAtribut':'random','user_id':''}  #user_id je z jineho kontejneru\n",
    "\n",
    "        ]}\n",
    "    ]\n",
    "}"
   ]
  },
  {
   "cell_type": "code",
   "execution_count": null,
   "id": "0f5cea23-50c4-45cf-9135-4117689f071b",
   "metadata": {},
   "outputs": [],
   "source": [
    "import datetime\n",
    "data = {\n",
    "    'events': [\n",
    "        {'id':'73dda931-1629-4193-963a-c55397b0a706','name':'Slavnostni nastup',\n",
    "         'start': datetime.datetime(), 'end': datetime.datetime() + datetime.timedelta(hours=1,minutes=3),\n",
    "         'eventType':'',\n",
    "         'location_id': ''\n",
    "         'lessons':[\n",
    "             {'id':''}\n",
    "         ]\n",
    "         'groups' [\n",
    "             {'id':''}\n",
    "         ]\n",
    "         'participants':[\n",
    "            {'id':'0cd946af-b840-4b6f-ae4e-2c4029e531a6','nejakyAtribut':'random','user_id':''}  #user_id je z jineho kontejneru\n",
    "\n",
    "        ]}\n",
    "    ]\n",
    "}\n",
    "\n",
    "\n",
    "data = {\n",
    "    'events': [\n",
    "        {'id':'73dda931-1629-4193-963a-c55397b0a706','name':'Slavnostni nastup',\n",
    "         'start': datetime.datetime(), 'end': datetime.datetime() + datetime.timedelta(hours=1,minutes=30),\n",
    "         'eventType':'nastup',\n",
    "         'location':'',\n",
    "         'lessons':[\n",
    "                {'id':''}\n",
    "            ],\n",
    "         'groups':[\n",
    "                {'id':''}\n",
    "            ],\n",
    "         'participants':[\n",
    "                {'id':'0cd946af-b840-4b6f-ae4e-2c4029e531a6','nejakyAtribut':'random','user_id':''}  #user_id je z jineho kontejneru\n",
    "            ]\n",
    "        }\n",
    "    ]\n",
    "}"
   ]
  }
 ],
 "metadata": {
  "kernelspec": {
   "display_name": "Python 3.10.0 64-bit",
   "language": "python",
   "name": "python3"
  },
  "language_info": {
   "codemirror_mode": {
    "name": "ipython",
    "version": 3
   },
   "file_extension": ".py",
   "mimetype": "text/x-python",
   "name": "python",
   "nbconvert_exporter": "python",
   "pygments_lexer": "ipython3",
   "version": "3.10.0"
  },
  "vscode": {
   "interpreter": {
    "hash": "510bf11c66312c57553c778e95194a8e30cff11d9b6d05cf8b0c105636ab8e90"
   }
  }
 },
 "nbformat": 4,
 "nbformat_minor": 5
}
