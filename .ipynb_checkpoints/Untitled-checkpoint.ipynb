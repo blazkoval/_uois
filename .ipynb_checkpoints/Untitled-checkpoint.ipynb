{
 "cells": [
  {
   "cell_type": "code",
   "execution_count": 5,
   "id": "c4bee356-fd36-4a3b-abf5-a2617f09ad03",
   "metadata": {},
   "outputs": [
    {
     "name": "stdout",
     "output_type": "stream",
     "text": [
      "636adb14-8c40-4065-8c59-1cdcade75326\n"
     ]
    }
   ],
   "source": [
    "import uuid\n",
    "print (uuid.uuid4())"
   ]
  },
  {
   "cell_type": "code",
   "execution_count": null,
   "id": "7daba3f0-b73b-4460-998f-27a84c487232",
   "metadata": {},
   "outputs": [],
   "source": [
    "university = {\n",
    "    'users':[\n",
    "        {'id': 'd45df6d6-1e75-4edc-8786-6d847c2a0325',\n",
    "         'name': 'Alexandr', 'email': 'st@university.world', 'group_id': '78fe81fb-cf65-4e6e-bd73-512546c2d479'}\n",
    "        {'id': '6b8f2ea8-9dc6-4007-902f-3da1088728d2',\n",
    "         'name': 'Josef', 'email': 'bk@university.world', 'group_id': '78fe81fb-cf65-4e6e-bd73-512546c2d479'}\n",
    "    ],\n",
    "    \n",
    "    'group':[\n",
    "        {'id': '78fe81fb-cf65-4e6e-bd73-512546c2d479', 'name': '23-5KB'}\n",
    "    ]\n",
    "}"
   ]
  },
  {
   "cell_type": "code",
   "execution_count": null,
   "id": "2eecc448-8953-4ec6-bab3-cd4d6e4e536c",
   "metadata": {},
   "outputs": [],
   "source": [
    "university = {\n",
    "    'users':[\n",
    "        {'id': 'd45df6d6-1e75-4edc-8786-6d847c2a0325',\n",
    "         'name': 'Alexandr', 'email': 'st@university.world', 'group_id': ['78fe81fb-cf65-4e6e-bd73-512546c2d479']}\n",
    "        {'id': '6b8f2ea8-9dc6-4007-902f-3da1088728d2',\n",
    "         'name': 'Josef', 'email': 'bk@university.world', 'group_id': ['78fe81fb-cf65-4e6e-bd73-512546c2d479']}\n",
    "    ],\n",
    "    \n",
    "    'group':[\n",
    "        {'id': '78fe81fb-cf65-4e6e-bd73-512546c2d479', 'name': '23-5KB'}\n",
    "    ]\n",
    "}"
   ]
  },
  {
   "cell_type": "code",
   "execution_count": null,
   "id": "1b778e9e-80dd-44af-99e0-6a9b91d89f75",
   "metadata": {},
   "outputs": [],
   "source": [
    "university = {\n",
    "    'users':[\n",
    "        {'id': 'd45df6d6-1e75-4edc-8786-6d847c2a0325',\n",
    "         'name': 'Alexandr', 'email': 'st@university.world'}\n",
    "        {'id': '6b8f2ea8-9dc6-4007-902f-3da1088728d2',\n",
    "         'name': 'Josef', 'email': 'bk@university.world'}\n",
    "    ],\n",
    "    \n",
    "    'groups':[\n",
    "        {'id': '78fe81fb-cf65-4e6e-bd73-512546c2d479', 'name': '23-5KB'}\n",
    "        {'id': '2289f23f-eede-4f54-9b33-79ce0e726823', 'name': 'FVT'}\n",
    "    ],\n",
    "    \n",
    "    'membership':[\n",
    "        {'user_id': 'd45df6d6-1e75-4edc-8786-6d847c2a0325' ,'group_id':'78fe81fb-cf65-4e6e-bd73-512546c2d479'}\n",
    "        {'user_id': 'd45df6d6-1e75-4edc-8786-6d847c2a0325' ,'group_id':'2289f23f-eede-4f54-9b33-79ce0e726823'}\n",
    "        {'user_id': '6b8f2ea8-9dc6-4007-902f-3da1088728d2' ,'group_id':'78fe81fb-cf65-4e6e-bd73-512546c2d479'}\n",
    "    ]\n",
    "}"
   ]
  },
  {
   "cell_type": "code",
   "execution_count": 8,
   "id": "edd4ff62-dcb8-4536-abf8-38f7beee2985",
   "metadata": {},
   "outputs": [
    {
     "name": "stdout",
     "output_type": "stream",
     "text": [
      "bca699a2-73de-4d01-a36b-ab9aea5cbc9c\n"
     ]
    }
   ],
   "source": [
    "import uuid\n",
    "print (uuid.uuid4())"
   ]
  },
  {
   "cell_type": "code",
   "execution_count": null,
   "id": "9df32704-576e-4a41-9d8a-9e842d420584",
   "metadata": {},
   "outputs": [],
   "source": [
    "data = {\n",
    "    'publications':[\n",
    "        {'id': '636adb14-8c40-4065-8c59-1cdcade75326',\n",
    "         'name': 'Publication 001', 'publicationType': '', 'authors': [\n",
    "             {'id': 'a65bd115-8996-4fbd-9856-5f06a3388656', 'share': 0.25, 'order': 1, 'user_id': ''},\n",
    "             {'id': '4fab9655-e8ea-47fc-bd44-d969fcf60538', 'share': 0.5, 'order': 2, 'user_id': ''},\n",
    "             {'id': 'bca699a2-73de-4d01-a36b-ab9aea5cbc9c', 'share': 0.25, 'order': 3, 'user_id': ''}\n",
    "         ]}\n",
    "    ]\n",
    "}"
   ]
  },
  {
   "cell_type": "code",
   "execution_count": null,
   "id": "e5140077-4010-4d14-bb69-f094017a1389",
   "metadata": {},
   "outputs": [],
   "source": [
    "import datetime\n",
    "data = {\n",
    "    'events':[\n",
    "        {'id': '', 'name': 'event 0', 'start': datetime.datetime(), 'end': datetime.datetime() + datetime.timedelta(hours=1, minutes=30),\n",
    "        'capacity': 0, 'eventType_id': '', 'location_id': '','comment': 'popis k udalostem event 0',\n",
    "        'lessons': [\n",
    "            {'id': ''}\n",
    "        ],\n",
    "        'groups': [\n",
    "            {'id': ''}\n",
    "        ],\n",
    "        'organizers': [\n",
    "            {'id': ''}\n",
    "        ],\n",
    "        'participants': []\n",
    "        }\n",
    "    ]\n",
    "}"
   ]
  },
  {
   "cell_type": "code",
   "execution_count": null,
   "id": "b2242019-85e1-4677-96d7-68c5cb4d6350",
   "metadata": {},
   "outputs": [],
   "source": []
  }
 ],
 "metadata": {
  "kernelspec": {
   "display_name": "Python 3 (ipykernel)",
   "language": "python",
   "name": "python3"
  },
  "language_info": {
   "codemirror_mode": {
    "name": "ipython",
    "version": 3
   },
   "file_extension": ".py",
   "mimetype": "text/x-python",
   "name": "python",
   "nbconvert_exporter": "python",
   "pygments_lexer": "ipython3",
   "version": "3.9.10"
  }
 },
 "nbformat": 4,
 "nbformat_minor": 5
}
