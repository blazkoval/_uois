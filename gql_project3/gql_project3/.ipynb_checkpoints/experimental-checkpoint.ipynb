{
 "cells": [
  {
   "cell_type": "code",
   "execution_count": null,
   "id": "079c780f-98b8-495a-9ce2-fbefcfc077b1",
   "metadata": {},
   "outputs": [],
   "source": [
    "!pip install sqlalchemy_utils"
   ]
  },
  {
   "cell_type": "code",
   "execution_count": 18,
   "id": "0dc2dcff-9288-4887-8f7d-502170a144f1",
   "metadata": {},
   "outputs": [],
   "source": [
    "from sqlalchemy import create_engine\n",
    "from sqlalchemy.orm import sessionmaker\n",
    "\n",
    "from sqlalchemy.ext.asyncio import AsyncSession\n",
    "from sqlalchemy.ext.asyncio import create_async_engine\n",
    "\n",
    "async def startEngine(connectionstring, makeDrop=False, makeUp=True):\n",
    "    \"\"\"Provede nezbytne ukony a vrati asynchronni SessionMaker \"\"\"\n",
    "    asyncEngine = create_async_engine(connectionstring) \n",
    "\n",
    "    async with asyncEngine.begin() as conn:\n",
    "        if makeDrop:\n",
    "            await conn.run_sync(BaseModel.metadata.drop_all)\n",
    "            print('BaseModel.metadata.drop_all finished')\n",
    "        if makeUp:\n",
    "            await conn.run_sync(BaseModel.metadata.create_all)    \n",
    "            print('BaseModel.metadata.create_all finished')\n",
    "\n",
    "    async_sessionMaker = sessionmaker(\n",
    "        asyncEngine, expire_on_commit=False, class_=AsyncSession\n",
    "    )\n",
    "    return async_sessionMaker\n",
    "\n",
    "import os\n",
    "def ComposeConnectionString():\n",
    "    \"\"\"Odvozuje connectionString z promennych prostredi (nebo z Docker Envs, coz je fakticky totez).\n",
    "       Lze predelat na napr. konfiguracni file.\n",
    "    \"\"\"\n",
    "    user = os.environ.get(\"POSTGRES_USER\", \"postgres\")\n",
    "    password = os.environ.get(\"POSTGRES_PASSWORD\", \"example\")\n",
    "    database =  os.environ.get(\"POSTGRES_DB\", \"data\")\n",
    "    hostWithPort =  os.environ.get(\"POSTGRES_HOST\", \"postgres:5432\")\n",
    "    \n",
    "    driver = \"postgresql+asyncpg\" #\"postgresql+psycopg2\"\n",
    "    connectionstring = f\"{driver}://{user}:{password}@{hostWithPort}/{database}\"\n",
    "\n",
    "    return connectionstring"
   ]
  },
  {
   "cell_type": "markdown",
   "id": "9890b93d-a836-4bcb-be32-cf45b735896c",
   "metadata": {},
   "source": [
    "# SQLAlchemy modely:"
   ]
  },
  {
   "cell_type": "code",
   "execution_count": 19,
   "id": "ae3868a1-c27c-4fd2-ac40-44fe3c4536b7",
   "metadata": {},
   "outputs": [],
   "source": [
    "from email.policy import default\n",
    "import sqlalchemy\n",
    "import datetime\n",
    "\n",
    "from sqlalchemy import Column, String, BigInteger, Integer, DateTime, ForeignKey, Sequence, Table, Boolean\n",
    "from sqlalchemy.dialects.postgresql import UUID\n",
    "\n",
    "from sqlalchemy.orm import relationship\n",
    "from sqlalchemy.ext.declarative import declarative_base\n",
    "\n",
    "BaseModel = declarative_base()\n",
    "\n",
    "def UUIDColumn(name=None):\n",
    "    if name is None:\n",
    "        return Column(UUID(as_uuid=True), primary_key=True, server_default=sqlalchemy.text(\"gen_random_uuid()\"), unique=True)\n",
    "    else:\n",
    "        return Column(name, UUID(as_uuid=True), primary_key=True, server_default=sqlalchemy.text(\"gen_random_uuid()\"), unique=True)\n",
    "   \n",
    "#id = Column(UUID(as_uuid=True), primary_key=True, server_default=sqlalchemy.text(\"uuid_generate_v4()\"),)\n",
    "\n",
    "class EventModel(BaseModel):\n",
    "\n",
    "    __tablename__ = 'Event'\n",
    "\n",
    "    id = UUIDColumn()\n",
    "    name = Column(String)\n",
    "    start = Column(DateTime)\n",
    "    end = Column(DateTime)\n",
    "    capacity = Column(Integer)\n",
    "    comment = Column(String)\n",
    "\n",
    "class EventType(BaseModel):\n",
    "    __tablename__ = 'EventType'\n",
    "\n",
    "    id = UUIDColumn()\n",
    "    name = Column(String)"
   ]
  },
  {
   "cell_type": "code",
   "execution_count": null,
   "id": "37e86343-e3be-47b8-8a1c-bf195d5f1577",
   "metadata": {},
   "outputs": [],
   "source": [
    "from sqlalchemy import create_engine\n",
    "\n",
    "engine = create_engine(connectionstring) \n",
    "BaseModel.metadata.create_all(engine)"
   ]
  }
 ],
 "metadata": {
  "kernelspec": {
   "display_name": "Python 3 (ipykernel)",
   "language": "python",
   "name": "python3"
  },
  "language_info": {
   "codemirror_mode": {
    "name": "ipython",
    "version": 3
   },
   "file_extension": ".py",
   "mimetype": "text/x-python",
   "name": "python",
   "nbconvert_exporter": "python",
   "pygments_lexer": "ipython3",
   "version": "3.9.10"
  }
 },
 "nbformat": 4,
 "nbformat_minor": 5
}
