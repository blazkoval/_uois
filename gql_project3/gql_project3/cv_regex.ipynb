{
 "cells": [
  {
   "cell_type": "code",
   "execution_count": 30,
   "id": "87403284-0a49-480d-858d-b6b0f984372d",
   "metadata": {},
   "outputs": [],
   "source": [
    "baseUrl = \"https://apl.unob.cz/StudijniProgramy/Studium/4/Cyber-Security?culture=cs-CZ\""
   ]
  },
  {
   "cell_type": "markdown",
   "id": "065cae38-9165-4a28-800f-64460d3ae3ba",
   "metadata": {},
   "source": [
    "https://docs.aiohttp.org/en/stable/client_quickstart.html"
   ]
  },
  {
   "cell_type": "code",
   "execution_count": 31,
   "id": "983648ec-0eee-4eea-a26a-ded36985445f",
   "metadata": {},
   "outputs": [],
   "source": [
    "import aiohttp\n",
    "import asyncio"
   ]
  },
  {
   "cell_type": "code",
   "execution_count": 32,
   "id": "75b33e89-bf79-42a2-b723-4c38701f83d5",
   "metadata": {},
   "outputs": [
    {
     "name": "stdout",
     "output_type": "stream",
     "text": [
      "200\n"
     ]
    }
   ],
   "source": [
    "async with aiohttp.ClientSession() as session:\n",
    "    async with session.get(baseUrl) as resp:\n",
    "        print(resp.status)\n",
    "        htmlData = (await resp.text()) #ulozeni html"
   ]
  },
  {
   "cell_type": "code",
   "execution_count": 33,
   "id": "280a005d-7284-412d-98e7-08c4683a3c67",
   "metadata": {},
   "outputs": [
    {
     "name": "stdout",
     "output_type": "stream",
     "text": [
      "2543 4042\n"
     ]
    }
   ],
   "source": [
    "#prace s html:\n",
    "position = htmlData.find('<table') #hledam kde je v textu <table = zacatek tabulky\n",
    "positionEnd = htmlData.find('</table') #konec tabulky\n",
    "\n",
    "print(position, positionEnd)"
   ]
  },
  {
   "cell_type": "code",
   "execution_count": null,
   "id": "b0d01f03-3ff9-413b-8c7a-a8cc058062db",
   "metadata": {},
   "outputs": [],
   "source": []
  },
  {
   "cell_type": "code",
   "execution_count": 34,
   "id": "63da6dc2-b049-47cf-9885-a96c27b77b42",
   "metadata": {},
   "outputs": [
    {
     "name": "stdout",
     "output_type": "stream",
     "text": [
      "            =\"table table-sm studijniProgramTable\">\n",
      "            </tr>d>istersk&#xFD;rogramu\n",
      "            </tr>d>zen&#x10D;n&#xED;\n",
      "            </tr>d>10D;e&#x161;tina\n",
      "            </tr>d>etstudia\n",
      "            </tr>d>ulta vojensk&#xFD;ch technologi&#xED;\n",
      "            </tr>d>Uchazeči podávají přihlášku ke studiu ve studijním programu elektronickou formou na předepsaném formuláři. Požadavky na přijímací řízení jsou schvalovány akademickým senátem Fakulty vojenských technologií na příslušný akademický rok.</p><p>Přijímací zkouška standardně zahrnuje test studijních předpokladů.</p>\n"
     ]
    }
   ],
   "source": [
    "tableData = htmlData[position:positionEnd]\n",
    "rows = tableData.split('<tr')\n",
    "for row in rows:\n",
    "    print(row.replace('\\n',''))"
   ]
  },
  {
   "cell_type": "markdown",
   "id": "5a74ebe7-b219-4ae4-a01f-fe9e55776f92",
   "metadata": {},
   "source": [
    "chceme vědět, když se určitá fce někde v kodu zavola"
   ]
  },
  {
   "cell_type": "markdown",
   "id": "a9f85919-6c52-49e9-a375-c0fe418d6600",
   "metadata": {},
   "source": [
    "pracujeme s daty z internetu, není žádoucí data stahovat opakovaně. V případě synchronní bychom použili dekorátor @cache, pro asynchronní si vyvorříme fci sami\n",
    "tzv. dekorování:"
   ]
  },
  {
   "cell_type": "code",
   "execution_count": 35,
   "id": "6fcbf154-4396-4d65-ac12-e30b0d85b781",
   "metadata": {},
   "outputs": [],
   "source": [
    "#ziskavani html stranek optimalizuje, nemusi se stahovat znovu a znovu\n",
    "def singleCall(asyncFunc): #vezme funkci a nahradí ji jinou funkcí\n",
    "    awaitedResults = {}\n",
    "    async def resultFunc(singleParam):\n",
    "        result = awaitedResults.get(singleParam, None)\n",
    "        if result is None: #zname vysledek? ne:\n",
    "            result = await asyncFunc(singleParam) #ziskame ho\n",
    "            awaitedResults[singleParam] = result #ulozime ho\n",
    "        return result\n",
    "    return resultFunc"
   ]
  },
  {
   "cell_type": "code",
   "execution_count": 36,
   "id": "3c79648f-6b89-44ab-b28d-36fb4955c0e1",
   "metadata": {},
   "outputs": [],
   "source": [
    "import aiohttp\n",
    "baseUrl = \"https://apl.unob.cz/StudijniProgramy/Studium/4/Kyberneticka-bezpecnost\"\n",
    "\n",
    "@singleCall\n",
    "async def getData(baseUrl):\n",
    "    async with aiohttp.ClientSession() as session:\n",
    "        async with session.get(baseUrl) as resp:\n",
    "            htmlData = (await resp.text()) #ulozeni html\n",
    "    return htmlData"
   ]
  },
  {
   "cell_type": "markdown",
   "id": "ff3410bc-28d3-4c2b-8c97-a5ceae14b766",
   "metadata": {},
   "source": [
    "V získané stránce si najdeme všechny výskyty vzoru. Všimněte si strukuty na výstupu (tuple)"
   ]
  },
  {
   "cell_type": "code",
   "execution_count": 37,
   "id": "948657e1-7268-4b6e-87bb-f6df4c4de4bd",
   "metadata": {},
   "outputs": [
    {
     "name": "stdout",
     "output_type": "stream",
     "text": [
      "('/StudijniProgramy/PredmetDetail/3/Algoritmizace-a-programovani', '3', 'Algoritmizace-a-programovani')\n",
      "('/StudijniProgramy/PredmetDetail/448/Anglicky-jazyk', '448', 'Anglicky-jazyk')\n",
      "('/StudijniProgramy/PredmetDetail/327/Leadership', '327', 'Leadership')\n",
      "('/StudijniProgramy/PredmetDetail/602/Matematika-I', '602', 'Matematika-I')\n",
      "('/StudijniProgramy/PredmetDetail/664/Metodologie', '664', 'Metodologie')\n",
      "('/StudijniProgramy/PredmetDetail/416/Telesna-vychova', '416', 'Telesna-vychova')\n",
      "('/StudijniProgramy/PredmetDetail/673/Zaklady-prava', '673', 'Zaklady-prava')\n",
      "('/StudijniProgramy/PredmetDetail/449/Anglicky-jazyk', '449', 'Anglicky-jazyk')\n",
      "('/StudijniProgramy/PredmetDetail/597/Bezpecnost-a-obrana-statu', '597', 'Bezpecnost-a-obrana-statu')\n",
      "('/StudijniProgramy/PredmetDetail/660/Cislicova-technika', '660', 'Cislicova-technika')\n",
      "('/StudijniProgramy/PredmetDetail/4/Informatika', '4', 'Informatika')\n",
      "('/StudijniProgramy/PredmetDetail/328/Leadership', '328', 'Leadership')\n",
      "('/StudijniProgramy/PredmetDetail/603/Matematika-II', '603', 'Matematika-II')\n",
      "('/StudijniProgramy/PredmetDetail/417/Telesna-vychova', '417', 'Telesna-vychova')\n",
      "('/StudijniProgramy/PredmetDetail/674/Zaklady-prava', '674', 'Zaklady-prava')\n",
      "('/StudijniProgramy/PredmetDetail/450/Anglicky-jazyk', '450', 'Anglicky-jazyk')\n",
      "('/StudijniProgramy/PredmetDetail/658/Architektury-vypocetnich-systemu', '658', 'Architektury-vypocetnich-systemu')\n",
      "('/StudijniProgramy/PredmetDetail/5/Informatika', '5', 'Informatika')\n",
      "('/StudijniProgramy/PredmetDetail/329/Leadership', '329', 'Leadership')\n",
      "('/StudijniProgramy/PredmetDetail/604/Matematika-III', '604', 'Matematika-III')\n",
      "('/StudijniProgramy/PredmetDetail/418/Telesna-vychova', '418', 'Telesna-vychova')\n",
      "('/StudijniProgramy/PredmetDetail/675/Zaklady-prava', '675', 'Zaklady-prava')\n",
      "('/StudijniProgramy/PredmetDetail/451/Anglicky-jazyk', '451', 'Anglicky-jazyk')\n",
      "('/StudijniProgramy/PredmetDetail/6/Informatika', '6', 'Informatika')\n",
      "('/StudijniProgramy/PredmetDetail/662/Krizove-rizeni', '662', 'Krizove-rizeni')\n",
      "('/StudijniProgramy/PredmetDetail/605/Matematika-IV', '605', 'Matematika-IV')\n",
      "('/StudijniProgramy/PredmetDetail/107/Projektovy-management', '107', 'Projektovy-management')\n",
      "('/StudijniProgramy/PredmetDetail/419/Telesna-vychova', '419', 'Telesna-vychova')\n",
      "('/StudijniProgramy/PredmetDetail/670/Teorie-grafu', '670', 'Teorie-grafu')\n",
      "('/StudijniProgramy/PredmetDetail/645/Analyza-informacnich-zdroju', '645', 'Analyza-informacnich-zdroju')\n",
      "('/StudijniProgramy/PredmetDetail/452/Anglicky-jazyk', '452', 'Anglicky-jazyk')\n",
      "('/StudijniProgramy/PredmetDetail/7/Informatika', '7', 'Informatika')\n",
      "('/StudijniProgramy/PredmetDetail/598/Kyberneticka-bezpecnost', '598', 'Kyberneticka-bezpecnost')\n",
      "('/StudijniProgramy/PredmetDetail/666/Pocitacove-site-a-jejich-bezpecnost', '666', 'Pocitacove-site-a-jejich-bezpecnost')\n",
      "('/StudijniProgramy/PredmetDetail/108/Projektovy-management', '108', 'Projektovy-management')\n",
      "('/StudijniProgramy/PredmetDetail/420/Telesna-vychova', '420', 'Telesna-vychova')\n",
      "('/StudijniProgramy/PredmetDetail/646/Analyza-informacnich-zdroju', '646', 'Analyza-informacnich-zdroju')\n",
      "('/StudijniProgramy/PredmetDetail/453/Anglicky-jazyk', '453', 'Anglicky-jazyk')\n",
      "('/StudijniProgramy/PredmetDetail/8/Informatika', '8', 'Informatika')\n",
      "('/StudijniProgramy/PredmetDetail/599/Kyberneticka-bezpecnost', '599', 'Kyberneticka-bezpecnost')\n",
      "('/StudijniProgramy/PredmetDetail/667/Pocitacove-site-a-jejich-bezpecnost', '667', 'Pocitacove-site-a-jejich-bezpecnost')\n",
      "('/StudijniProgramy/PredmetDetail/421/Telesna-vychova', '421', 'Telesna-vychova')\n",
      "('/StudijniProgramy/PredmetDetail/671/Teorie-informace', '671', 'Teorie-informace')\n",
      "('/StudijniProgramy/PredmetDetail/647/Analyza-informacnich-zdroju', '647', 'Analyza-informacnich-zdroju')\n",
      "('/StudijniProgramy/PredmetDetail/454/Anglicky-jazyk', '454', 'Anglicky-jazyk')\n",
      "('/StudijniProgramy/PredmetDetail/651/Aplikovane-bezpecnostni-technologie', '651', 'Aplikovane-bezpecnostni-technologie')\n",
      "('/StudijniProgramy/PredmetDetail/663/Kryptograficke-algoritmy-a-protokoly', '663', 'Kryptograficke-algoritmy-a-protokoly')\n",
      "('/StudijniProgramy/PredmetDetail/600/Kyberneticka-bezpecnost', '600', 'Kyberneticka-bezpecnost')\n",
      "('/StudijniProgramy/PredmetDetail/668/Pocitacove-site-a-jejich-bezpecnost', '668', 'Pocitacove-site-a-jejich-bezpecnost')\n",
      "('/StudijniProgramy/PredmetDetail/422/Telesna-vychova', '422', 'Telesna-vychova')\n",
      "('/StudijniProgramy/PredmetDetail/65885/Francouzsky-jazyk', '65885', 'Francouzsky-jazyk')\n",
      "('/StudijniProgramy/PredmetDetail/65889/Nemecky-jazyk', '65889', 'Nemecky-jazyk')\n",
      "('/StudijniProgramy/PredmetDetail/606/Rusky-jazyk', '606', 'Rusky-jazyk')\n",
      "('/StudijniProgramy/PredmetDetail/648/Analyza-informacnich-zdroju', '648', 'Analyza-informacnich-zdroju')\n",
      "('/StudijniProgramy/PredmetDetail/644/Analyzy-a-kriticke-mysleni', '644', 'Analyzy-a-kriticke-mysleni')\n",
      "('/StudijniProgramy/PredmetDetail/455/Anglicky-jazyk', '455', 'Anglicky-jazyk')\n",
      "('/StudijniProgramy/PredmetDetail/652/Aplikovane-bezpecnostni-technologie', '652', 'Aplikovane-bezpecnostni-technologie')\n",
      "('/StudijniProgramy/PredmetDetail/601/Kyberneticka-bezpecnost', '601', 'Kyberneticka-bezpecnost')\n",
      "('/StudijniProgramy/PredmetDetail/669/Pocitacove-site-a-jejich-bezpecnost', '669', 'Pocitacove-site-a-jejich-bezpecnost')\n",
      "('/StudijniProgramy/PredmetDetail/423/Telesna-vychova', '423', 'Telesna-vychova')\n",
      "('/StudijniProgramy/PredmetDetail/65886/Francouzsky-jazyk', '65886', 'Francouzsky-jazyk')\n",
      "('/StudijniProgramy/PredmetDetail/65890/Nemecky-jazyk', '65890', 'Nemecky-jazyk')\n",
      "('/StudijniProgramy/PredmetDetail/607/Rusky-jazyk', '607', 'Rusky-jazyk')\n",
      "('/StudijniProgramy/PredmetDetail/649/Analyza-informacnich-zdroju', '649', 'Analyza-informacnich-zdroju')\n",
      "('/StudijniProgramy/PredmetDetail/456/Anglicky-jazyk', '456', 'Anglicky-jazyk')\n",
      "('/StudijniProgramy/PredmetDetail/653/Aplikovane-bezpecnostni-technologie', '653', 'Aplikovane-bezpecnostni-technologie')\n",
      "('/StudijniProgramy/PredmetDetail/661/Forenzni-analyza', '661', 'Forenzni-analyza')\n",
      "('/StudijniProgramy/PredmetDetail/665/Penetracni-testovani', '665', 'Penetracni-testovani')\n",
      "('/StudijniProgramy/PredmetDetail/424/Telesna-vychova', '424', 'Telesna-vychova')\n",
      "('/StudijniProgramy/PredmetDetail/672/Vyvoj-a-nasazeni-malware', '672', 'Vyvoj-a-nasazeni-malware')\n",
      "('/StudijniProgramy/PredmetDetail/65887/Francouzsky-jazyk', '65887', 'Francouzsky-jazyk')\n",
      "('/StudijniProgramy/PredmetDetail/65891/Nemecky-jazyk', '65891', 'Nemecky-jazyk')\n",
      "('/StudijniProgramy/PredmetDetail/608/Rusky-jazyk', '608', 'Rusky-jazyk')\n",
      "('/StudijniProgramy/PredmetDetail/650/Analyza-informacnich-zdroju', '650', 'Analyza-informacnich-zdroju')\n",
      "('/StudijniProgramy/PredmetDetail/457/Anglicky-jazyk', '457', 'Anglicky-jazyk')\n",
      "('/StudijniProgramy/PredmetDetail/659/Botnetove-site', '659', 'Botnetove-site')\n",
      "('/StudijniProgramy/PredmetDetail/425/Telesna-vychova', '425', 'Telesna-vychova')\n",
      "('/StudijniProgramy/PredmetDetail/676/Zpracovani-diplomove-prace-a-priprava-na-SZZ', '676', 'Zpracovani-diplomove-prace-a-priprava-na-SZZ')\n",
      "('/StudijniProgramy/PredmetDetail/65888/Francouzsky-jazyk', '65888', 'Francouzsky-jazyk')\n",
      "('/StudijniProgramy/PredmetDetail/65892/Nemecky-jazyk', '65892', 'Nemecky-jazyk')\n",
      "('/StudijniProgramy/PredmetDetail/609/Rusky-jazyk', '609', 'Rusky-jazyk')\n"
     ]
    }
   ],
   "source": [
    "import re\n",
    "textData = await getData(baseUrl)\n",
    "#print(textData[5000:6000])\n",
    "processor = re.compile('(\\/StudijniProgramy/PredmetDetail\\/([0-9]+)\\/([^\\\"]+))') #najdi mi v textu vyraz, ktery je v zavorce\n",
    "# [0-9]+ ... libovolne cislo s libovolnym poctem opakeovani\n",
    "# \\      ... krome\n",
    "# [^\\\"]  ... \n",
    "items = processor.findall(textData)\n",
    "for item in items:\n",
    "    print(item)"
   ]
  },
  {
   "cell_type": "markdown",
   "id": "dd04b3a6-a6c9-4638-a705-08e4e27615da",
   "metadata": {},
   "source": [
    "pro lepší použití vyvtoříme funkci:"
   ]
  },
  {
   "cell_type": "code",
   "execution_count": 38,
   "id": "ce469eee-0b9e-4bd7-b8cf-4b4f1597d484",
   "metadata": {},
   "outputs": [],
   "source": [
    "def extractData(data, pattern):\n",
    "    processor = re.compile('(\\/StudijniProgramy/PredmetDetail\\/([0-9]+)\\/([^\\\"]+))')\n",
    "    items = processor.findall(textData)\n",
    "    for item in items:\n",
    "        yield item"
   ]
  },
  {
   "cell_type": "markdown",
   "id": "d5355641-357e-4683-beb4-ace85e6331e5",
   "metadata": {},
   "source": [
    "jednotlive prvky tuple pojmenujeme, chceme json"
   ]
  },
  {
   "cell_type": "code",
   "execution_count": 39,
   "id": "85766216-a193-4f73-953a-ee2485607fea",
   "metadata": {},
   "outputs": [
    {
     "ename": "SyntaxError",
     "evalue": "invalid syntax (1146249338.py, line 15)",
     "output_type": "error",
     "traceback": [
      "\u001b[0;36m  Cell \u001b[0;32mIn [39], line 15\u001b[0;36m\u001b[0m\n\u001b[0;31m    if len(occurence) == 0:\u001b[0m\n\u001b[0m                          ^\u001b[0m\n\u001b[0;31mSyntaxError\u001b[0m\u001b[0;31m:\u001b[0m invalid syntax\n"
     ]
    }
   ],
   "source": [
    "def nameTuple(data, names): #spoji jmeno a data v jednom radku\n",
    "    result = {}\n",
    "    for key, value in zip(names, data):\n",
    "        result[key] = value\n",
    "    return result\n",
    "\n",
    "def nameAllRows(data, names):\n",
    "    for row in data:\n",
    "        yield nameTuple(row, names)\n",
    "\n",
    "def appendAttributes(data):\n",
    "    for row in data:\n",
    "        for key, value in patterns.items():\n",
    "            occurence = (re.findall(createPattern(value, row['html'])\n",
    "            if len(occurence) == 0:\n",
    "                pass\n",
    "            else:                        \n",
    "                attValue = occurance[\n",
    "            row[key] = next(occurence, None)\n",
    "        yield row        \n",
    "        \n",
    "baseUrl = \"https://apl.unob.cz/StudijniProgramy/Studium/4/Kyberneticka-bezpecnost\"\n",
    "pattern = '(\\/StudijniProgramy/PredmetDetail\\/([0-9]+)\\/([^\\\"]+))'\n",
    "names = [\"url\",\"id\",\"name\"]\n",
    "\n",
    "data = await getData(baseUrl)\n",
    "tuples = extractData(data, pattern)\n",
    "jsons = nameAllRows(tuples, names)\n",
    "\n",
    "for item in jsons:\n",
    "    print(item)\n",
    "    "
   ]
  },
  {
   "cell_type": "markdown",
   "id": "5c2aebc6-622b-46a0-a3ea-995ee555cadc",
   "metadata": {},
   "source": [
    "hledame informace ke kazdemu studijnimu programu, musime propojit url studijni programy s url podrobnostmi k prodmetu"
   ]
  },
  {
   "cell_type": "code",
   "execution_count": null,
   "id": "f4812abd-e336-4813-984e-e7c8050dd7bf",
   "metadata": {},
   "outputs": [],
   "source": [
    "def countUp(c):\n",
    "    for index in range(c):\n",
    "        print('CountUp',index)\n",
    "        yield index\n",
    "        \n",
    "def addNumber(dataFlow, number):\n",
    "    for row in dataFlow:\n",
    "        print('addNumber', row)\n",
    "        yield row + number\n",
    "        \n",
    "result = addNumber(countUp(10),100)\n",
    "print('going to transform into list')\n",
    "print(list(result))"
   ]
  },
  {
   "cell_type": "code",
   "execution_count": null,
   "id": "444bea20-c14b-42c1-b36b-9fe2c352cdf5",
   "metadata": {},
   "outputs": [],
   "source": [
    "\n",
    "#vezme url, zmeni, ulozi\n",
    "def modifyUrl(data, urlPrefix):\n",
    "    for row in data:\n",
    "        row['url'] = 'https://apl.unob.cz' + row['url']\n",
    "        yield row #do vystupniho proudu pridej tuto polozku\n",
    "        \n",
    "async def getPages(data):\n",
    "    result = []\n",
    "    for row in data:\n",
    "        text = await getData(row['url'])\n",
    "        row['html'] = text[:100] #vypise jen prvnich 100 znaku\n",
    "        result.append(row)\n",
    "    return result\n",
    "\n",
    "baseUrl = \"https://apl.unob.cz/StudijniProgramy/Studium/4/Kyberneticka-bezpecnost\"\n",
    "pattern = '(\\/StudijniProgramy/PredmetDetail\\/([0-9]+)\\/([^\\\"]+))'\n",
    "names = [\"url\",\"id\",\"name\"]\n",
    "\n",
    "data = await getData(baseUrl)\n",
    "tuples = extractData(data, pattern)\n",
    "jsons = nameAllRows(tuples, names)\n",
    "jsonsEx = modifyUrl(jsons, 'https://apl.unob.cz')\n",
    "jsonsWithHTML = await getPages(jsonsEx)\n",
    "jsonsWithAttributes = appendAttributes(jsonsWithHTML)\n",
    "for item in jsonsWithHTML:\n",
    "    print(item)"
   ]
  },
  {
   "cell_type": "markdown",
   "id": "f2581476-cfcd-4119-be3c-22a939c00eab",
   "metadata": {},
   "source": [
    "když před url přidám \"source-view:\" tak se mi zobrazí celá v html"
   ]
  },
  {
   "cell_type": "code",
   "execution_count": null,
   "id": "53d03a9e-e0c6-43d7-9e9e-3c134203dfba",
   "metadata": {},
   "outputs": [],
   "source": [
    "stm = '<td>Předmět profilujícího základu</td>[^<]+<td>([^<]+)</td>'\n",
    "\n",
    "def createPattern(attributeName):\n",
    "    return f'<td>{attributeName}</td>[^<]+<td>([^<]+)</td>'\n",
    "\n",
    "patterns = {\n",
    "    \"name\":\"Náezv předmětu\",\n",
    "    \"grant\":\"Garant\",\n",
    "    \"department\":\"Katedra\",\n",
    "    \"spec\":\"Předmět specializace\"\n",
    "    #atd\n",
    "}\n",
    "\n",
    "def appendAttributes(data):\n",
    "    for row in data:\n",
    "        for key, value in patterns.items():\n",
    "            occurence = (re.findall(createPattern(value, row['html'])\n",
    "            row[key] = next(occurence, None)\n",
    "        yield row\n"
   ]
  },
  {
   "cell_type": "markdown",
   "id": "6e0dced2-dbdb-4532-bac7-b1d1859e5500",
   "metadata": {},
   "source": [
    "# Lekce 3\n",
    "kdyz je tam await tak je funkce pozastavena\n",
    "kooperativni multitasking - bezpecne prepinani, pta se\n",
    "preemptivni - dochazi k prepinani (vícevláknové programování) nepta se, vezme"
   ]
  },
  {
   "cell_type": "code",
   "execution_count": null,
   "id": "cb06f3a2-763f-465d-bdd6-54f957da7493",
   "metadata": {
    "tags": []
   },
   "outputs": [],
   "source": [
    "def makeItAwaitable(item):\n",
    "    return item\n",
    "#vraci item ???\n",
    "\n",
    "def asyncRange(count):\n",
    "    for item in range(count): #range - vraci list od 0 do count ... generator\n",
    "        yield item\n",
    "#vytvari asynchronni generator\n",
    "\n",
    "def operation(data):\n",
    "    for row in data:\n",
    "        yield row + 1\n",
    "#prochazi vsechny radky v datech, ceka na kazdou hodnotu \"awaitne\", demonstrace operace\n",
    "\n",
    "def asyncList(data): \n",
    "    result = []\n",
    "    for item in data:\n",
    "        result.append(item)\n",
    "    return result\n",
    "#list uklada data, vstup iterovatelny objekt (generator), vytup list\n",
    "# u asynch. vytup je\n",
    "\n",
    "def asyncClose(data):\n",
    "    for item in data:\n",
    "        continue\n",
    "#ukonci \"awatovani\", umozni asynch generator vycerpat\n",
    "\n",
    "\n",
    "def asyncPrint(data):\n",
    "    for item in data:\n",
    "        print(item)\n",
    "        yield item\n",
    "\n",
    "asyncClose(asyncPrint(operation(asyncRange(3))))\n",
    "#"
   ]
  },
  {
   "cell_type": "code",
   "execution_count": 40,
   "id": "6c581f6f-8c69-4ae0-8c63-d9df755f4ea1",
   "metadata": {
    "tags": []
   },
   "outputs": [],
   "source": [
    "async def makeItAwaitable(item):\n",
    "    return item\n",
    "#vraci item ???"
   ]
  },
  {
   "cell_type": "code",
   "execution_count": 41,
   "id": "9456b5b3-3836-490f-8d51-775705292d20",
   "metadata": {
    "tags": []
   },
   "outputs": [],
   "source": [
    "async def asyncRange(count):\n",
    "    for item in range(count): #range - vraci list od 0 do count ... generator\n",
    "        yield item\n",
    "#vytvari asynchronni generator"
   ]
  },
  {
   "cell_type": "code",
   "execution_count": 42,
   "id": "c9bca90e-b323-46a3-abe5-d8099323a54b",
   "metadata": {},
   "outputs": [],
   "source": [
    "async def operation(data):\n",
    "    async for row in data:\n",
    "        yield row + 1\n",
    "#prochazi vsechny radky v datech, ceka na kazdou hodnotu \"awaitne\", demonstrace operace"
   ]
  },
  {
   "cell_type": "code",
   "execution_count": 43,
   "id": "10d3f3c2-1cd2-4d07-8954-f5814500660c",
   "metadata": {},
   "outputs": [],
   "source": [
    "async def asyncList(data): \n",
    "    result = []\n",
    "    async for item in data:\n",
    "        result.append(item)\n",
    "    return result\n",
    "#list uklada data, vstup iterovatelny objekt (generator), vytup list\n",
    "# u asynch. vytup je"
   ]
  },
  {
   "cell_type": "code",
   "execution_count": 44,
   "id": "37dca2c6-91d0-4a3c-b5ab-1a64b12e163d",
   "metadata": {},
   "outputs": [],
   "source": [
    "async def asyncClose(data):\n",
    "    async for item in data:\n",
    "        continue\n",
    "#ukonci \"awatovani\", umozni asynch generator vycerpat\n"
   ]
  },
  {
   "cell_type": "code",
   "execution_count": 45,
   "id": "bef4e283-42b2-44c9-ab5f-1bebd5e51db6",
   "metadata": {},
   "outputs": [],
   "source": [
    "async def asyncPrint(data):\n",
    "    async for item in data:\n",
    "        print(item)\n",
    "        yield item"
   ]
  },
  {
   "cell_type": "code",
   "execution_count": 46,
   "id": "71467582-7cf6-40b1-9904-ca8a2c2559ae",
   "metadata": {},
   "outputs": [
    {
     "name": "stdout",
     "output_type": "stream",
     "text": [
      "1\n",
      "2\n",
      "3\n"
     ]
    }
   ],
   "source": [
    "await asyncClose(asyncPrint(operation(asyncRange(3))))\n",
    "#"
   ]
  },
  {
   "cell_type": "code",
   "execution_count": 47,
   "id": "befac4e8-c2a6-43b3-aa44-bdb6905c6c8e",
   "metadata": {},
   "outputs": [
    {
     "name": "stdout",
     "output_type": "stream",
     "text": [
      "[1, 2, 3]\n"
     ]
    }
   ],
   "source": [
    "result = await asyncList(operation(asyncRange(3)))\n",
    "print(result)"
   ]
  },
  {
   "cell_type": "code",
   "execution_count": null,
   "id": "7e2d8701-4b27-47a1-bc74-8467ecaa2f5f",
   "metadata": {},
   "outputs": [],
   "source": [
    "def singleCall(asyncFunc): #vezme funkci a nahradí ji jinou funkcí\n",
    "    awaitedResults = {}\n",
    "    async def resultFunc(singleParam):\n",
    "        result = awaitedResults.get(singleParam, None)\n",
    "        if result is None: #zname vysledek? ne:\n",
    "            result = await asyncFunc(singleParam) #ziskame ho\n",
    "            awaitedResults[singleParam] = result #ulozime ho\n",
    "        return result\n",
    "    return resultFunc\n",
    "#umoznuje cacheovani"
   ]
  },
  {
   "cell_type": "code",
   "execution_count": null,
   "id": "a24a0a48-abc3-4ec8-9073-2570648f97a5",
   "metadata": {},
   "outputs": [],
   "source": [
    "import aiohttp\n",
    "baseUrl = \"https://apl.unob.cz/StudijniProgramy/Studium/4/Kyberneticka-bezpecnost\"\n",
    "\n",
    "@singleCall\n",
    "async def getData(baseUrl):\n",
    "    async with aiohttp.ClientSession() as session:\n",
    "        async with session.get(baseUrl) as resp:\n",
    "            htmlData = await resp.text() #ulozeni html\n",
    "    return htmlData"
   ]
  },
  {
   "cell_type": "code",
   "execution_count": null,
   "id": "4195e5ef-5419-4b99-a684-863358791d6f",
   "metadata": {},
   "outputs": [],
   "source": [
    "def extractData(data, pattern):\n",
    "    processor = re.compile(pattern)\n",
    "    items = processor.findall(data)\n",
    "    for item in items:\n",
    "        yield item"
   ]
  },
  {
   "cell_type": "code",
   "execution_count": null,
   "id": "bb9c2ecf-088c-46f9-8396-3cf72ce62fe6",
   "metadata": {},
   "outputs": [],
   "source": [
    "def nameTuple(data, names): #spoji jmeno a data v jednom radku\n",
    "    result = {}\n",
    "    for key, value in zip(names, data):\n",
    "        result[key] = value\n",
    "    return result\n",
    "\n",
    "def nameAllRows(data, names):\n",
    "    for row in data:\n",
    "        yield nameTuple(row, names)"
   ]
  },
  {
   "cell_type": "code",
   "execution_count": 50,
   "id": "435c7da5-4760-4f84-b194-d3b9ddec9e55",
   "metadata": {},
   "outputs": [
    {
     "ename": "SyntaxError",
     "evalue": "incomplete input (3570961758.py, line 36)",
     "output_type": "error",
     "traceback": [
      "\u001b[0;36m  Cell \u001b[0;32mIn [50], line 36\u001b[0;36m\u001b[0m\n\u001b[0;31m    \u001b[0m\n\u001b[0m    ^\u001b[0m\n\u001b[0;31mSyntaxError\u001b[0m\u001b[0;31m:\u001b[0m incomplete input\n"
     ]
    }
   ],
   "source": [
    "import asyncio\n",
    "\n",
    "async def mofifyUrl(data, urlPrefix):\n",
    "    async for row in data:\n",
    "        row['url'] = urlPrefix + row['url']\n",
    "        yield row\n",
    "        \n",
    "async def getPages(data):\n",
    "    async for orw in data:\n",
    "        text = await getData(row['url'])\n",
    "        \n",
    "\n",
    "        \n",
    "def createPattern(attributeName):\n",
    "    return f'<td>{attributeName}</td>[^<]+<td>([^<]+)</td>'\n",
    "patterns = {\n",
    "    \"name\":\"Náezv předmětu\",\n",
    "    \"grant\":\"Garant\",\n",
    "    \"department\":\"Katedra\",\n",
    "    \"spec\":\"Předmět specializace\"\n",
    "    #atd\n",
    "}\n",
    "\n",
    "async def appendAttributes(data):\n",
    "    async for row in data:\n",
    "        for key, value in patterns.items():\n",
    "            occurence = (re.findall(createPattern(value, row['html'])))\n",
    "            if len(occurence) == 0:\n",
    "                attValue = None\n",
    "            else:                        \n",
    "                attValue = occurance[0]\n",
    "            row[key] = attValue\n",
    "        yield row \n",
    "                                    \n",
    "async def removeAttribute(data, name):\n",
    "    async for item in data:\n",
    "        del item [name]\n",
    "        yield item"
   ]
  },
  {
   "cell_type": "markdown",
   "id": "c4be1ce2-97f7-4725-8442-e81457ce4b52",
   "metadata": {},
   "source": [
    "# Generátory"
   ]
  },
  {
   "cell_type": "code",
   "execution_count": null,
   "id": "8edb5b05-1923-462a-aa7a-4a8dda8599f7",
   "metadata": {},
   "outputs": [],
   "source": [
    "#stavovy automat\n",
    "class StateMachine:\n",
    "    def __init__ (self, param):\n",
    "        self.params = params\n",
    "        self.state = 0\n",
    "    def __iter__(self):\n",
    "        return self\n",
    "    \n",
    "    def __next__ (self):\n",
    "        self.state += 1\n",
    "        if self.state == 1:\n",
    "            return 'A'\n",
    "        elif self.state == 2:\n",
    "            return 'hoj'\n",
    "        elif self.state == 3:\n",
    "            return ' '\n",
    "        elif self.state == 4:\n",
    "            return self.params\n",
    "        else:\n",
    "            raise StopIteration()\n",
    "        return None\n",
    "        "
   ]
  },
  {
   "cell_type": "code",
   "execution_count": 53,
   "id": "e3cc6766-037b-4290-890b-a125ce43202a",
   "metadata": {},
   "outputs": [
    {
     "name": "stdout",
     "output_type": "stream",
     "text": [
      "A\n",
      "hoj\n",
      " \n",
      "Pepo\n"
     ]
    }
   ],
   "source": [
    "def StateMachineFunc(params):\n",
    "    yield 'A'\n",
    "    yield 'hoj'\n",
    "    yield ' '\n",
    "    yield params\n",
    "    pass\n",
    "\n",
    "stateMachine = StateMachineFunc('Pepo')\n",
    "for item in stateMachine:\n",
    "    print(item)\n"
   ]
  },
  {
   "cell_type": "code",
   "execution_count": 59,
   "id": "91745786-c104-4482-8bb6-cdba373750b5",
   "metadata": {},
   "outputs": [],
   "source": [
    "def myRange(start=0, step=1, stop=10):\n",
    "    current = start\n",
    "    while True:\n",
    "        print('going to yield', current)\n",
    "        yield current\n",
    "        current = current + step\n",
    "        if current >= stop:\n",
    "            break"
   ]
  },
  {
   "cell_type": "code",
   "execution_count": 56,
   "id": "0850fdc6-f673-4e3b-8509-d9d40f985523",
   "metadata": {},
   "outputs": [],
   "source": [
    "def printAll(data, comment=\"\"):\n",
    "    for item in data:\n",
    "        print(comment, item)\n",
    "        yield item"
   ]
  },
  {
   "cell_type": "code",
   "execution_count": 57,
   "id": "9dbd39d1-a398-4127-bbb5-3f0d733f5f82",
   "metadata": {},
   "outputs": [],
   "source": [
    "def close(data):\n",
    "    for item in data:\n",
    "        continue"
   ]
  },
  {
   "cell_type": "code",
   "execution_count": 60,
   "id": "a6933581-59a8-40e8-836f-6f7d3c1ca3fa",
   "metadata": {},
   "outputs": [
    {
     "name": "stdout",
     "output_type": "stream",
     "text": [
      "going to yield 0\n",
      "=> 0\n",
      "going to yield 1\n",
      "=> 1\n",
      "going to yield 2\n",
      "=> 2\n",
      "going to yield 3\n",
      "=> 3\n",
      "going to yield 4\n",
      "=> 4\n",
      "going to yield 5\n",
      "=> 5\n",
      "going to yield 6\n",
      "=> 6\n",
      "going to yield 7\n",
      "=> 7\n",
      "going to yield 8\n",
      "=> 8\n",
      "going to yield 9\n",
      "=> 9\n"
     ]
    }
   ],
   "source": [
    "gen1 = myRange(stop = 10)\n",
    "gen1 = printAll(gen1, '=>')\n",
    "gen1 = close(gen1)"
   ]
  },
  {
   "cell_type": "code",
   "execution_count": null,
   "id": "69abadbe-21c9-43d3-8798-8054e2a918b7",
   "metadata": {},
   "outputs": [],
   "source": []
  }
 ],
 "metadata": {
  "kernelspec": {
   "display_name": "Python 3 (ipykernel)",
   "language": "python",
   "name": "python3"
  },
  "language_info": {
   "codemirror_mode": {
    "name": "ipython",
    "version": 3
   },
   "file_extension": ".py",
   "mimetype": "text/x-python",
   "name": "python",
   "nbconvert_exporter": "python",
   "pygments_lexer": "ipython3",
   "version": "3.10.6"
  }
 },
 "nbformat": 4,
 "nbformat_minor": 5
}
