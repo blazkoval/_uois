{
 "cells": [
  {
   "cell_type": "code",
   "execution_count": null,
   "id": "87403284-0a49-480d-858d-b6b0f984372d",
   "metadata": {},
   "outputs": [],
   "source": [
    "baseUrl = \"https://apl.unob.cz/StudijniProgramy/Studium/4/Cyber-Security?culture=cs-CZ\""
   ]
  },
  {
   "cell_type": "markdown",
   "id": "065cae38-9165-4a28-800f-64460d3ae3ba",
   "metadata": {},
   "source": [
    "https://docs.aiohttp.org/en/stable/client_quickstart.html"
   ]
  },
  {
   "cell_type": "code",
   "execution_count": null,
   "id": "983648ec-0eee-4eea-a26a-ded36985445f",
   "metadata": {},
   "outputs": [],
   "source": [
    "import aiohttp\n",
    "import asyncio"
   ]
  },
  {
   "cell_type": "code",
   "execution_count": null,
   "id": "75b33e89-bf79-42a2-b723-4c38701f83d5",
   "metadata": {},
   "outputs": [],
   "source": [
    "async with aiohttp.ClientSession() as session:\n",
    "    async with session.get(baseUrl) as resp:\n",
    "        print(resp.status)\n",
    "        htmlData = (await resp.text()) #ulozeni html"
   ]
  },
  {
   "cell_type": "code",
   "execution_count": null,
   "id": "280a005d-7284-412d-98e7-08c4683a3c67",
   "metadata": {},
   "outputs": [],
   "source": [
    "#prace s html:\n",
    "position = htmlData.find('<table') #hledam kde je v textu <table = zacatek tabulky\n",
    "positionEnd = htmlData.find('</table') #konec tabulky\n",
    "\n",
    "print(position, positionEnd)"
   ]
  },
  {
   "cell_type": "code",
   "execution_count": null,
   "id": "b0d01f03-3ff9-413b-8c7a-a8cc058062db",
   "metadata": {},
   "outputs": [],
   "source": []
  },
  {
   "cell_type": "code",
   "execution_count": null,
   "id": "63da6dc2-b049-47cf-9885-a96c27b77b42",
   "metadata": {},
   "outputs": [],
   "source": [
    "tableData = htmlData[position:positionEnd]\n",
    "rows = tableData.split('<tr')\n",
    "for row in rows:\n",
    "    print(row.replace('\\n',''))"
   ]
  },
  {
   "cell_type": "markdown",
   "id": "5a74ebe7-b219-4ae4-a01f-fe9e55776f92",
   "metadata": {},
   "source": [
    "chceme vědět, když se určitá fce někde v kodu zavola"
   ]
  },
  {
   "cell_type": "markdown",
   "id": "a9f85919-6c52-49e9-a375-c0fe418d6600",
   "metadata": {},
   "source": [
    "pracujeme s daty z internetu, není žádoucí data stahovat opakovaně. V případě synchronní bychom použili dekorátor @cache, pro asynchronní si vyvorříme fci sami\n",
    "tzv. dekorování:"
   ]
  },
  {
   "cell_type": "code",
   "execution_count": null,
   "id": "6fcbf154-4396-4d65-ac12-e30b0d85b781",
   "metadata": {},
   "outputs": [],
   "source": [
    "#ziskavani html stranek optimalizuje, nemusi se stahovat znovu a znovu\n",
    "async def singleCall(asyncFunc): #vezme funkci a nahradí ji jinou funkcí\n",
    "    awaitedResults = {}\n",
    "    async def resultFunc(singleParam):\n",
    "        result = awaitedResults.get(singleParam, None)\n",
    "        if result is None: #zname vysledek? ne:\n",
    "            result = await asyncFunc(singleParam) #ziskame ho\n",
    "            awaitedResults[singleParam] = result #ulozime ho\n",
    "        return result\n",
    "    return resultFunc"
   ]
  },
  {
   "cell_type": "code",
   "execution_count": null,
   "id": "3c79648f-6b89-44ab-b28d-36fb4955c0e1",
   "metadata": {},
   "outputs": [],
   "source": [
    "import aiohttp\n",
    "baseUrl = \"https://apl.unob.cz/StudijniProgramy/Studium/4/Kyberneticka-bezpecnost\"\n",
    "\n",
    "async def getData(baseUrl):\n",
    "    async with aiohttp.ClientSession() as session:\n",
    "        async with session.get(baseUrl) as resp:\n",
    "            htmlData = (await resp.text()) #ulozeni html\n",
    "    return htmlData"
   ]
  },
  {
   "cell_type": "markdown",
   "id": "ff3410bc-28d3-4c2b-8c97-a5ceae14b766",
   "metadata": {},
   "source": [
    "V získané stránce si najdeme všechny výskyty vzoru. Všimněte si strukuty na výstupu (tuple)"
   ]
  },
  {
   "cell_type": "code",
   "execution_count": null,
   "id": "948657e1-7268-4b6e-87bb-f6df4c4de4bd",
   "metadata": {},
   "outputs": [],
   "source": [
    "import re\n",
    "textData = await getData(baseUrl)\n",
    "#print(textData[5000:6000])\n",
    "processor = re.compile('(\\/StudijniProgramy/PredmetDetail\\/([0-9]+)\\/([^\\\"]+))') #najdi mi v textu vyraz, ktery je v zavorce\n",
    "# [0-9]+ ... libovolne cislo s libovolnym poctem opakeovani\n",
    "# \\      ... krome\n",
    "# [^\\\"]  ... \n",
    "items = processor.findall(textData)\n",
    "for item in items:\n",
    "    print(item)"
   ]
  },
  {
   "cell_type": "markdown",
   "id": "dd04b3a6-a6c9-4638-a705-08e4e27615da",
   "metadata": {},
   "source": [
    "pro lepší použití vyvtoříme funkci:"
   ]
  },
  {
   "cell_type": "code",
   "execution_count": null,
   "id": "ce469eee-0b9e-4bd7-b8cf-4b4f1597d484",
   "metadata": {},
   "outputs": [],
   "source": [
    "def extractData(data, pattern):\n",
    "    processor = re.compile('(\\/StudijniProgramy/PredmetDetail\\/([0-9]+)\\/([^\\\"]+))')\n",
    "    items = processor.findall(textData)\n",
    "    for item in items:\n",
    "        yield item"
   ]
  },
  {
   "cell_type": "markdown",
   "id": "d5355641-357e-4683-beb4-ace85e6331e5",
   "metadata": {},
   "source": [
    "jednotlive prvky tuple pojmenujeme, chceme json"
   ]
  },
  {
   "cell_type": "code",
   "execution_count": null,
   "id": "85766216-a193-4f73-953a-ee2485607fea",
   "metadata": {},
   "outputs": [],
   "source": [
    "def nameTuple(data, names): #spoji jmeno a data v jednom radku\n",
    "    result = {}\n",
    "    for key, value in zip(names, data):\n",
    "        result[key] = value\n",
    "    return result\n",
    "\n",
    "def nameAllRows(data, names):\n",
    "    for row in data:\n",
    "        yield nameTuple(row, names)\n",
    "\n",
    "baseUrl = \"https://apl.unob.cz/StudijniProgramy/Studium/4/Kyberneticka-bezpecnost\"\n",
    "pattern = '(\\/StudijniProgramy/PredmetDetail\\/([0-9]+)\\/([^\\\"]+))'\n",
    "names = [\"url\",\"id\",\"name\"]\n",
    "\n",
    "data = await getData(baseUrl)\n",
    "tuples = extractData(data, pattern)\n",
    "jsons = nameAllRows(data, names)\n",
    "\n",
    "for item in jsons:\n",
    "    print(item)\n",
    "    "
   ]
  },
  {
   "cell_type": "code",
   "execution_count": null,
   "id": "d9ec466f-c6d1-45eb-b27e-294b03d189fe",
   "metadata": {},
   "outputs": [],
   "source": []
  }
 ],
 "metadata": {
  "kernelspec": {
   "display_name": "Python 3 (ipykernel)",
   "language": "python",
   "name": "python3"
  },
  "language_info": {
   "codemirror_mode": {
    "name": "ipython",
    "version": 3
   },
   "file_extension": ".py",
   "mimetype": "text/x-python",
   "name": "python",
   "nbconvert_exporter": "python",
   "pygments_lexer": "ipython3",
   "version": "3.10.6"
  }
 },
 "nbformat": 4,
 "nbformat_minor": 5
}
