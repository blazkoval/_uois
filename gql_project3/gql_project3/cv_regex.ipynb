{
 "cells": [
  {
   "cell_type": "code",
   "execution_count": null,
   "id": "87403284-0a49-480d-858d-b6b0f984372d",
   "metadata": {},
   "outputs": [],
   "source": [
    "baseUrl = \"https://apl.unob.cz/StudijniProgramy/Studium/4/Cyber-Security?culture=cs-CZ\""
   ]
  },
  {
   "cell_type": "markdown",
   "id": "065cae38-9165-4a28-800f-64460d3ae3ba",
   "metadata": {},
   "source": [
    "https://docs.aiohttp.org/en/stable/client_quickstart.html"
   ]
  },
  {
   "cell_type": "code",
   "execution_count": null,
   "id": "983648ec-0eee-4eea-a26a-ded36985445f",
   "metadata": {},
   "outputs": [],
   "source": [
    "import aiohttp\n",
    "import asyncio"
   ]
  },
  {
   "cell_type": "code",
   "execution_count": 15,
   "id": "75b33e89-bf79-42a2-b723-4c38701f83d5",
   "metadata": {},
   "outputs": [
    {
     "name": "stdout",
     "output_type": "stream",
     "text": [
      "200\n"
     ]
    }
   ],
   "source": [
    "async with aiohttp.ClientSession() as session:\n",
    "    async with session.get(baseUrl) as resp:\n",
    "        print(resp.status)\n",
    "        htmlData = (await resp.text()) #ulozeni html"
   ]
  },
  {
   "cell_type": "code",
   "execution_count": 24,
   "id": "280a005d-7284-412d-98e7-08c4683a3c67",
   "metadata": {},
   "outputs": [
    {
     "name": "stdout",
     "output_type": "stream",
     "text": [
      "2543\n"
     ]
    }
   ],
   "source": [
    "#prace s html:\n",
    "position = htmlData.find('<table') #hledam kde je v textu <table = zacatek tabulky\n",
    "positionEnd = htmlData.find('</table') #konec tabulky\n",
    "\n",
    "print(position)"
   ]
  },
  {
   "cell_type": "code",
   "execution_count": null,
   "id": "b0d01f03-3ff9-413b-8c7a-a8cc058062db",
   "metadata": {},
   "outputs": [],
   "source": []
  },
  {
   "cell_type": "code",
   "execution_count": 25,
   "id": "63da6dc2-b049-47cf-9885-a96c27b77b42",
   "metadata": {},
   "outputs": [
    {
     "ename": "SyntaxError",
     "evalue": "incomplete input (290689782.py, line 4)",
     "output_type": "error",
     "traceback": [
      "\u001b[0;36m  Cell \u001b[0;32mIn [25], line 4\u001b[0;36m\u001b[0m\n\u001b[0;31m    print(row.replace('\\n',)\u001b[0m\n\u001b[0m                            ^\u001b[0m\n\u001b[0;31mSyntaxError\u001b[0m\u001b[0;31m:\u001b[0m incomplete input\n"
     ]
    }
   ],
   "source": [
    "tableData = htmlData[position:positionEnd]\n",
    "rows = tableData.split('<tr')\n",
    "for row in rows:\n",
    "    print(row.replace('\\n',)"
   ]
  },
  {
   "cell_type": "code",
   "execution_count": null,
   "id": "6fcbf154-4396-4d65-ac12-e30b0d85b781",
   "metadata": {},
   "outputs": [],
   "source": []
  }
 ],
 "metadata": {
  "kernelspec": {
   "display_name": "Python 3 (ipykernel)",
   "language": "python",
   "name": "python3"
  },
  "language_info": {
   "codemirror_mode": {
    "name": "ipython",
    "version": 3
   },
   "file_extension": ".py",
   "mimetype": "text/x-python",
   "name": "python",
   "nbconvert_exporter": "python",
   "pygments_lexer": "ipython3",
   "version": "3.10.6"
  }
 },
 "nbformat": 4,
 "nbformat_minor": 5
}
